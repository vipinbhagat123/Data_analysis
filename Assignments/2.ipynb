{
 "cells": [
  {
   "cell_type": "code",
   "execution_count": 2,
   "id": "0874dbd8",
   "metadata": {},
   "outputs": [
    {
     "name": "stdout",
     "output_type": "stream",
     "text": [
      "One-dimensional arraly like object:\n",
      "0    10\n",
      "1    20\n",
      "2    30\n",
      "3    40\n",
      "4    50\n",
      "dtype: int64\n"
     ]
    }
   ],
   "source": [
    "# Write a pandas program to creae and displaya one dimensional array - like object containing an array of data using pandas module.\n",
    "import pandas as pd\n",
    "data = pd.Series([10,20,30,40,50])\n",
    "print(\"One-dimensional arraly like object:\")\n",
    "print(data)"
   ]
  },
  {
   "cell_type": "code",
   "execution_count": 3,
   "id": "ce816029",
   "metadata": {},
   "outputs": [
    {
     "name": "stdout",
     "output_type": "stream",
     "text": [
      "Converted python list: [100, 200, 300, 400, 500]\n",
      "Type of the list: <class 'list'>\n"
     ]
    }
   ],
   "source": [
    "# Write a Pandas program to convert a Panda module Series to Python list and it's type.\n",
    "\n",
    "data = pd.Series([100,200,300,400,500])\n",
    "data_list = data.tolist()\n",
    "print(\"Converted python list:\", data_list)\n",
    "print(\"Type of the list:\", type(data_list))"
   ]
  },
  {
   "cell_type": "code",
   "execution_count": 4,
   "id": "a54e0604",
   "metadata": {},
   "outputs": [
    {
     "name": "stdout",
     "output_type": "stream",
     "text": [
      "Addition of two Series:\n",
      "0    11\n",
      "1    22\n",
      "2    33\n",
      "3    44\n",
      "4    55\n",
      "dtype: int64\n",
      "\n",
      "Subtraction of two Series:\n",
      "0     9\n",
      "1    18\n",
      "2    27\n",
      "3    36\n",
      "4    45\n",
      "dtype: int64\n",
      "\n",
      "Multiplication of two Series:\n",
      "0     10\n",
      "1     40\n",
      "2     90\n",
      "3    160\n",
      "4    250\n",
      "dtype: int64\n",
      "\n",
      "Division of two Series:\n",
      "0    10.0\n",
      "1    10.0\n",
      "2    10.0\n",
      "3    10.0\n",
      "4    10.0\n",
      "dtype: float64\n"
     ]
    }
   ],
   "source": [
    "# 3. Write a Pandas program to add, subtract, multiple and divide two Pandas Series.\n",
    "\n",
    "# Creating two Pandas Series\n",
    "series1 = pd.Series([10, 20, 30, 40, 50])\n",
    "series2 = pd.Series([1, 2, 3, 4, 5])\n",
    "\n",
    "# Performing arithmetic operations\n",
    "addition = series1 + series2\n",
    "subtraction = series1 - series2\n",
    "multiplication = series1 * series2\n",
    "division = series1 / series2\n",
    "\n",
    "# Displaying the results\n",
    "print(\"Addition of two Series:\")\n",
    "print(addition)\n",
    "\n",
    "print(\"\\nSubtraction of two Series:\")\n",
    "print(subtraction)\n",
    "\n",
    "print(\"\\nMultiplication of two Series:\")\n",
    "print(multiplication)\n",
    "\n",
    "print(\"\\nDivision of two Series:\")\n",
    "print(division)\n"
   ]
  },
  {
   "cell_type": "code",
   "execution_count": 5,
   "id": "26f45199",
   "metadata": {},
   "outputs": [
    {
     "name": "stdout",
     "output_type": "stream",
     "text": [
      "Series1:\n",
      " 0     2\n",
      "1     4\n",
      "2     6\n",
      "3     8\n",
      "4    10\n",
      "dtype: int64\n",
      "\n",
      "Series2:\n",
      " 0     1\n",
      "1     3\n",
      "2     5\n",
      "3     7\n",
      "4    10\n",
      "dtype: int64\n",
      "\n",
      "Element-wise comparison (Greater than):\n",
      "0     True\n",
      "1     True\n",
      "2     True\n",
      "3     True\n",
      "4    False\n",
      "dtype: bool\n",
      "\n",
      "Element-wise comparison (Less than):\n",
      "0    False\n",
      "1    False\n",
      "2    False\n",
      "3    False\n",
      "4    False\n",
      "dtype: bool\n",
      "\n",
      "Element-wise comparison (Equal):\n",
      "0    False\n",
      "1    False\n",
      "2    False\n",
      "3    False\n",
      "4     True\n",
      "dtype: bool\n"
     ]
    }
   ],
   "source": [
    "#4. Write a Pandas program to compare the elements of the two Pandas Series.\n",
    "# Sample Series: [2, 4, 6, 8, 10], [1, 3, 5, 7, 10]\n",
    "\n",
    "import pandas as pd\n",
    "\n",
    "# Creating the sample Series\n",
    "series1 = pd.Series([2, 4, 6, 8, 10])\n",
    "series2 = pd.Series([1, 3, 5, 7, 10])\n",
    "\n",
    "# Comparing elements\n",
    "print(\"Series1:\\n\", series1)\n",
    "print(\"\\nSeries2:\\n\", series2)\n",
    "\n",
    "print(\"\\nElement-wise comparison (Greater than):\")\n",
    "print(series1 > series2)\n",
    "\n",
    "print(\"\\nElement-wise comparison (Less than):\")\n",
    "print(series1 < series2)\n",
    "\n",
    "print(\"\\nElement-wise comparison (Equal):\")\n",
    "print(series1 == series2)\n"
   ]
  },
  {
   "cell_type": "code",
   "execution_count": 6,
   "id": "f7ae12c0",
   "metadata": {},
   "outputs": [
    {
     "name": "stdout",
     "output_type": "stream",
     "text": [
      "Converted series:\n",
      "a    100\n",
      "b    200\n",
      "c    300\n",
      "d    400\n",
      "e    800\n",
      "dtype: int64\n"
     ]
    }
   ],
   "source": [
    "# 5. Write a Pandas program to convert a dictionary to a Pandas Series.\n",
    "# Sample Series:\n",
    "# Original dictionary:\n",
    "# {'a': 100, 'b': 200, 'c': 300, 'd': 400, 'e': 800}\n",
    "# Converted series:\n",
    "# a    100\n",
    "# b    200\n",
    "# c    300\n",
    "# d    400\n",
    "# e    800\n",
    "# dtype: int64\n",
    "\n",
    "import pandas as pd\n",
    "\n",
    "# Creating the original dictionary\n",
    "data_dict = {'a': 100, 'b': 200, 'c': 300, 'd': 400, 'e': 800}\n",
    "\n",
    "# Converting the dictionary to a Pandas Series\n",
    "data_series = pd.Series(data_dict)\n",
    "\n",
    "# Displaying the converted series\n",
    "print(\"Converted series:\")\n",
    "print(data_series)\n"
   ]
  },
  {
   "cell_type": "code",
   "execution_count": 7,
   "id": "831e4f51",
   "metadata": {},
   "outputs": [
    {
     "name": "stdout",
     "output_type": "stream",
     "text": [
      "Converted Pandas series:\n",
      "0    10\n",
      "1    20\n",
      "2    30\n",
      "3    40\n",
      "4    50\n",
      "dtype: int32\n"
     ]
    }
   ],
   "source": [
    "# 6. Write a Pandas program to convert a NumPy array to a Pandas Series.\n",
    "# Sample Series:\n",
    "# NumPy array:\n",
    "# [10 20 30 40 50]\n",
    "# Converted Pandas series:\n",
    "# 0    10\n",
    "# 1    20\n",
    "# 2    30\n",
    "# 3    40\n",
    "# 4    50\n",
    "# dtype: int64\n",
    "\n",
    "import pandas as pd\n",
    "import numpy as np\n",
    "\n",
    "# Creating a NumPy array\n",
    "numpy_array = np.array([10, 20, 30, 40, 50])\n",
    "\n",
    "# Converting NumPy array to Pandas Series\n",
    "pandas_series = pd.Series(numpy_array)\n",
    "\n",
    "# Displaying the converted Series\n",
    "print(\"Converted Pandas series:\")\n",
    "print(pandas_series)\n"
   ]
  },
  {
   "cell_type": "code",
   "execution_count": 8,
   "id": "94737f21",
   "metadata": {},
   "outputs": [
    {
     "name": "stdout",
     "output_type": "stream",
     "text": [
      "Original Data Series:\n",
      "0       100\n",
      "1       200\n",
      "2    python\n",
      "3    300.12\n",
      "4       400\n",
      "dtype: object\n",
      "\n",
      "Data Series after converting to numeric:\n",
      "0    100.00\n",
      "1    200.00\n",
      "2       NaN\n",
      "3    300.12\n",
      "4    400.00\n",
      "dtype: float64\n"
     ]
    }
   ],
   "source": [
    "# 7. Write a Pandas program to change the data type of a given column or a Series.\n",
    "# Sample Series:\n",
    "# Original Data Series:\n",
    "# 0       100\n",
    "# 1       200\n",
    "# 2    python\n",
    "# 3    300.12\n",
    "# 4       400\n",
    "# dtype: object\n",
    "# Change the said data type to numeric:\n",
    "# 0    100.00\n",
    "# 1    200.00\n",
    "# 2       NaN\n",
    "# 3    300.12\n",
    "# 4    400.00\n",
    "# dtype: float64\n",
    "\n",
    "import pandas as pd\n",
    "\n",
    "# Creating the original Series\n",
    "data = pd.Series([100, 200, 'python', 300.12, 400])\n",
    "\n",
    "# Displaying the original Series\n",
    "print(\"Original Data Series:\")\n",
    "print(data)\n",
    "\n",
    "# Converting the Series to numeric, forcing errors to NaN\n",
    "converted_data = pd.to_numeric(data, errors='coerce')\n",
    "\n",
    "# Displaying the converted Series\n",
    "print(\"\\nData Series after converting to numeric:\")\n",
    "print(converted_data)\n",
    "\n"
   ]
  },
  {
   "cell_type": "code",
   "execution_count": 9,
   "id": "dbf120ca",
   "metadata": {},
   "outputs": [
    {
     "name": "stdout",
     "output_type": "stream",
     "text": [
      "Original DataFrame:\n",
      "   col1  col2  col3\n",
      "0     1     4     7\n",
      "1     2     5     5\n",
      "2     3     6     8\n",
      "3     4     9    12\n",
      "4     7     5     1\n",
      "5    11     0    11\n",
      "\n",
      "1st column as a Series:\n",
      "0     1\n",
      "1     2\n",
      "2     3\n",
      "3     4\n",
      "4     7\n",
      "5    11\n",
      "Name: col1, dtype: int64\n",
      "<class 'pandas.core.series.Series'>\n"
     ]
    }
   ],
   "source": [
    "# 8. Write a Pandas program to convert the first column of a DataFrame as a Series.\n",
    "# Sample Output:\n",
    "# Original DataFrame\n",
    "#    col1  col2  col3\n",
    "# 0     1     4     7\n",
    "# 1     2     5     5\n",
    "# 2     3     6     8\n",
    "# 3     4     9    12\n",
    "# 4     7     5     1\n",
    "# 5    11     0    11\n",
    "# 1st column as a Series:\n",
    "# 0     1\n",
    "# 1     2\n",
    "# 2     3\n",
    "# 3     4\n",
    "# 4     7\n",
    "# 5    11\n",
    "# Name: col1, dtype: int64\n",
    "# <class 'pandas.core.series.Series'>\n",
    "\n",
    "import pandas as pd\n",
    "\n",
    "# Creating the DataFrame\n",
    "data = {\n",
    "    'col1': [1, 2, 3, 4, 7, 11],\n",
    "    'col2': [4, 5, 6, 9, 5, 0],\n",
    "    'col3': [7, 5, 8, 12, 1, 11]\n",
    "}\n",
    "df = pd.DataFrame(data)\n",
    "\n",
    "# Displaying the original DataFrame\n",
    "print(\"Original DataFrame:\")\n",
    "print(df)\n",
    "\n",
    "# Extracting the first column as a Series\n",
    "first_column_series = df['col1']\n",
    "\n",
    "# Displaying the Series and its type\n",
    "print(\"\\n1st column as a Series:\")\n",
    "print(first_column_series)\n",
    "print(type(first_column_series))\n"
   ]
  },
  {
   "cell_type": "code",
   "execution_count": 10,
   "id": "c51c9349",
   "metadata": {},
   "outputs": [
    {
     "name": "stdout",
     "output_type": "stream",
     "text": [
      "Original Data Series:\n",
      "0       100\n",
      "1       200\n",
      "2    python\n",
      "3    300.12\n",
      "4       400\n",
      "dtype: object\n",
      "\n",
      "Series to an array:\n",
      "[100 200 'python' 300.12 400]\n",
      "<class 'numpy.ndarray'>\n"
     ]
    }
   ],
   "source": [
    "# 9. Write a Pandas program to convert a given Series to an array.\n",
    "# Sample Output:\n",
    "# Original Data Series:\n",
    "# 0       100\n",
    "# 1       200\n",
    "# 2    python\n",
    "# 3    300.12\n",
    "# 4       400\n",
    "# dtype: object\n",
    "# Series to an array:\n",
    "# ['100' '200' 'python' '300.12' '400']\n",
    "# <class 'numpy.ndarray'>\n",
    "\n",
    "import pandas as pd\n",
    "\n",
    "# Creating the original Series\n",
    "data_series = pd.Series([100, 200, 'python', 300.12, 400])\n",
    "\n",
    "# Displaying the original Series\n",
    "print(\"Original Data Series:\")\n",
    "print(data_series)\n",
    "\n",
    "# Converting the Series to a NumPy array\n",
    "array_data = data_series.values\n",
    "\n",
    "# Displaying the array and its type\n",
    "print(\"\\nSeries to an array:\")\n",
    "print(array_data)\n",
    "print(type(array_data))\n"
   ]
  },
  {
   "cell_type": "code",
   "execution_count": 11,
   "id": "85d7ee4f",
   "metadata": {},
   "outputs": [
    {
     "name": "stdout",
     "output_type": "stream",
     "text": [
      "Original Series of list:\n",
      "0    [Red, Green, White]\n",
      "1           [Red, Black]\n",
      "2               [Yellow]\n",
      "dtype: object\n",
      "\n",
      "One Series:\n",
      "0       Red\n",
      "0     Green\n",
      "0     White\n",
      "1       Red\n",
      "1     Black\n",
      "2    Yellow\n",
      "dtype: object\n"
     ]
    }
   ],
   "source": [
    "# 10. Write a Pandas program to convert Series of lists to one Series.\n",
    "# Sample Output:\n",
    "# Original Series of list:\n",
    "# 0     [Red, Green, White]\n",
    "# 1           [Red, Black]\n",
    "# 2              [Yellow]\n",
    "# dtype: object\n",
    "# One Series:\n",
    "# 0       Red\n",
    "# 1     Green\n",
    "# 2     White\n",
    "# 3       Red\n",
    "# 4     Black\n",
    "# 5    Yellow\n",
    "# dtype: object\n",
    "\n",
    "import pandas as pd\n",
    "\n",
    "# Creating the original Series of lists\n",
    "series_of_lists = pd.Series([['Red', 'Green', 'White'], ['Red', 'Black'], ['Yellow']])\n",
    "\n",
    "# Displaying the original Series of lists\n",
    "print(\"Original Series of list:\")\n",
    "print(series_of_lists)\n",
    "\n",
    "# Converting the Series of lists to one Series\n",
    "one_series = series_of_lists.explode()\n",
    "\n",
    "# Displaying the converted Series\n",
    "print(\"\\nOne Series:\")\n",
    "print(one_series)\n"
   ]
  },
  {
   "cell_type": "code",
   "execution_count": 12,
   "id": "a7af8050",
   "metadata": {},
   "outputs": [
    {
     "name": "stdout",
     "output_type": "stream",
     "text": [
      "0    rED\n",
      "0      1\n",
      "0      3\n",
      "1      3\n",
      "1     23\n",
      "1     42\n",
      "dtype: object\n"
     ]
    }
   ],
   "source": [
    "k=pd.Series([['rED', 1,3],[3,23,42]])\n",
    "f=k.explode()\n",
    "print(f)"
   ]
  },
  {
   "cell_type": "code",
   "execution_count": 17,
   "id": "e7066e5b",
   "metadata": {},
   "outputs": [
    {
     "name": "stdout",
     "output_type": "stream",
     "text": [
      "0       100\n",
      "1       200\n",
      "3    300.12\n",
      "4       400\n",
      "2    python\n",
      "dtype: object\n"
     ]
    }
   ],
   "source": [
    "# 11. Write a Pandas program to sort a given Series.\n",
    "# Sample Output:\n",
    "# Original Data Series:\n",
    "# 0       100\n",
    "# 1       200\n",
    "# 2    python\n",
    "# 3    300.12\n",
    "# 4       400\n",
    "# dtype: object\n",
    "# Sorted Data Series:\n",
    "# 0     100\n",
    "# 1     200\n",
    "# 3    300.12\n",
    "# 4     400\n",
    "# 2    python\n",
    "# dtype: object\n",
    "\n",
    "import pandas as pd\n",
    "\n",
    "# Creating the original Series\n",
    "data_series = pd.Series([100, 200, 'python', 300.12, 400])\n",
    "k=data_series[pd.to_numeric(data_series, errors='coerce').sort_values().index]\n",
    "print(k)\n"
   ]
  },
  {
   "cell_type": "code",
   "execution_count": 22,
   "id": "b63713cf",
   "metadata": {},
   "outputs": [
    {
     "name": "stdout",
     "output_type": "stream",
     "text": [
      "Original Data Series:\n",
      "0       100\n",
      "1       200\n",
      "2    python\n",
      "3    300.12\n",
      "4       400\n",
      "dtype: object\n",
      "\n",
      "Data Series after adding some data:\n",
      "0       100\n",
      "1       200\n",
      "2    python\n",
      "3    300.12\n",
      "4       400\n",
      "5       500\n",
      "6       php\n",
      "dtype: object\n"
     ]
    }
   ],
   "source": [
    "# 12. Write a Pandas program to add some data to an existing Series.\n",
    "# Sample Output:\n",
    "# Original Data Series:\n",
    "# 0       100\n",
    "# 1       200\n",
    "# 2    python\n",
    "# 3    300.12\n",
    "# 4       400\n",
    "# dtype: object\n",
    "# Data Series after adding some data:\n",
    "# 0       100\n",
    "# 1       200\n",
    "# 2    python\n",
    "# 3    300.12\n",
    "# 4       400\n",
    "# 5       500\n",
    "# 6      php\n",
    "# dtype: object\n",
    "\n",
    "import pandas as pd\n",
    "\n",
    "# Creating the original Series\n",
    "data_series = pd.Series([100, 200, 'python', 300.12, 400])\n",
    "\n",
    "# Displaying the original Series\n",
    "print(\"Original Data Series:\")\n",
    "print(data_series)\n",
    "\n",
    "# Adding new data to the existing Series\n",
    "new_data = pd.Series([500, 'php'])\n",
    "\n",
    "# Concatenating the new data to the existing Series using pd.concat()\n",
    "data_series = pd.concat([data_series, new_data], ignore_index=True)\n",
    "\n",
    "# Displaying the updated Series\n",
    "print(\"\\nData Series after adding some data:\")\n",
    "print(data_series)\n"
   ]
  },
  {
   "cell_type": "code",
   "execution_count": null,
   "id": "87fa32d2",
   "metadata": {},
   "outputs": [],
   "source": []
  },
  {
   "cell_type": "code",
   "execution_count": null,
   "id": "7b8356c5",
   "metadata": {},
   "outputs": [],
   "source": []
  },
  {
   "cell_type": "code",
   "execution_count": null,
   "id": "4e918ed7",
   "metadata": {},
   "outputs": [],
   "source": []
  },
  {
   "cell_type": "code",
   "execution_count": null,
   "metadata": {},
   "outputs": [],
   "source": []
  },
  {
   "cell_type": "code",
   "execution_count": null,
   "id": "4920066d",
   "metadata": {},
   "outputs": [],
   "source": []
  },
  {
   "cell_type": "code",
   "execution_count": null,
   "id": "0b515e83",
   "metadata": {},
   "outputs": [],
   "source": []
  }
 ],
 "metadata": {
  "kernelspec": {
   "display_name": "Python 3",
   "language": "python",
   "name": "python3"
  },
  "language_info": {
   "codemirror_mode": {
    "name": "ipython",
    "version": 3
   },
   "file_extension": ".py",
   "mimetype": "text/x-python",
   "name": "python",
   "nbconvert_exporter": "python",
   "pygments_lexer": "ipython3",
   "version": "3.12.10"
  }
 },
 "nbformat": 4,
 "nbformat_minor": 5
}
