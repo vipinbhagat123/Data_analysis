{
 "cells": [
  {
   "cell_type": "code",
   "execution_count": 2,
   "id": "149324c1",
   "metadata": {},
   "outputs": [
    {
     "name": "stdout",
     "output_type": "stream",
     "text": [
      "Numpy Version: 1.26.4\n",
      "Build Dependencies:\n",
      "  blas:\n",
      "    detection method: pkgconfig\n",
      "    found: true\n",
      "    include directory: /c/opt/64/include\n",
      "    lib directory: /c/opt/64/lib\n",
      "    name: openblas64\n",
      "    openblas configuration: USE_64BITINT=1 DYNAMIC_ARCH=1 DYNAMIC_OLDER= NO_CBLAS=\n",
      "      NO_LAPACK= NO_LAPACKE= NO_AFFINITY=1 USE_OPENMP= SKYLAKEX MAX_THREADS=2\n",
      "    pc file directory: C:/opt/64/lib/pkgconfig\n",
      "    version: 0.3.23.dev\n",
      "  lapack:\n",
      "    detection method: internal\n",
      "    found: true\n",
      "    include directory: unknown\n",
      "    lib directory: unknown\n",
      "    name: dep3179274605568\n",
      "    openblas configuration: unknown\n",
      "    pc file directory: unknown\n",
      "    version: 1.26.4\n",
      "Compilers:\n",
      "  c:\n",
      "    commands: cl\n",
      "    linker: link\n",
      "    name: msvc\n",
      "    version: 19.29.30153\n",
      "  c++:\n",
      "    commands: cl\n",
      "    linker: link\n",
      "    name: msvc\n",
      "    version: 19.29.30153\n",
      "  cython:\n",
      "    commands: cython\n",
      "    linker: cython\n",
      "    name: cython\n",
      "    version: 3.0.8\n",
      "Machine Information:\n",
      "  build:\n",
      "    cpu: x86_64\n",
      "    endian: little\n",
      "    family: x86_64\n",
      "    system: windows\n",
      "  host:\n",
      "    cpu: x86_64\n",
      "    endian: little\n",
      "    family: x86_64\n",
      "    system: windows\n",
      "Python Information:\n",
      "  path: C:\\Users\\runneradmin\\AppData\\Local\\Temp\\cibw-run-g7slqwov\\cp312-win_amd64\\build\\venv\\Scripts\\python.exe\n",
      "  version: '3.12'\n",
      "SIMD Extensions:\n",
      "  baseline:\n",
      "  - SSE\n",
      "  - SSE2\n",
      "  - SSE3\n",
      "  found:\n",
      "  - SSSE3\n",
      "  - SSE41\n",
      "  - POPCNT\n",
      "  - SSE42\n",
      "  - AVX\n",
      "  - F16C\n",
      "  - FMA3\n",
      "  - AVX2\n",
      "  not found:\n",
      "  - AVX512F\n",
      "  - AVX512CD\n",
      "  - AVX512_SKX\n",
      "  - AVX512_CLX\n",
      "  - AVX512_CNL\n",
      "  - AVX512_ICL\n",
      "\n",
      "\n",
      "Numpy Build Configuration: None\n"
     ]
    }
   ],
   "source": [
    "# Write numpy program to get the numpy versiion and show numpy build configuration\n",
    "\n",
    "import numpy as np\n",
    "\n",
    "# get numpy version\n",
    "print(\"Numpy Version:\", np.__version__)\n",
    "\n",
    "# show Numpy build configuration\n",
    "print(\"\\nNumpy Build Configuration:\", np.show_config())"
   ]
  },
  {
   "cell_type": "code",
   "execution_count": 4,
   "id": "e116e955",
   "metadata": {},
   "outputs": [
    {
     "name": "stdout",
     "output_type": "stream",
     "text": [
      "Help on ufunc:\n",
      "\n",
      "add = <ufunc 'add'>\n",
      "    add(x1, x2, /, out=None, *, where=True, casting='same_kind', order='K', dtype=None, subok=True[, signature, extobj])\n",
      "\n",
      "    Add arguments element-wise.\n",
      "\n",
      "    Parameters\n",
      "    ----------\n",
      "    x1, x2 : array_like\n",
      "        The arrays to be added.\n",
      "        If ``x1.shape != x2.shape``, they must be broadcastable to a common\n",
      "        shape (which becomes the shape of the output).\n",
      "    out : ndarray, None, or tuple of ndarray and None, optional\n",
      "        A location into which the result is stored. If provided, it must have\n",
      "        a shape that the inputs broadcast to. If not provided or None,\n",
      "        a freshly-allocated array is returned. A tuple (possible only as a\n",
      "        keyword argument) must have length equal to the number of outputs.\n",
      "    where : array_like, optional\n",
      "        This condition is broadcast over the input. At locations where the\n",
      "        condition is True, the `out` array will be set to the ufunc result.\n",
      "        Elsewhere, the `out` array will retain its original value.\n",
      "        Note that if an uninitialized `out` array is created via the default\n",
      "        ``out=None``, locations within it where the condition is False will\n",
      "        remain uninitialized.\n",
      "    **kwargs\n",
      "        For other keyword-only arguments, see the\n",
      "        :ref:`ufunc docs <ufuncs.kwargs>`.\n",
      "\n",
      "    Returns\n",
      "    -------\n",
      "    add : ndarray or scalar\n",
      "        The sum of `x1` and `x2`, element-wise.\n",
      "        This is a scalar if both `x1` and `x2` are scalars.\n",
      "\n",
      "    Notes\n",
      "    -----\n",
      "    Equivalent to `x1` + `x2` in terms of array broadcasting.\n",
      "\n",
      "    Examples\n",
      "    --------\n",
      "    >>> np.add(1.0, 4.0)\n",
      "    5.0\n",
      "    >>> x1 = np.arange(9.0).reshape((3, 3))\n",
      "    >>> x2 = np.arange(3.0)\n",
      "    >>> np.add(x1, x2)\n",
      "    array([[  0.,   2.,   4.],\n",
      "           [  3.,   5.,   7.],\n",
      "           [  6.,   8.,  10.]])\n",
      "\n",
      "    The ``+`` operator can be used as a shorthand for ``np.add`` on ndarrays.\n",
      "\n",
      "    >>> x1 = np.arange(9.0).reshape((3, 3))\n",
      "    >>> x2 = np.arange(3.0)\n",
      "    >>> x1 + x2\n",
      "    array([[ 0.,  2.,  4.],\n",
      "           [ 3.,  5.,  7.],\n",
      "           [ 6.,  8., 10.]])\n",
      "\n"
     ]
    }
   ],
   "source": [
    "# Write a Numpy program to get help on the add function.\n",
    "\n",
    "# get help on the numpy add function\n",
    "help(np.add)"
   ]
  },
  {
   "cell_type": "code",
   "execution_count": 9,
   "id": "313b3dce",
   "metadata": {},
   "outputs": [
    {
     "name": "stdout",
     "output_type": "stream",
     "text": [
      "None of the elements is zero: True\n"
     ]
    }
   ],
   "source": [
    "# Write a numpy program to test whether none of the elements of a given array is zero.\n",
    "\n",
    "arr=np.array([1,2,3,4,5])\n",
    "k=np.all(arr)\n",
    "print(\"None of the elements is zero:\", k)"
   ]
  },
  {
   "cell_type": "code",
   "execution_count": 10,
   "id": "8d493088",
   "metadata": {},
   "outputs": [
    {
     "name": "stdout",
     "output_type": "stream",
     "text": [
      "Any of the elements is non-zero: True\n"
     ]
    }
   ],
   "source": [
    "# Write a NumPy program to test whether any of the elements of a given array is non-zero.\n",
    "\n",
    "arr=np.array([0,0,0,3,0])\n",
    "r=np.any(arr)\n",
    "print(\"Any of the elements is non-zero:\", r)"
   ]
  },
  {
   "cell_type": "code",
   "execution_count": 11,
   "id": "f776ef58",
   "metadata": {},
   "outputs": [
    {
     "name": "stdout",
     "output_type": "stream",
     "text": [
      "Finiteness check: [ True  True False False False  True]\n"
     ]
    }
   ],
   "source": [
    "# Write a NumPy program to test a given array element-wise for finiteness (not infinity or not a Number).\n",
    "\n",
    "arr=np.array([1, 0, np.inf, -np.inf, np.nan, 5])\n",
    "r=np.isfinite(arr)\n",
    "print(\"Finiteness check:\", r)"
   ]
  },
  {
   "cell_type": "code",
   "execution_count": 12,
   "id": "c70016e9",
   "metadata": {},
   "outputs": [
    {
     "name": "stdout",
     "output_type": "stream",
     "text": [
      "[False  True  True False False False]\n"
     ]
    }
   ],
   "source": [
    "# Write a NumPy program to test element-wise for positive or negative infinity.\n",
    "\n",
    "arr = np.array([1, np.inf, -np.inf, 0, 5, np.nan])\n",
    "r=np.isinf(arr)\n",
    "print(r)"
   ]
  },
  {
   "cell_type": "code",
   "execution_count": 13,
   "id": "a3efdf43",
   "metadata": {},
   "outputs": [
    {
     "name": "stdout",
     "output_type": "stream",
     "text": [
      "[False  True False False False  True False]\n"
     ]
    }
   ],
   "source": [
    "# Write a NumPy program to test element-wise for NaN of a given array.\n",
    "\n",
    "arr = np.array([1, np.nan, 3, np.inf, -np.inf, np.nan, 5])\n",
    "result = np.isnan(arr)\n",
    "print(result)"
   ]
  },
  {
   "cell_type": "code",
   "execution_count": 14,
   "id": "a89ea1d5",
   "metadata": {},
   "outputs": [
    {
     "name": "stdout",
     "output_type": "stream",
     "text": [
      "Original Array: [ 1. +0.j  2. +3.j  5.5+0.j  0. +0.j -0. -1.j]\n",
      "Complex check [False  True False False  True]\n",
      "real check: [ True False  True  True False]\n",
      "scalar 5\n",
      "isscalar [5]\n"
     ]
    }
   ],
   "source": [
    "# Write a NumPy program to test element-wise for complex number, real number of a given array.\n",
    "# Also test whether a given number is a scalar type or not.\n",
    "\n",
    "arr = np.array([1, 2+3j, 5.5, 0, -1j])\n",
    "c=np.iscomplex(arr)\n",
    "r=np.isreal(arr)\n",
    "scalar=5\n",
    "scalar2=np.array([5])\n",
    "i=np.isscalar(scalar)\n",
    "j=np.isscalar(scalar2)\n",
    "print(\"Original Array:\", arr)\n",
    "print(\"Complex check\", c)\n",
    "print(\"real check:\", r)\n",
    "print(\"scalar\", scalar)\n",
    "print(\"isscalar\", scalar2)"
   ]
  },
  {
   "cell_type": "code",
   "execution_count": 15,
   "id": "9a4f3d2d",
   "metadata": {},
   "outputs": [
    {
     "name": "stdout",
     "output_type": "stream",
     "text": [
      "[False False  True False]\n",
      "[False  True  True  True]\n",
      "[ True False False False]\n",
      "[ True  True False  True]\n"
     ]
    }
   ],
   "source": [
    "# Write a NumPy program to create an element-wise comparison (greater, greater_equal, less and less_equal) of two given arrays.\n",
    "\n",
    "arr1=np.array([1,4,7,10])\n",
    "arr2=np.array([3,4,6,10])\n",
    "\n",
    "g=np.greater(arr1, arr2)\n",
    "ge=np.greater_equal(arr1, arr2)\n",
    "l=np.less(arr1,arr2)\n",
    "le=np.less_equal(arr1,arr2)\n",
    "print(g)\n",
    "print(ge)\n",
    "print(l)\n",
    "print(le)"
   ]
  },
  {
   "cell_type": "code",
   "execution_count": 16,
   "id": "1b9a751a",
   "metadata": {},
   "outputs": [
    {
     "name": "stdout",
     "output_type": "stream",
     "text": [
      "Array: [  1   7  13 105]\n",
      "Memory size occupied by the array in bytes: 16\n"
     ]
    }
   ],
   "source": [
    "# Write a NumPy program to create an array with the values 1, 7, 13, 105 and determine the size of the memory occupied by the array.\n",
    "\n",
    "arr = np.array([1,7,13,105])\n",
    "memory_size = arr.nbytes\n",
    "print(\"Array:\", arr)\n",
    "print(\"Memory size occupied by the array in bytes:\", memory_size)"
   ]
  },
  {
   "cell_type": "code",
   "execution_count": 17,
   "id": "550b886f",
   "metadata": {},
   "outputs": [
    {
     "name": "stdout",
     "output_type": "stream",
     "text": [
      "[0. 0. 0. 0. 0. 0. 0. 0. 0. 0.]\n",
      "[1. 1. 1. 1. 1. 1. 1. 1. 1. 1.]\n",
      "[5 5 5 5 5 5 5 5 5 5]\n"
     ]
    }
   ],
   "source": [
    "# Write a NumPy program to create an array of 10 zeros,10 ones, 10 fives.\n",
    "\n",
    "zeros=np.zeros(10)\n",
    "ones=np.ones(10)\n",
    "fives_array=np.full(10,5)\n",
    "print(zeros)\n",
    "print(ones)\n",
    "print(fives_array)"
   ]
  },
  {
   "cell_type": "code",
   "execution_count": 18,
   "id": "322ee253",
   "metadata": {},
   "outputs": [
    {
     "name": "stdout",
     "output_type": "stream",
     "text": [
      "[30 31 32 33 34 35 36 37 38 39 40 41 42 43 44 45 46 47 48 49 50 51 52 53\n",
      " 54 55 56 57 58 59 60 61 62 63 64 65 66 67 68 69 70]\n"
     ]
    }
   ],
   "source": [
    "# Write a NumPy program to create an array of the integers from 30 to70.\n",
    "\n",
    "k=np.arange(30,71)\n",
    "print(k)"
   ]
  },
  {
   "cell_type": "code",
   "execution_count": 19,
   "id": "0251518d",
   "metadata": {},
   "outputs": [
    {
     "name": "stdout",
     "output_type": "stream",
     "text": [
      "Array of even integers from 30 to 70: [30 32 34 36 38 40 42 44 46 48 50 52 54 56 58 60 62 64 66 68 70]\n"
     ]
    }
   ],
   "source": [
    "# Write a NumPy program to create an array of all the even integers from 30 to 70.\n",
    "\n",
    "arr=np.arange(30,71, 2)\n",
    "print(\"Array of even integers from 30 to 70:\", arr)\n"
   ]
  },
  {
   "cell_type": "code",
   "execution_count": 21,
   "id": "fbfaf767",
   "metadata": {},
   "outputs": [
    {
     "name": "stdout",
     "output_type": "stream",
     "text": [
      "3x3 Identity Matrix:\n",
      "[[1. 0. 0.]\n",
      " [0. 1. 0.]\n",
      " [0. 0. 1.]]\n"
     ]
    }
   ],
   "source": [
    "# Write a NumPy program to create a 3x3 identity matrix.\n",
    "\n",
    "identity_matrix = np.eye(3)\n",
    "print(\"3x3 Identity Matrix:\")\n",
    "print(identity_matrix)\n"
   ]
  },
  {
   "cell_type": "code",
   "execution_count": 22,
   "id": "5bd89877",
   "metadata": {},
   "outputs": [
    {
     "name": "stdout",
     "output_type": "stream",
     "text": [
      "Random number between 0 and 1: 0.6720376507320556\n"
     ]
    }
   ],
   "source": [
    "# Write a NumPy program to generate a random number between 0 and 1.\n",
    "random_number = np.random.rand()\n",
    "print(\"Random number between 0 and 1:\", random_number)"
   ]
  },
  {
   "cell_type": "code",
   "execution_count": 23,
   "id": "13c4c4eb",
   "metadata": {},
   "outputs": [
    {
     "name": "stdout",
     "output_type": "stream",
     "text": [
      "Array of 15 random numbers from a standard normal distribution:\n",
      "[0.80561831 0.55085793 0.66388799 0.06583462 0.54238497 0.98962433\n",
      " 0.50269263 0.01500292 0.04577814 0.27311222 0.23657651 0.79477845\n",
      " 0.5586948  0.08953335 0.19647018]\n"
     ]
    }
   ],
   "source": [
    "# Write a NumPy program to generate an array of 15 random numbers from a standard normal distribution.\n",
    "\n",
    "random_array = np.random.rand(15)\n",
    "print(\"Array of 15 random numbers from a standard normal distribution:\")\n",
    "print(random_array)\n",
    "\n"
   ]
  },
  {
   "cell_type": "code",
   "execution_count": 24,
   "id": "46771578",
   "metadata": {},
   "outputs": [
    {
     "name": "stdout",
     "output_type": "stream",
     "text": [
      "Vector with values except the first and last: [False  True False False False  True False]\n"
     ]
    }
   ],
   "source": [
    "# Write a NumPy program to create a vector with values ranging from 15 to 55 and print all values except the first and last.\n",
    "\n",
    "vector = np.arange(15, 56)\n",
    "k=vector[1:-1]\n",
    "print(\"Vector with values except the first and last:\", result)"
   ]
  },
  {
   "cell_type": "code",
   "execution_count": 29,
   "id": "f903def1",
   "metadata": {},
   "outputs": [
    {
     "name": "stdout",
     "output_type": "stream",
     "text": [
      "3x4 Array:\n",
      "\n",
      "\n",
      "[[5 4 4 5]\n",
      " [4 7 7 5]\n",
      " [7 8 8 6]]\n",
      "\n",
      "\n",
      "\n",
      " Iterating over the array :\n",
      "[5 4 4 5]\n",
      "[4 7 7 5]\n",
      "[7 8 8 6]\n"
     ]
    }
   ],
   "source": [
    "# Write a NumPy program to create a 3X4 array using and iterate over it.\n",
    "k=np.random.randint(1, 10, (3,4))\n",
    "\n",
    "print(\"3x4 Array:\")\n",
    "print('\\n')\n",
    "print(k)\n",
    "print('\\n')\n",
    "print(\"\\n Iterating over the array :\")\n",
    "for i in k:\n",
    "    print(i)"
   ]
  },
  {
   "cell_type": "code",
   "execution_count": 32,
   "id": "51264403",
   "metadata": {},
   "outputs": [
    {
     "name": "stdout",
     "output_type": "stream",
     "text": [
      "Vector with values evenly distributed between 5 and 50:\n",
      "[ 5. 10. 15. 20. 25. 30. 35. 40. 45. 50.]\n"
     ]
    }
   ],
   "source": [
    "# Write a NumPy program to create a vector of length 10 with values evenly distributed between 5 and 50.\n",
    "\n",
    "vector = np.linspace(5, 50, 10)\n",
    "print(\"Vector with values evenly distributed between 5 and 50:\")\n",
    "print(vector)"
   ]
  },
  {
   "cell_type": "code",
   "execution_count": null,
   "id": "236f6cf2",
   "metadata": {},
   "outputs": [],
   "source": [
    "# Write a NumPy program to create a vector with values from 0 to 20 and change the sign of the numbers in the range from 9 to 15.\n",
    "\n",
    "vector = np.arange(21)\n",
    "vector[9:16] = -vector[9:16]\n",
    "print(\"Modified Vector\")\n",
    "print(vector)"
   ]
  },
  {
   "cell_type": "code",
   "execution_count": 33,
   "id": "9e1e89b4",
   "metadata": {},
   "outputs": [
    {
     "name": "stdout",
     "output_type": "stream",
     "text": [
      "Random vector of length 5 (values from 0 to 10):\n",
      "[7 2 0 1 9]\n"
     ]
    }
   ],
   "source": [
    "# Write a NumPy program to create a vector of length 5 filled with arbitrary integers from 0 to 10.\n",
    "\n",
    "vector = np.random.randint(0, 11, size=5)\n",
    "print(\"Random vector of length 5 (values from 0 to 10):\")\n",
    "print(vector)"
   ]
  },
  {
   "cell_type": "code",
   "execution_count": 34,
   "id": "b3ca605f",
   "metadata": {},
   "outputs": [
    {
     "name": "stdout",
     "output_type": "stream",
     "text": [
      "[ 10  40  90 160 250]\n"
     ]
    }
   ],
   "source": [
    "# Write a NumPy program to multiply the values of two given vectors.\n",
    "\n",
    "vector1 = np.array([1, 2, 3, 4, 5])\n",
    "vector2 = np.array([10, 20, 30, 40, 50])\n",
    "\n",
    "r=np.multiply(vector1, vector2)\n",
    "print(r)\n"
   ]
  },
  {
   "cell_type": "code",
   "execution_count": 37,
   "id": "6690799f",
   "metadata": {},
   "outputs": [
    {
     "name": "stdout",
     "output_type": "stream",
     "text": [
      "3x4 matrix with values from 10 to 21:\n",
      "[[10 11 12 13]\n",
      " [14 15 16 17]\n",
      " [18 19 20 21]]\n",
      "\n",
      "\n",
      "[10 11 12 13]\n",
      "[14 15 16 17]\n",
      "[18 19 20 21]\n"
     ]
    }
   ],
   "source": [
    "# Write a NumPy program to create a 3x4 matrix filled with values from 10 to 21.\n",
    "\n",
    "a=np.arange(10,22)\n",
    "m=a.reshape(3,4)\n",
    "print(\"3x4 matrix with values from 10 to 21:\")\n",
    "print(m)\n",
    "\n",
    "print('\\n')\n",
    "for k in m:\n",
    "    print(k)"
   ]
  },
  {
   "cell_type": "code",
   "execution_count": 39,
   "id": "73a9d120",
   "metadata": {},
   "outputs": [
    {
     "name": "stdout",
     "output_type": "stream",
     "text": [
      "Number of rows: 4\n",
      "Number of columns: 3\n"
     ]
    }
   ],
   "source": [
    "# Write a NumPy program to find the number of rows and columns of a given matrix.\n",
    "\n",
    "matrix = np.array([[1, 2, 3],\n",
    "                   [4, 5, 6],\n",
    "                   [7, 8, 9],\n",
    "                   [10, 11, 12]])\n",
    "\n",
    "rows, columns = matrix.shape\n",
    "print(\"Number of rows:\", rows)\n",
    "print(\"Number of columns:\", columns)"
   ]
  },
  {
   "cell_type": "code",
   "execution_count": 40,
   "id": "06e6e9dc",
   "metadata": {},
   "outputs": [
    {
     "name": "stdout",
     "output_type": "stream",
     "text": [
      "[[1. 0. 0.]\n",
      " [0. 1. 0.]\n",
      " [0. 0. 1.]]\n"
     ]
    }
   ],
   "source": [
    "# Write a NumPy program to create a 3x3 identity matrix, i.e. diagonal elements are 1, the rest are 0.\n",
    "\n",
    "identity_matrix = np.identity(3)\n",
    "print(identity_matrix)"
   ]
  },
  {
   "cell_type": "code",
   "execution_count": null,
   "id": "bf68c95c",
   "metadata": {},
   "outputs": [],
   "source": []
  },
  {
   "cell_type": "code",
   "execution_count": null,
   "id": "8f2a20a4",
   "metadata": {},
   "outputs": [],
   "source": []
  },
  {
   "cell_type": "code",
   "execution_count": null,
   "id": "e57abcb2",
   "metadata": {},
   "outputs": [],
   "source": []
  },
  {
   "cell_type": "code",
   "execution_count": null,
   "id": "74022a9d",
   "metadata": {},
   "outputs": [],
   "source": []
  }
 ],
 "metadata": {
  "kernelspec": {
   "display_name": "Python 3",
   "language": "python",
   "name": "python3"
  },
  "language_info": {
   "codemirror_mode": {
    "name": "ipython",
    "version": 3
   },
   "file_extension": ".py",
   "mimetype": "text/x-python",
   "name": "python",
   "nbconvert_exporter": "python",
   "pygments_lexer": "ipython3",
   "version": "3.12.10"
  }
 },
 "nbformat": 4,
 "nbformat_minor": 5
}
