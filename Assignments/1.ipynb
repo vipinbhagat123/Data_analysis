{
 "cells": [
  {
   "cell_type": "code",
   "execution_count": 68,
   "id": "149324c1",
   "metadata": {},
   "outputs": [
    {
     "name": "stdout",
     "output_type": "stream",
     "text": [
      "Numpy Version: 1.26.4\n",
      "Build Dependencies:\n",
      "  blas:\n",
      "    detection method: pkgconfig\n",
      "    found: true\n",
      "    include directory: /c/opt/64/include\n",
      "    lib directory: /c/opt/64/lib\n",
      "    name: openblas64\n",
      "    openblas configuration: USE_64BITINT=1 DYNAMIC_ARCH=1 DYNAMIC_OLDER= NO_CBLAS=\n",
      "      NO_LAPACK= NO_LAPACKE= NO_AFFINITY=1 USE_OPENMP= SKYLAKEX MAX_THREADS=2\n",
      "    pc file directory: C:/opt/64/lib/pkgconfig\n",
      "    version: 0.3.23.dev\n",
      "  lapack:\n",
      "    detection method: internal\n",
      "    found: true\n",
      "    include directory: unknown\n",
      "    lib directory: unknown\n",
      "    name: dep3179274605568\n",
      "    openblas configuration: unknown\n",
      "    pc file directory: unknown\n",
      "    version: 1.26.4\n",
      "Compilers:\n",
      "  c:\n",
      "    commands: cl\n",
      "    linker: link\n",
      "    name: msvc\n",
      "    version: 19.29.30153\n",
      "  c++:\n",
      "    commands: cl\n",
      "    linker: link\n",
      "    name: msvc\n",
      "    version: 19.29.30153\n",
      "  cython:\n",
      "    commands: cython\n",
      "    linker: cython\n",
      "    name: cython\n",
      "    version: 3.0.8\n",
      "Machine Information:\n",
      "  build:\n",
      "    cpu: x86_64\n",
      "    endian: little\n",
      "    family: x86_64\n",
      "    system: windows\n",
      "  host:\n",
      "    cpu: x86_64\n",
      "    endian: little\n",
      "    family: x86_64\n",
      "    system: windows\n",
      "Python Information:\n",
      "  path: C:\\Users\\runneradmin\\AppData\\Local\\Temp\\cibw-run-g7slqwov\\cp312-win_amd64\\build\\venv\\Scripts\\python.exe\n",
      "  version: '3.12'\n",
      "SIMD Extensions:\n",
      "  baseline:\n",
      "  - SSE\n",
      "  - SSE2\n",
      "  - SSE3\n",
      "  found:\n",
      "  - SSSE3\n",
      "  - SSE41\n",
      "  - POPCNT\n",
      "  - SSE42\n",
      "  - AVX\n",
      "  - F16C\n",
      "  - FMA3\n",
      "  - AVX2\n",
      "  not found:\n",
      "  - AVX512F\n",
      "  - AVX512CD\n",
      "  - AVX512_SKX\n",
      "  - AVX512_CLX\n",
      "  - AVX512_CNL\n",
      "  - AVX512_ICL\n",
      "\n",
      "\n",
      "Numpy Build Configuration: None\n"
     ]
    }
   ],
   "source": [
    "# Write numpy program to get the numpy versiion and show numpy build configuration\n",
    "\n",
    "import numpy as np\n",
    "\n",
    "# get numpy version\n",
    "print(\"Numpy Version:\", np.__version__)\n",
    "\n",
    "# show Numpy build configuration\n",
    "print(\"\\nNumpy Build Configuration:\", np.show_config())"
   ]
  },
  {
   "cell_type": "code",
   "execution_count": 69,
   "id": "e116e955",
   "metadata": {},
   "outputs": [
    {
     "name": "stdout",
     "output_type": "stream",
     "text": [
      "Help on ufunc:\n",
      "\n",
      "add = <ufunc 'add'>\n",
      "    add(x1, x2, /, out=None, *, where=True, casting='same_kind', order='K', dtype=None, subok=True[, signature, extobj])\n",
      "\n",
      "    Add arguments element-wise.\n",
      "\n",
      "    Parameters\n",
      "    ----------\n",
      "    x1, x2 : array_like\n",
      "        The arrays to be added.\n",
      "        If ``x1.shape != x2.shape``, they must be broadcastable to a common\n",
      "        shape (which becomes the shape of the output).\n",
      "    out : ndarray, None, or tuple of ndarray and None, optional\n",
      "        A location into which the result is stored. If provided, it must have\n",
      "        a shape that the inputs broadcast to. If not provided or None,\n",
      "        a freshly-allocated array is returned. A tuple (possible only as a\n",
      "        keyword argument) must have length equal to the number of outputs.\n",
      "    where : array_like, optional\n",
      "        This condition is broadcast over the input. At locations where the\n",
      "        condition is True, the `out` array will be set to the ufunc result.\n",
      "        Elsewhere, the `out` array will retain its original value.\n",
      "        Note that if an uninitialized `out` array is created via the default\n",
      "        ``out=None``, locations within it where the condition is False will\n",
      "        remain uninitialized.\n",
      "    **kwargs\n",
      "        For other keyword-only arguments, see the\n",
      "        :ref:`ufunc docs <ufuncs.kwargs>`.\n",
      "\n",
      "    Returns\n",
      "    -------\n",
      "    add : ndarray or scalar\n",
      "        The sum of `x1` and `x2`, element-wise.\n",
      "        This is a scalar if both `x1` and `x2` are scalars.\n",
      "\n",
      "    Notes\n",
      "    -----\n",
      "    Equivalent to `x1` + `x2` in terms of array broadcasting.\n",
      "\n",
      "    Examples\n",
      "    --------\n",
      "    >>> np.add(1.0, 4.0)\n",
      "    5.0\n",
      "    >>> x1 = np.arange(9.0).reshape((3, 3))\n",
      "    >>> x2 = np.arange(3.0)\n",
      "    >>> np.add(x1, x2)\n",
      "    array([[  0.,   2.,   4.],\n",
      "           [  3.,   5.,   7.],\n",
      "           [  6.,   8.,  10.]])\n",
      "\n",
      "    The ``+`` operator can be used as a shorthand for ``np.add`` on ndarrays.\n",
      "\n",
      "    >>> x1 = np.arange(9.0).reshape((3, 3))\n",
      "    >>> x2 = np.arange(3.0)\n",
      "    >>> x1 + x2\n",
      "    array([[ 0.,  2.,  4.],\n",
      "           [ 3.,  5.,  7.],\n",
      "           [ 6.,  8., 10.]])\n",
      "\n"
     ]
    }
   ],
   "source": [
    "# Write a Numpy program to get help on the add function.\n",
    "\n",
    "# get help on the numpy add function\n",
    "help(np.add)"
   ]
  },
  {
   "cell_type": "code",
   "execution_count": 70,
   "id": "313b3dce",
   "metadata": {},
   "outputs": [
    {
     "name": "stdout",
     "output_type": "stream",
     "text": [
      "None of the elements is zero: True\n"
     ]
    }
   ],
   "source": [
    "# Write a numpy program to test whether none of the elements of a given array is zero.\n",
    "\n",
    "arr=np.array([1,2,3,4,5])\n",
    "k=np.all(arr)\n",
    "print(\"None of the elements is zero:\", k)"
   ]
  },
  {
   "cell_type": "code",
   "execution_count": 71,
   "id": "8d493088",
   "metadata": {},
   "outputs": [
    {
     "name": "stdout",
     "output_type": "stream",
     "text": [
      "Any of the elements is non-zero: True\n"
     ]
    }
   ],
   "source": [
    "# Write a NumPy program to test whether any of the elements of a given array is non-zero.\n",
    "\n",
    "arr=np.array([0,0,0,3,0])\n",
    "r=np.any(arr)\n",
    "print(\"Any of the elements is non-zero:\", r)"
   ]
  },
  {
   "cell_type": "code",
   "execution_count": 72,
   "id": "f776ef58",
   "metadata": {},
   "outputs": [
    {
     "name": "stdout",
     "output_type": "stream",
     "text": [
      "Finiteness check: [ True  True False False False  True]\n"
     ]
    }
   ],
   "source": [
    "# Write a NumPy program to test a given array element-wise for finiteness (not infinity or not a Number).\n",
    "\n",
    "arr=np.array([1, 0, np.inf, -np.inf, np.nan, 5])\n",
    "r=np.isfinite(arr)\n",
    "print(\"Finiteness check:\", r)"
   ]
  },
  {
   "cell_type": "code",
   "execution_count": 73,
   "id": "c70016e9",
   "metadata": {},
   "outputs": [
    {
     "name": "stdout",
     "output_type": "stream",
     "text": [
      "[False  True  True False False False]\n"
     ]
    }
   ],
   "source": [
    "# Write a NumPy program to test element-wise for positive or negative infinity.\n",
    "\n",
    "arr = np.array([1, np.inf, -np.inf, 0, 5, np.nan])\n",
    "r=np.isinf(arr)\n",
    "print(r)"
   ]
  },
  {
   "cell_type": "code",
   "execution_count": 74,
   "id": "a3efdf43",
   "metadata": {},
   "outputs": [
    {
     "name": "stdout",
     "output_type": "stream",
     "text": [
      "[False  True False False False  True False]\n"
     ]
    }
   ],
   "source": [
    "# Write a NumPy program to test element-wise for NaN of a given array.\n",
    "\n",
    "arr = np.array([1, np.nan, 3, np.inf, -np.inf, np.nan, 5])\n",
    "result = np.isnan(arr)\n",
    "print(result)"
   ]
  },
  {
   "cell_type": "code",
   "execution_count": 75,
   "id": "a89ea1d5",
   "metadata": {},
   "outputs": [
    {
     "name": "stdout",
     "output_type": "stream",
     "text": [
      "Original Array: [ 1. +0.j  2. +3.j  5.5+0.j  0. +0.j -0. -1.j]\n",
      "Complex check [False  True False False  True]\n",
      "real check: [ True False  True  True False]\n",
      "scalar 5\n",
      "isscalar [5]\n"
     ]
    }
   ],
   "source": [
    "# Write a NumPy program to test element-wise for complex number, real number of a given array.\n",
    "# Also test whether a given number is a scalar type or not.\n",
    "\n",
    "arr = np.array([1, 2+3j, 5.5, 0, -1j])\n",
    "c=np.iscomplex(arr)\n",
    "r=np.isreal(arr)\n",
    "scalar=5\n",
    "scalar2=np.array([5])\n",
    "i=np.isscalar(scalar)\n",
    "j=np.isscalar(scalar2)\n",
    "print(\"Original Array:\", arr)\n",
    "print(\"Complex check\", c)\n",
    "print(\"real check:\", r)\n",
    "print(\"scalar\", scalar)\n",
    "print(\"isscalar\", scalar2)"
   ]
  },
  {
   "cell_type": "code",
   "execution_count": 76,
   "id": "9a4f3d2d",
   "metadata": {},
   "outputs": [
    {
     "name": "stdout",
     "output_type": "stream",
     "text": [
      "[False False  True False]\n",
      "[False  True  True  True]\n",
      "[ True False False False]\n",
      "[ True  True False  True]\n"
     ]
    }
   ],
   "source": [
    "# Write a NumPy program to create an element-wise comparison (greater, greater_equal, less and less_equal) of two given arrays.\n",
    "\n",
    "arr1=np.array([1,4,7,10])\n",
    "arr2=np.array([3,4,6,10])\n",
    "\n",
    "g=np.greater(arr1, arr2)\n",
    "ge=np.greater_equal(arr1, arr2)\n",
    "l=np.less(arr1,arr2)\n",
    "le=np.less_equal(arr1,arr2)\n",
    "print(g)\n",
    "print(ge)\n",
    "print(l)\n",
    "print(le)"
   ]
  },
  {
   "cell_type": "code",
   "execution_count": 77,
   "id": "1b9a751a",
   "metadata": {},
   "outputs": [
    {
     "name": "stdout",
     "output_type": "stream",
     "text": [
      "Array: [  1   7  13 105]\n",
      "Memory size occupied by the array in bytes: 16\n"
     ]
    }
   ],
   "source": [
    "# Write a NumPy program to create an array with the values 1, 7, 13, 105 and determine the size of the memory occupied by the array.\n",
    "\n",
    "arr = np.array([1,7,13,105])\n",
    "memory_size = arr.nbytes\n",
    "print(\"Array:\", arr)\n",
    "print(\"Memory size occupied by the array in bytes:\", memory_size)"
   ]
  },
  {
   "cell_type": "code",
   "execution_count": 78,
   "id": "550b886f",
   "metadata": {},
   "outputs": [
    {
     "name": "stdout",
     "output_type": "stream",
     "text": [
      "[0. 0. 0. 0. 0. 0. 0. 0. 0. 0.]\n",
      "[1. 1. 1. 1. 1. 1. 1. 1. 1. 1.]\n",
      "[5 5 5 5 5 5 5 5 5 5]\n"
     ]
    }
   ],
   "source": [
    "# Write a NumPy program to create an array of 10 zeros,10 ones, 10 fives.\n",
    "\n",
    "zeros=np.zeros(10)\n",
    "ones=np.ones(10)\n",
    "fives_array=np.full(10,5)\n",
    "print(zeros)\n",
    "print(ones)\n",
    "print(fives_array)"
   ]
  },
  {
   "cell_type": "code",
   "execution_count": 79,
   "id": "322ee253",
   "metadata": {},
   "outputs": [
    {
     "name": "stdout",
     "output_type": "stream",
     "text": [
      "[30 31 32 33 34 35 36 37 38 39 40 41 42 43 44 45 46 47 48 49 50 51 52 53\n",
      " 54 55 56 57 58 59 60 61 62 63 64 65 66 67 68 69 70]\n"
     ]
    }
   ],
   "source": [
    "# Write a NumPy program to create an array of the integers from 30 to70.\n",
    "\n",
    "k=np.arange(30,71)\n",
    "print(k)"
   ]
  },
  {
   "cell_type": "code",
   "execution_count": 80,
   "id": "0251518d",
   "metadata": {},
   "outputs": [
    {
     "name": "stdout",
     "output_type": "stream",
     "text": [
      "Array of even integers from 30 to 70: [30 32 34 36 38 40 42 44 46 48 50 52 54 56 58 60 62 64 66 68 70]\n"
     ]
    }
   ],
   "source": [
    "# Write a NumPy program to create an array of all the even integers from 30 to 70.\n",
    "\n",
    "arr=np.arange(30,71, 2)\n",
    "print(\"Array of even integers from 30 to 70:\", arr)\n"
   ]
  },
  {
   "cell_type": "code",
   "execution_count": 81,
   "id": "fbfaf767",
   "metadata": {},
   "outputs": [
    {
     "name": "stdout",
     "output_type": "stream",
     "text": [
      "3x3 Identity Matrix:\n",
      "[[1. 0. 0.]\n",
      " [0. 1. 0.]\n",
      " [0. 0. 1.]]\n"
     ]
    }
   ],
   "source": [
    "# Write a NumPy program to create a 3x3 identity matrix.\n",
    "\n",
    "identity_matrix = np.eye(3)\n",
    "print(\"3x3 Identity Matrix:\")\n",
    "print(identity_matrix)\n"
   ]
  },
  {
   "cell_type": "code",
   "execution_count": 82,
   "id": "5bd89877",
   "metadata": {},
   "outputs": [
    {
     "name": "stdout",
     "output_type": "stream",
     "text": [
      "Random number between 0 and 1: 0.27556324162589607\n"
     ]
    }
   ],
   "source": [
    "# Write a NumPy program to generate a random number between 0 and 1.\n",
    "random_number = np.random.rand()\n",
    "print(\"Random number between 0 and 1:\", random_number)"
   ]
  },
  {
   "cell_type": "code",
   "execution_count": 83,
   "id": "13c4c4eb",
   "metadata": {},
   "outputs": [
    {
     "name": "stdout",
     "output_type": "stream",
     "text": [
      "Array of 15 random numbers from a standard normal distribution:\n",
      "[0.73403746 0.49050404 0.98225447 0.7229391  0.63845331 0.05134785\n",
      " 0.36059614 0.49420866 0.75962562 0.83087478 0.11495185 0.71084294\n",
      " 0.24690287 0.06790299 0.23544771]\n"
     ]
    }
   ],
   "source": [
    "# Write a NumPy program to generate an array of 15 random numbers from a standard normal distribution.\n",
    "\n",
    "random_array = np.random.rand(15)\n",
    "print(\"Array of 15 random numbers from a standard normal distribution:\")\n",
    "print(random_array)\n",
    "\n"
   ]
  },
  {
   "cell_type": "code",
   "execution_count": 84,
   "id": "46771578",
   "metadata": {},
   "outputs": [
    {
     "name": "stdout",
     "output_type": "stream",
     "text": [
      "Vector with values except the first and last: [False  True False False False  True False]\n"
     ]
    }
   ],
   "source": [
    "# Write a NumPy program to create a vector with values ranging from 15 to 55 and print all values except the first and last.\n",
    "\n",
    "vector = np.arange(15, 56)\n",
    "k=vector[1:-1]\n",
    "print(\"Vector with values except the first and last:\", result)"
   ]
  },
  {
   "cell_type": "code",
   "execution_count": 85,
   "id": "f903def1",
   "metadata": {},
   "outputs": [
    {
     "name": "stdout",
     "output_type": "stream",
     "text": [
      "3x4 Array:\n",
      "\n",
      "\n",
      "[[1 5 4 9]\n",
      " [5 3 6 8]\n",
      " [1 3 6 2]]\n",
      "\n",
      "\n",
      "\n",
      " Iterating over the array :\n",
      "[1 5 4 9]\n",
      "[5 3 6 8]\n",
      "[1 3 6 2]\n"
     ]
    }
   ],
   "source": [
    "# Write a NumPy program to create a 3X4 array using and iterate over it.\n",
    "k=np.random.randint(1, 10, (3,4))\n",
    "\n",
    "print(\"3x4 Array:\")\n",
    "print('\\n')\n",
    "print(k)\n",
    "print('\\n')\n",
    "print(\"\\n Iterating over the array :\")\n",
    "for i in k:\n",
    "    print(i)"
   ]
  },
  {
   "cell_type": "code",
   "execution_count": 86,
   "id": "51264403",
   "metadata": {},
   "outputs": [
    {
     "name": "stdout",
     "output_type": "stream",
     "text": [
      "Vector with values evenly distributed between 5 and 50:\n",
      "[ 5. 10. 15. 20. 25. 30. 35. 40. 45. 50.]\n"
     ]
    }
   ],
   "source": [
    "# Write a NumPy program to create a vector of length 10 with values evenly distributed between 5 and 50.\n",
    "\n",
    "vector = np.linspace(5, 50, 10)\n",
    "print(\"Vector with values evenly distributed between 5 and 50:\")\n",
    "print(vector)"
   ]
  },
  {
   "cell_type": "code",
   "execution_count": 87,
   "id": "236f6cf2",
   "metadata": {},
   "outputs": [
    {
     "name": "stdout",
     "output_type": "stream",
     "text": [
      "Modified Vector\n",
      "[  0   1   2   3   4   5   6   7   8  -9 -10 -11 -12 -13 -14 -15  16  17\n",
      "  18  19  20]\n"
     ]
    }
   ],
   "source": [
    "# Write a NumPy program to create a vector with values from 0 to 20 and change the sign of the numbers in the range from 9 to 15.\n",
    "\n",
    "vector = np.arange(21)\n",
    "vector[9:16] = -vector[9:16]\n",
    "print(\"Modified Vector\")\n",
    "print(vector)"
   ]
  },
  {
   "cell_type": "code",
   "execution_count": 88,
   "id": "9e1e89b4",
   "metadata": {},
   "outputs": [
    {
     "name": "stdout",
     "output_type": "stream",
     "text": [
      "Random vector of length 5 (values from 0 to 10):\n",
      "[9 7 7 9 6]\n"
     ]
    }
   ],
   "source": [
    "# Write a NumPy program to create a vector of length 5 filled with arbitrary integers from 0 to 10.\n",
    "\n",
    "vector = np.random.randint(0, 11, size=5)\n",
    "print(\"Random vector of length 5 (values from 0 to 10):\")\n",
    "print(vector)"
   ]
  },
  {
   "cell_type": "code",
   "execution_count": 89,
   "id": "b3ca605f",
   "metadata": {},
   "outputs": [
    {
     "name": "stdout",
     "output_type": "stream",
     "text": [
      "[ 10  40  90 160 250]\n"
     ]
    }
   ],
   "source": [
    "# Write a NumPy program to multiply the values of two given vectors.\n",
    "\n",
    "vector1 = np.array([1, 2, 3, 4, 5])\n",
    "vector2 = np.array([10, 20, 30, 40, 50])\n",
    "\n",
    "r=np.multiply(vector1, vector2)\n",
    "print(r)\n"
   ]
  },
  {
   "cell_type": "code",
   "execution_count": 90,
   "id": "6690799f",
   "metadata": {},
   "outputs": [
    {
     "name": "stdout",
     "output_type": "stream",
     "text": [
      "3x4 matrix with values from 10 to 21:\n",
      "[[10 11 12 13]\n",
      " [14 15 16 17]\n",
      " [18 19 20 21]]\n",
      "\n",
      "\n",
      "[10 11 12 13]\n",
      "[14 15 16 17]\n",
      "[18 19 20 21]\n"
     ]
    }
   ],
   "source": [
    "# Write a NumPy program to create a 3x4 matrix filled with values from 10 to 21.\n",
    "\n",
    "a=np.arange(10,22)\n",
    "m=a.reshape(3,4)\n",
    "print(\"3x4 matrix with values from 10 to 21:\")\n",
    "print(m)\n",
    "\n",
    "print('\\n')\n",
    "for k in m:\n",
    "    print(k)"
   ]
  },
  {
   "cell_type": "code",
   "execution_count": 91,
   "id": "73a9d120",
   "metadata": {},
   "outputs": [
    {
     "name": "stdout",
     "output_type": "stream",
     "text": [
      "Number of rows: 4\n",
      "Number of columns: 3\n"
     ]
    }
   ],
   "source": [
    "# Write a NumPy program to find the number of rows and columns of a given matrix.\n",
    "\n",
    "matrix = np.array([[1, 2, 3],\n",
    "                   [4, 5, 6],\n",
    "                   [7, 8, 9],\n",
    "                   [10, 11, 12]])\n",
    "\n",
    "rows, columns = matrix.shape\n",
    "print(\"Number of rows:\", rows)\n",
    "print(\"Number of columns:\", columns)"
   ]
  },
  {
   "cell_type": "code",
   "execution_count": 92,
   "id": "06e6e9dc",
   "metadata": {},
   "outputs": [
    {
     "name": "stdout",
     "output_type": "stream",
     "text": [
      "[[1. 0. 0.]\n",
      " [0. 1. 0.]\n",
      " [0. 0. 1.]]\n"
     ]
    }
   ],
   "source": [
    "# Write a NumPy program to create a 3x3 identity matrix, i.e. diagonal elements are 1, the rest are 0.\n",
    "\n",
    "identity_matrix = np.identity(3)\n",
    "print(identity_matrix)"
   ]
  },
  {
   "cell_type": "code",
   "execution_count": 93,
   "id": "bf68c95c",
   "metadata": {},
   "outputs": [
    {
     "name": "stdout",
     "output_type": "stream",
     "text": [
      "10x10 matrix with 1s on the border and 0s inside :\n",
      "[[1. 1. 1. 1. 1. 1. 1. 1. 1. 1.]\n",
      " [1. 0. 0. 0. 0. 0. 0. 0. 0. 1.]\n",
      " [1. 0. 0. 0. 0. 0. 0. 0. 0. 1.]\n",
      " [1. 0. 0. 0. 0. 0. 0. 0. 0. 1.]\n",
      " [1. 0. 0. 0. 0. 0. 0. 0. 0. 1.]\n",
      " [1. 0. 0. 0. 0. 0. 0. 0. 0. 1.]\n",
      " [1. 0. 0. 0. 0. 0. 0. 0. 0. 1.]\n",
      " [1. 0. 0. 0. 0. 0. 0. 0. 0. 1.]\n",
      " [1. 0. 0. 0. 0. 0. 0. 0. 0. 1.]\n",
      " [1. 1. 1. 1. 1. 1. 1. 1. 1. 1.]]\n"
     ]
    }
   ],
   "source": [
    "# Write a NumPy program to create a 10x10 matrix, in which the elements on the borders will be equal to 1, and inside 0.\n",
    "\n",
    "matrix=np.zeros((10,10))\n",
    "\n",
    "matrix[0,:]=1   # Top row\n",
    "matrix[-1,:]=1  # Bottom Row\n",
    "matrix[:,0]=1   # left Column\n",
    "matrix[:,-1]=1  # Right Column\n",
    "\n",
    "print(\"10x10 matrix with 1s on the border and 0s inside :\")\n",
    "print(matrix)"
   ]
  },
  {
   "cell_type": "code",
   "execution_count": 94,
   "id": "8f2a20a4",
   "metadata": {},
   "outputs": [
    {
     "name": "stdout",
     "output_type": "stream",
     "text": [
      "5x5 matrix with custom diagonal:\n",
      "[[1 0 0 0 0]\n",
      " [0 2 0 0 0]\n",
      " [0 0 3 0 0]\n",
      " [0 0 0 4 0]\n",
      " [0 0 0 0 5]]\n"
     ]
    }
   ],
   "source": [
    "# Write a NumPy program to create a 5x5 zero matrix with elements on the main diagonal equal to 1, 2, 3, 4, 5.\n",
    "\n",
    "diagonal = [1,2,3,4,5]\n",
    "matrix = np.diag(diagonal)\n",
    "print(\"5x5 matrix with custom diagonal:\")\n",
    "print(matrix)"
   ]
  },
  {
   "cell_type": "code",
   "execution_count": 95,
   "id": "e57abcb2",
   "metadata": {},
   "outputs": [
    {
     "name": "stdout",
     "output_type": "stream",
     "text": [
      "4x4 staggered matrix with 0s on the main diagonal:\n",
      "[[0 1 0 1]\n",
      " [1 0 1 0]\n",
      " [0 1 0 1]\n",
      " [1 0 1 0]]\n"
     ]
    }
   ],
   "source": [
    "#Write a NumPy program to create a 4x4 matrix in which 0 and 1 are staggered, with zeros on the main diagonal.\n",
    "import numpy as np\n",
    "\n",
    "# Create a 4x4 matrix with alternating 0 and 1\n",
    "matrix = np.fromfunction(lambda i, j: (i + j) % 2, (4, 4), dtype=int)\n",
    "\n",
    "# Set the main diagonal to 0\n",
    "np.fill_diagonal(matrix, 0)\n",
    "\n",
    "print(\"4x4 staggered matrix with 0s on the main diagonal:\")\n",
    "print(matrix)\n"
   ]
  },
  {
   "cell_type": "code",
   "execution_count": 96,
   "id": "74022a9d",
   "metadata": {},
   "outputs": [
    {
     "name": "stdout",
     "output_type": "stream",
     "text": [
      "[[[33 15  6]\n",
      "  [46 59 14]\n",
      "  [81  2  7]]\n",
      "\n",
      " [[50 23 30]\n",
      "  [57 82 56]\n",
      "  [76 70 71]]\n",
      "\n",
      " [[72 85 85]\n",
      "  [79 44  1]\n",
      "  [14 17 50]]]\n"
     ]
    }
   ],
   "source": [
    "# Write a NumPy program to create a 3x3x3 array filled with arbitrary values.\n",
    "\n",
    "array = np.random.randint(0, 100, (3,3,3))\n",
    "print(array)"
   ]
  },
  {
   "cell_type": "code",
   "execution_count": 97,
   "id": "eeb8be72",
   "metadata": {},
   "outputs": [
    {
     "name": "stdout",
     "output_type": "stream",
     "text": [
      "45\n",
      "\n",
      "\n",
      "[12 15 18]\n",
      "\n",
      "\n",
      "[ 6 15 24]\n"
     ]
    }
   ],
   "source": [
    "# Write a NumPy program to compute sum of all elements, sum of each column and sum of each row of a given array.\n",
    "\n",
    "array = np.array([[1, 2, 3],\n",
    "                  [4, 5, 6],\n",
    "                  [7, 8, 9]])\n",
    "\n",
    "\n",
    "total_sum = np.sum(array)\n",
    "print(total_sum)\n",
    "\n",
    "print('\\n')\n",
    "\n",
    "column_sum = np.sum(array, axis=0)\n",
    "print(column_sum)\n",
    "\n",
    "print('\\n')\n",
    "row_sum = np.sum(array, axis=1)\n",
    "print(row_sum)"
   ]
  },
  {
   "cell_type": "code",
   "execution_count": 98,
   "id": "83e1d339",
   "metadata": {},
   "outputs": [
    {
     "name": "stdout",
     "output_type": "stream",
     "text": [
      "Vector 1: [1 2 3]\n",
      "Vector 2: [4 5 6]\n",
      "Inner Product of the two vectors: 32\n"
     ]
    }
   ],
   "source": [
    "# Write a NumPy program to compute the inner product of two given vectors.\n",
    "\n",
    "vector1 = np.array([1,2,3])\n",
    "vector2 = np.array([4,5,6])\n",
    "inner_product = np.dot(vector1, vector2)\n",
    "print(\"Vector 1:\", vector1)\n",
    "print(\"Vector 2:\", vector2)\n",
    "print(\"Inner Product of the two vectors:\", inner_product)"
   ]
  },
  {
   "cell_type": "code",
   "execution_count": 99,
   "id": "843d4bf8",
   "metadata": {},
   "outputs": [
    {
     "name": "stdout",
     "output_type": "stream",
     "text": [
      "Original Matrix:\n",
      "[[1 2 3]\n",
      " [4 5 6]\n",
      " [7 8 9]]\n",
      "\n",
      "Vector to be added to each row:\n",
      "[1 1 1]\n",
      "\n",
      "Matrix after adding the vector to each row:\n",
      "[[ 2  3  4]\n",
      " [ 5  6  7]\n",
      " [ 8  9 10]]\n"
     ]
    }
   ],
   "source": [
    "# Write a NumPy program to add a vector to each row of a given matrix.\n",
    "\n",
    "import numpy as np\n",
    "\n",
    "# Create a sample 3x3 matrix\n",
    "matrix = np.array([[1, 2, 3],\n",
    "                   [4, 5, 6],\n",
    "                   [7, 8, 9]])\n",
    "\n",
    "# Create a vector\n",
    "vector = np.array([1, 1, 1])\n",
    "\n",
    "# Add the vector to each row of the matrix (broadcasting)\n",
    "result = matrix + vector\n",
    "\n",
    "print(\"Original Matrix:\")\n",
    "print(matrix)\n",
    "\n",
    "print(\"\\nVector to be added to each row:\")\n",
    "print(vector)\n",
    "\n",
    "print(\"\\nMatrix after adding the vector to each row:\")\n",
    "print(result)\n"
   ]
  },
  {
   "cell_type": "code",
   "execution_count": 100,
   "id": "93e991af",
   "metadata": {},
   "outputs": [
    {
     "data": {
      "image/png": "[encoded data removed]",
      "text/plain": [
       "<Figure size 640x480 with 1 Axes>"
      ]
     },
     "metadata": {},
     "output_type": "display_data"
    }
   ],
   "source": [
    "# Write a NumPy program to compute the x and y coordinates for points on a sine curve and plot the points using matplotlib.\n",
    "\n",
    "import numpy as np\n",
    "import matplotlib.pyplot as plt\n",
    "\n",
    "# Generate 100 points for x from 0 to 2π\n",
    "x = np.linspace(0, 2 * np.pi, 100)\n",
    "\n",
    "# Compute the y values (sine of x)\n",
    "y = np.sin(x)\n",
    "\n",
    "# Plot the points\n",
    "plt.plot(x, y, label=\"Sine curve\")\n",
    "\n",
    "# Adding labels and title\n",
    "plt.xlabel('x values (radians)')\n",
    "plt.ylabel('y values (sin(x))')\n",
    "plt.title('Sine Curve')\n",
    "\n",
    "# Show the grid\n",
    "plt.grid(True)\n",
    "\n",
    "# Display the legend\n",
    "plt.legend()\n",
    "\n",
    "# Show the plot\n",
    "plt.show()\n"
   ]
  },
  {
   "cell_type": "code",
   "execution_count": 101,
   "id": "566836f7",
   "metadata": {},
   "outputs": [
    {
     "name": "stdout",
     "output_type": "stream",
     "text": [
      "Original NumPy Array: [1 2 3 4 5]\n",
      "Converted single element (int): 1\n",
      "Converted NumPy array to Python list: [1, 2, 3, 4, 5]\n"
     ]
    }
   ],
   "source": [
    "# Write a NumPy program to convert numpy dtypes to native python types.\n",
    "import numpy as np\n",
    "\n",
    "# Create a NumPy array of integers\n",
    "numpy_array = np.array([1, 2, 3, 4, 5])\n",
    "\n",
    "# Convert single element to native Python type (int)\n",
    "python_int = numpy_array[0].item()\n",
    "\n",
    "# Convert entire NumPy array to a native Python list\n",
    "python_list = numpy_array.tolist()\n",
    "\n",
    "# Print the results\n",
    "print(\"Original NumPy Array:\", numpy_array)\n",
    "print(\"Converted single element (int):\", python_int)\n",
    "print(\"Converted NumPy array to Python list:\", python_list)\n",
    "\n"
   ]
  },
  {
   "cell_type": "code",
   "execution_count": 102,
   "id": "534c1d3a",
   "metadata": {},
   "outputs": [
    {
     "name": "stdout",
     "output_type": "stream",
     "text": [
      "[False False  True False  True False False]\n",
      "(array([2, 4], dtype=int64),)\n"
     ]
    }
   ],
   "source": [
    "# Write a NumPy program to find the missing data in a given array.\n",
    "\n",
    "array_with_missing_data = np.array([1, 2, np.nan, 4, np.nan, 6, 7])\n",
    "m=np.isnan(array_with_missing_data)\n",
    "print(m)\n",
    "n=np.where(m)\n",
    "print(n)"
   ]
  },
  {
   "cell_type": "code",
   "execution_count": 103,
   "id": "4066b3ab",
   "metadata": {},
   "outputs": [
    {
     "name": "stdout",
     "output_type": "stream",
     "text": [
      "Original Array:\n",
      "[[9 7 3]\n",
      " [4 1 6]\n",
      " [8 2 5]]\n",
      "\n",
      "Array sorted by row:\n",
      "[[3 7 9]\n",
      " [1 4 6]\n",
      " [2 5 8]]\n",
      "\n",
      "Array sorted by column:\n",
      "[[4 1 3]\n",
      " [8 2 5]\n",
      " [9 7 6]]\n"
     ]
    }
   ],
   "source": [
    "# Write a NumPy program to sort a given array by row and column in ascending order.\n",
    "import numpy as np\n",
    "\n",
    "# Create a sample 3x3 NumPy array\n",
    "array = np.array([[9, 7, 3],\n",
    "                  [4, 1, 6],\n",
    "                  [8, 2, 5]])\n",
    "\n",
    "# Sort by row (ascending order)\n",
    "sorted_by_row = np.sort(array, axis=1)\n",
    "\n",
    "# Sort by column (ascending order)\n",
    "sorted_by_column = np.sort(array, axis=0)\n",
    "\n",
    "# Print the original array\n",
    "print(\"Original Array:\")\n",
    "print(array)\n",
    "\n",
    "# Print the array sorted by row\n",
    "print(\"\\nArray sorted by row:\")\n",
    "print(sorted_by_row)\n",
    "\n",
    "# Print the array sorted by column\n",
    "print(\"\\nArray sorted by column:\")\n",
    "print(sorted_by_column)\n",
    "\n"
   ]
  },
  {
   "cell_type": "code",
   "execution_count": 104,
   "id": "31d2a5b9",
   "metadata": {},
   "outputs": [
    {
     "name": "stdout",
     "output_type": "stream",
     "text": [
      "Original Array:\n",
      "[ 10  25  30  45  50  60  75  90 100]\n",
      "\n",
      "Numbers less than 50 :\n",
      "[10 25 30 45]\n",
      "\n",
      "Numbers greater than 50 :\n",
      "[ 60  75  90 100]\n"
     ]
    }
   ],
   "source": [
    "# Write a NumPy program to extract all numbers from a given array which are less and greater than a specified number.\n",
    "import numpy as np\n",
    "\n",
    "# Create a sample NumPy array\n",
    "array = np.array([10, 25, 30, 45, 50, 60, 75, 90, 100])\n",
    "\n",
    "# Specify the number for comparison\n",
    "specified_number = 50\n",
    "\n",
    "# Extract numbers less than the specified number\n",
    "less_than_number = array[array < specified_number]\n",
    "\n",
    "# Extract numbers greater than the specified number\n",
    "greater_than_number = array[array > specified_number]\n",
    "\n",
    "# Print the results\n",
    "print(\"Original Array:\")\n",
    "print(array)\n",
    "\n",
    "print(\"\\nNumbers less than\", specified_number, \":\")\n",
    "print(less_than_number)\n",
    "\n",
    "print(\"\\nNumbers greater than\", specified_number, \":\")\n",
    "print(greater_than_number)\n",
    "\n"
   ]
  },
  {
   "cell_type": "code",
   "execution_count": 106,
   "id": "6bc0f8ae",
   "metadata": {},
   "outputs": [
    {
     "name": "stdout",
     "output_type": "stream",
     "text": [
      "Modified Array:\n",
      "[  0   0   0   0   0 100 100 100 100]\n"
     ]
    }
   ],
   "source": [
    "# Write a NumPy program to replace all numbers in a given array which is equal, less and greater to a given number.\n",
    "import numpy as np\n",
    "\n",
    "# Create a sample NumPy array\n",
    "array = np.array([10, 25, 30, 45, 50, 60, 75, 90, 100])\n",
    "\n",
    "# Specify the number for comparison\n",
    "specified_number = 50\n",
    "\n",
    "# Replace numbers equal to the specified number with -1\n",
    "array[array == specified_number] = -1\n",
    "\n",
    "# Replace numbers less than the specified number with 0\n",
    "array[array < specified_number] = 0\n",
    "\n",
    "# Replace numbers greater than the specified number with 100\n",
    "array[array > specified_number] = 100\n",
    "\n",
    "# Print the modified array\n",
    "print(\"Modified Array:\")\n",
    "print(array)\n"
   ]
  },
  {
   "cell_type": "code",
   "execution_count": 108,
   "id": "82677921",
   "metadata": {},
   "outputs": [
    {
     "name": "stdout",
     "output_type": "stream",
     "text": [
      "Original Array:\n",
      "[[1 2 3]\n",
      " [4 5 6]]\n",
      "\n",
      "New Array with the same shape and data type:\n",
      "[[1 2 3]\n",
      " [4 5 6]]\n"
     ]
    }
   ],
   "source": [
    "# Write a NumPy program to create an array of equal shape and data type of a given array.\n",
    "\n",
    "import numpy as np\n",
    "\n",
    "# Create a sample NumPy array\n",
    "array = np.array([[1, 2, 3], [4, 5, 6]])\n",
    "\n",
    "# Create an array of equal shape and data type using np.empty_like()\n",
    "new_array = np.empty_like(array)\n",
    "\n",
    "# Print the original array\n",
    "print(\"Original Array:\")\n",
    "print(array)\n",
    "\n",
    "# Print the new array with the same shape and data type\n",
    "print(\"\\nNew Array with the same shape and data type:\")\n",
    "print(new_array)\n"
   ]
  },
  {
   "cell_type": "code",
   "execution_count": 109,
   "id": "b1e89855",
   "metadata": {},
   "outputs": [
    {
     "name": "stdout",
     "output_type": "stream",
     "text": [
      "Three-dimensional array with shape (3, 5, 4):\n",
      "[[[0.90671415 0.68754209 0.92429081 0.97933701]\n",
      "  [0.16418704 0.10580616 0.61017668 0.3974067 ]\n",
      "  [0.18913214 0.52698504 0.39964878 0.43019848]\n",
      "  [0.76443144 0.30108974 0.38779852 0.06243169]\n",
      "  [0.54372611 0.30317612 0.83028814 0.48098014]]\n",
      "\n",
      " [[0.41126229 0.98018705 0.84114881 0.18709683]\n",
      "  [0.92896904 0.41444933 0.47600321 0.44334128]\n",
      "  [0.46115676 0.27221753 0.63704932 0.44251638]\n",
      "  [0.00882777 0.47238833 0.83023481 0.29792615]\n",
      "  [0.86415084 0.4096872  0.29260198 0.70845339]]\n",
      "\n",
      " [[0.89487314 0.96033664 0.77946733 0.80596361]\n",
      "  [0.75274003 0.24228143 0.96367465 0.66827134]\n",
      "  [0.79306511 0.35823559 0.43484714 0.98698267]\n",
      "  [0.42677886 0.48536607 0.00853693 0.0446561 ]\n",
      "  [0.64511184 0.27691638 0.15887964 0.05781145]]]\n"
     ]
    }
   ],
   "source": [
    "# Write a NumPy program to create a three-dimension array with shape (3,5,4) and set to a variable.\n",
    "array = np.random.rand(3, 5, 4)  # Random values between 0 and 1\n",
    "\n",
    "# Print the array\n",
    "print(\"Three-dimensional array with shape (3, 5, 4):\")\n",
    "print(array)\n"
   ]
  },
  {
   "cell_type": "code",
   "execution_count": 110,
   "id": "0ce3f58d",
   "metadata": {},
   "outputs": [
    {
     "name": "stdout",
     "output_type": "stream",
     "text": [
      "Element-by-element multiplication of two arrays:\n",
      "[ 5 12 21 32]\n"
     ]
    }
   ],
   "source": [
    "# Write a NumPy program to multiply two given arrays of same size element-by-element.\n",
    "import numpy as np\n",
    "\n",
    "# Create two sample NumPy arrays of the same size\n",
    "array1 = np.array([1, 2, 3, 4])\n",
    "array2 = np.array([5, 6, 7, 8])\n",
    "\n",
    "# Multiply the two arrays element-by-element\n",
    "result = array1 * array2\n",
    "\n",
    "# Print the result\n",
    "print(\"Element-by-element multiplication of two arrays:\")\n",
    "print(result)\n",
    "\n"
   ]
  },
  {
   "cell_type": "code",
   "execution_count": null,
   "id": "31e999be",
   "metadata": {},
   "outputs": [],
   "source": []
  }
 ],
 "metadata": {
  "kernelspec": {
   "display_name": "Python 3",
   "language": "python",
   "name": "python3"
  },
  "language_info": {
   "codemirror_mode": {
    "name": "ipython",
    "version": 3
   },
   "file_extension": ".py",
   "mimetype": "text/x-python",
   "name": "python",
   "nbconvert_exporter": "python",
   "pygments_lexer": "ipython3",
   "version": "3.12.10"
  }
 },
 "nbformat": 4,
 "nbformat_minor": 5
}
