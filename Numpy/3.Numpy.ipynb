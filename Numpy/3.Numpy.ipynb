{
 "cells": [
  {
   "cell_type": "markdown",
   "id": "dbfefc3a",
   "metadata": {},
   "source": [
    "Write a Numpy program to get the numpy version and show numpy build configuration."
   ]
  },
  {
   "cell_type": "code",
   "execution_count": 1,
   "id": "779be789",
   "metadata": {},
   "outputs": [],
   "source": [
    "import numpy as np"
   ]
  },
  {
   "cell_type": "code",
   "execution_count": 2,
   "id": "06a827a0",
   "metadata": {},
   "outputs": [
    {
     "name": "stdout",
     "output_type": "stream",
     "text": [
      "1.26.4\n",
      "Build Dependencies:\n",
      "  blas:\n",
      "    detection method: pkgconfig\n",
      "    found: true\n",
      "    include directory: /c/opt/64/include\n",
      "    lib directory: /c/opt/64/lib\n",
      "    name: openblas64\n",
      "    openblas configuration: USE_64BITINT=1 DYNAMIC_ARCH=1 DYNAMIC_OLDER= NO_CBLAS=\n",
      "      NO_LAPACK= NO_LAPACKE= NO_AFFINITY=1 USE_OPENMP= SKYLAKEX MAX_THREADS=2\n",
      "    pc file directory: C:/opt/64/lib/pkgconfig\n",
      "    version: 0.3.23.dev\n",
      "  lapack:\n",
      "    detection method: internal\n",
      "    found: true\n",
      "    include directory: unknown\n",
      "    lib directory: unknown\n",
      "    name: dep3179274605568\n",
      "    openblas configuration: unknown\n",
      "    pc file directory: unknown\n",
      "    version: 1.26.4\n",
      "Compilers:\n",
      "  c:\n",
      "    commands: cl\n",
      "    linker: link\n",
      "    name: msvc\n",
      "    version: 19.29.30153\n",
      "  c++:\n",
      "    commands: cl\n",
      "    linker: link\n",
      "    name: msvc\n",
      "    version: 19.29.30153\n",
      "  cython:\n",
      "    commands: cython\n",
      "    linker: cython\n",
      "    name: cython\n",
      "    version: 3.0.8\n",
      "Machine Information:\n",
      "  build:\n",
      "    cpu: x86_64\n",
      "    endian: little\n",
      "    family: x86_64\n",
      "    system: windows\n",
      "  host:\n",
      "    cpu: x86_64\n",
      "    endian: little\n",
      "    family: x86_64\n",
      "    system: windows\n",
      "Python Information:\n",
      "  path: C:\\Users\\runneradmin\\AppData\\Local\\Temp\\cibw-run-g7slqwov\\cp312-win_amd64\\build\\venv\\Scripts\\python.exe\n",
      "  version: '3.12'\n",
      "SIMD Extensions:\n",
      "  baseline:\n",
      "  - SSE\n",
      "  - SSE2\n",
      "  - SSE3\n",
      "  found:\n",
      "  - SSSE3\n",
      "  - SSE41\n",
      "  - POPCNT\n",
      "  - SSE42\n",
      "  - AVX\n",
      "  - F16C\n",
      "  - FMA3\n",
      "  - AVX2\n",
      "  not found:\n",
      "  - AVX512F\n",
      "  - AVX512CD\n",
      "  - AVX512_SKX\n",
      "  - AVX512_CLX\n",
      "  - AVX512_CNL\n",
      "  - AVX512_ICL\n",
      "\n",
      "None\n"
     ]
    }
   ],
   "source": [
    "print(np.__version__)\n",
    "print(np.show_config())"
   ]
  },
  {
   "cell_type": "markdown",
   "id": "fc29591e",
   "metadata": {},
   "source": [
    "Write a NumPy program to get help on the add function."
   ]
  },
  {
   "cell_type": "code",
   "execution_count": 3,
   "id": "ad33547c",
   "metadata": {},
   "outputs": [
    {
     "name": "stdout",
     "output_type": "stream",
     "text": [
      "add(x1, x2, /, out=None, *, where=True, casting='same_kind', order='K', dtype=None, subok=True[, signature, extobj])\n",
      "\n",
      "Add arguments element-wise.\n",
      "\n",
      "Parameters\n",
      "----------\n",
      "x1, x2 : array_like\n",
      "    The arrays to be added.\n",
      "    If ``x1.shape != x2.shape``, they must be broadcastable to a common\n",
      "    shape (which becomes the shape of the output).\n",
      "out : ndarray, None, or tuple of ndarray and None, optional\n",
      "    A location into which the result is stored. If provided, it must have\n",
      "    a shape that the inputs broadcast to. If not provided or None,\n",
      "    a freshly-allocated array is returned. A tuple (possible only as a\n",
      "    keyword argument) must have length equal to the number of outputs.\n",
      "where : array_like, optional\n",
      "    This condition is broadcast over the input. At locations where the\n",
      "    condition is True, the `out` array will be set to the ufunc result.\n",
      "    Elsewhere, the `out` array will retain its original value.\n",
      "    Note that if an uninitialized `out` array is created via the default\n",
      "    ``out=None``, locations within it where the condition is False will\n",
      "    remain uninitialized.\n",
      "**kwargs\n",
      "    For other keyword-only arguments, see the\n",
      "    :ref:`ufunc docs <ufuncs.kwargs>`.\n",
      "\n",
      "Returns\n",
      "-------\n",
      "add : ndarray or scalar\n",
      "    The sum of `x1` and `x2`, element-wise.\n",
      "    This is a scalar if both `x1` and `x2` are scalars.\n",
      "\n",
      "Notes\n",
      "-----\n",
      "Equivalent to `x1` + `x2` in terms of array broadcasting.\n",
      "\n",
      "Examples\n",
      "--------\n",
      ">>> np.add(1.0, 4.0)\n",
      "5.0\n",
      ">>> x1 = np.arange(9.0).reshape((3, 3))\n",
      ">>> x2 = np.arange(3.0)\n",
      ">>> np.add(x1, x2)\n",
      "array([[  0.,   2.,   4.],\n",
      "       [  3.,   5.,   7.],\n",
      "       [  6.,   8.,  10.]])\n",
      "\n",
      "The ``+`` operator can be used as a shorthand for ``np.add`` on ndarrays.\n",
      "\n",
      ">>> x1 = np.arange(9.0).reshape((3, 3))\n",
      ">>> x2 = np.arange(3.0)\n",
      ">>> x1 + x2\n",
      "array([[ 0.,  2.,  4.],\n",
      "       [ 3.,  5.,  7.],\n",
      "       [ 6.,  8., 10.]])\n",
      "None\n"
     ]
    }
   ],
   "source": [
    "print(np.info(np.add))"
   ]
  },
  {
   "cell_type": "markdown",
   "id": "58d39211",
   "metadata": {},
   "source": [
    "Write a NumPy program to test whether none of the elements of a given array is zero."
   ]
  },
  {
   "cell_type": "code",
   "execution_count": 4,
   "id": "05d47e96",
   "metadata": {},
   "outputs": [
    {
     "name": "stdout",
     "output_type": "stream",
     "text": [
      "Original Array:\n",
      "[1 2 3 4]\n",
      "Test if none of the elements of the said array is zero:\n",
      "True\n",
      "Original Array\n",
      "[0 1 2 3]\n",
      "Test if none of the elements of the siad array is zero:\n",
      "False\n"
     ]
    }
   ],
   "source": [
    "x=np.array([1,2,3,4])\n",
    "print(\"Original Array:\")\n",
    "print(x)\n",
    "\n",
    "print(\"Test if none of the elements of the said array is zero:\")\n",
    "print(np.all(x))\n",
    "\n",
    "xy=np.array([0,1,2,3])\n",
    "print(\"Original Array\")\n",
    "print(xy)\n",
    "\n",
    "print(\"Test if none of the elements of the siad array is zero:\")\n",
    "print(np.all(xy))"
   ]
  },
  {
   "cell_type": "markdown",
   "id": "9d9d9871",
   "metadata": {},
   "source": [
    "Write a NumPy program to test whether any of the elements of a given array is non-zero."
   ]
  },
  {
   "cell_type": "code",
   "execution_count": 5,
   "id": "4819d564",
   "metadata": {},
   "outputs": [
    {
     "name": "stdout",
     "output_type": "stream",
     "text": [
      "Original Array\n",
      "[1 0 0 0]\n",
      "Test Whether any of the elements of a given array is non-zero:\n",
      "True\n",
      "\n",
      "\n",
      "Original Array:\n",
      "[0 0 0 0]\n",
      " Test whether any of the elements of a give array is non zero:\n",
      "False\n"
     ]
    }
   ],
   "source": [
    "x=np.array([1,0,0,0])\n",
    "print(\"Original Array\")\n",
    "print(x)\n",
    "\n",
    "print(\"Test Whether any of the elements of a given array is non-zero:\")\n",
    "print(np.any(x))\n",
    "\n",
    "print(\"\\n\")\n",
    "\n",
    "xy=np.array([0,0,0,0])\n",
    "print(\"Original Array:\")\n",
    "print(xy)\n",
    "print(\" Test whether any of the elements of a give array is non zero:\")\n",
    "print(np.any(xy))"
   ]
  },
  {
   "cell_type": "markdown",
   "id": "7699de92",
   "metadata": {},
   "source": [
    "Write a NumPy program to test a given array element-wise for finiteness (not infinity or not a\n",
    "Number)."
   ]
  },
  {
   "cell_type": "code",
   "execution_count": 6,
   "id": "f6448ed1",
   "metadata": {},
   "outputs": [
    {
     "name": "stdout",
     "output_type": "stream",
     "text": [
      "Original Array:\n",
      "[ 1.  0. nan inf]\n",
      "\n",
      "\n",
      "Test a given array element wise for finiteness :\n",
      "[ True  True False False]\n"
     ]
    }
   ],
   "source": [
    "a=np.array([1,0,np.nan, np.inf])\n",
    "print(\"Original Array:\")\n",
    "print(a)\n",
    "print('\\n')\n",
    "print(\"Test a given array element wise for finiteness :\")\n",
    "print(np.isfinite(a))"
   ]
  },
  {
   "cell_type": "code",
   "execution_count": 7,
   "id": "0abf69fd",
   "metadata": {},
   "outputs": [
    {
     "name": "stdout",
     "output_type": "stream",
     "text": [
      "Elementwise positive infinity check : [False False  True False False False]\n",
      "Elementwise negative infinity check: [False False False  True False False]\n"
     ]
    }
   ],
   "source": [
    "array = np.array([1, -2, np.inf, -np.inf, 0, 3.5])\n",
    "result_pos_inf = np.isposinf(array)\n",
    "result_neg_inf = np.isneginf(array)\n",
    "\n",
    "print(\"Elementwise positive infinity check :\", result_pos_inf)\n",
    "print(\"Elementwise negative infinity check:\", result_neg_inf)"
   ]
  },
  {
   "cell_type": "markdown",
   "id": "e499e007",
   "metadata": {},
   "source": [
    "Write a NumPy program to test element-wise for NaN of a given array."
   ]
  },
  {
   "cell_type": "code",
   "execution_count": 8,
   "id": "e8c3377c",
   "metadata": {},
   "outputs": [
    {
     "name": "stdout",
     "output_type": "stream",
     "text": [
      "Original Array\n",
      "[ 1.  0. nan inf]\n",
      "\n",
      "\n",
      "Test Element wise for Nan:\n",
      "[False False  True False]\n"
     ]
    }
   ],
   "source": [
    "a=np.array([1,0,np.nan, np.inf])\n",
    "print(\"Original Array\")\n",
    "print(a)\n",
    "print('\\n')\n",
    "print(\"Test Element wise for Nan:\")\n",
    "print(np.isnan(a))"
   ]
  },
  {
   "cell_type": "markdown",
   "id": "b20a0a58",
   "metadata": {},
   "source": [
    "Write a NumPy program to test element-wise for complex number, real number of a given array.\n",
    "Also test whether a given number is a scalar type or not."
   ]
  },
  {
   "cell_type": "code",
   "execution_count": 9,
   "id": "3b78ce45",
   "metadata": {},
   "outputs": [
    {
     "name": "stdout",
     "output_type": "stream",
     "text": [
      "Original Array:\n",
      "[1. +1.j 1. +0.j 4.5+0.j 3. +0.j 2. +0.j 0. +2.j]\n",
      "\n",
      "\n",
      "Checking for complex number:\n",
      "[ True False False False False  True]\n",
      "\n",
      "\n",
      "Checking for real number:\n",
      "[False  True  True  True  True False]\n",
      "Checking for scalar type:\n",
      "True\n",
      "\n",
      "\n",
      "False\n"
     ]
    }
   ],
   "source": [
    "a=np.array([1+1j, 1+0j, 4.5, 3, 2, 2j])\n",
    "print(\"Original Array:\")\n",
    "print(a)\n",
    "print('\\n')\n",
    "print(\"Checking for complex number:\")\n",
    "print(np.iscomplex(a))\n",
    "print('\\n')\n",
    "print(\"Checking for real number:\")\n",
    "print(np.isreal(a))\n",
    "print(\"Checking for scalar type:\")\n",
    "print(np.isscalar(3.1))\n",
    "print('\\n')\n",
    "print(np.isscalar([3.1]))"
   ]
  },
  {
   "cell_type": "markdown",
   "id": "37544a75",
   "metadata": {},
   "source": [
    "Write a NumPy program to create an element-wise comparison (greater, greater_equal, less and\n",
    "less_equal) of two given arrays."
   ]
  },
  {
   "cell_type": "code",
   "execution_count": 10,
   "id": "bdf5fe5f",
   "metadata": {},
   "outputs": [
    {
     "name": "stdout",
     "output_type": "stream",
     "text": [
      "\n",
      "\n",
      "Original Numbers :\n",
      "[3 5]\n",
      "[2 5]\n",
      "\n",
      "\n",
      "Comparison - greater\n",
      "[ True False]\n",
      "\n",
      "\n",
      "Comparison - greater_equal\n",
      "[ True  True]\n",
      "\n",
      "\n",
      "Comparison - less\n",
      "[False False]\n",
      "\n",
      "\n",
      "Comparison - less_equal\n",
      "[False  True]\n"
     ]
    }
   ],
   "source": [
    "x=np.array([3,5])\n",
    "y=np.array([2,5])\n",
    "print(\"\\n\")\n",
    "print(\"Original Numbers :\")\n",
    "print(x)\n",
    "print(y)\n",
    "print(\"\\n\")\n",
    "print(\"Comparison - greater\")\n",
    "print(np.greater(x, y))\n",
    "print(\"\\n\")\n",
    "print(\"Comparison - greater_equal\")\n",
    "print(np.greater_equal(x,y))\n",
    "print(\"\\n\")\n",
    "print(\"Comparison - less\")\n",
    "print(np.less(x,y))\n",
    "print('\\n')\n",
    "print(\"Comparison - less_equal\")\n",
    "print(np.less_equal(x,y))\n"
   ]
  },
  {
   "cell_type": "markdown",
   "id": "b61acf66",
   "metadata": {},
   "source": [
    "Write a NumPy program to create an array with the values 1, 7, 13, 105 and determine the size of\n",
    "the memory occupied by the array."
   ]
  },
  {
   "cell_type": "code",
   "execution_count": 11,
   "id": "b575a510",
   "metadata": {},
   "outputs": [
    {
     "name": "stdout",
     "output_type": "stream",
     "text": [
      "Original Array:\n",
      "[  1   7  13 105]\n",
      "4\n",
      "4\n",
      "Size of the memeory occupied by the said array:\n",
      "16 bytes\n"
     ]
    }
   ],
   "source": [
    "x=np.array([1,7,13,105])\n",
    "print(\"Original Array:\")\n",
    "print(x)\n",
    "print(x.size)\n",
    "print(x.itemsize)\n",
    "print(\"Size of the memeory occupied by the said array:\")\n",
    "print(\"%d bytes\" % (x.size * x.itemsize))"
   ]
  },
  {
   "cell_type": "markdown",
   "id": "1975d3d8",
   "metadata": {},
   "source": [
    "Write a NumPy program to create an array of 10 zeros,10 ones, 10 fives."
   ]
  },
  {
   "cell_type": "code",
   "execution_count": 12,
   "id": "18662ec1",
   "metadata": {},
   "outputs": [
    {
     "name": "stdout",
     "output_type": "stream",
     "text": [
      "Any array of 10 zeros:\n",
      "[0. 0. 0. 0. 0. 0. 0. 0. 0. 0.]\n",
      "\n",
      "\n",
      "An array of 10 ones:\n",
      "[1. 1. 1. 1. 1. 1. 1. 1. 1. 1.]\n",
      "\n",
      "\n",
      "An array of 10 fives:\n",
      "[5. 5. 5. 5. 5. 5. 5. 5. 5. 5.]\n"
     ]
    }
   ],
   "source": [
    "array = np.zeros(10)\n",
    "print(\"Any array of 10 zeros:\")\n",
    "print(array)\n",
    "print(\"\\n\")\n",
    "array=np.ones(10)\n",
    "print(\"An array of 10 ones:\")\n",
    "print(array)\n",
    "print('\\n')\n",
    "array = np.ones(10)*5\n",
    "print(\"An array of 10 fives:\")\n",
    "print(array)"
   ]
  },
  {
   "cell_type": "markdown",
   "id": "26aee714",
   "metadata": {},
   "source": [
    "Write a NumPy program to create an array of the integers from 30 to70."
   ]
  },
  {
   "cell_type": "code",
   "execution_count": 13,
   "id": "2e41d593",
   "metadata": {},
   "outputs": [
    {
     "name": "stdout",
     "output_type": "stream",
     "text": [
      "Array of the integers from 30 to 70\n",
      "[30 31 32 33 34 35 36 37 38 39 40 41 42 43 44 45 46 47 48 49 50 51 52 53\n",
      " 54 55 56 57 58 59 60 61 62 63 64 65 66 67 68 69 70]\n"
     ]
    }
   ],
   "source": [
    "array = np.arange(30, 71)\n",
    "print(\"Array of the integers from 30 to 70\")\n",
    "print(array)"
   ]
  },
  {
   "cell_type": "markdown",
   "id": "1aa294fc",
   "metadata": {},
   "source": [
    "Write a NumPy program to create an array of all the even integers from 30 to 70."
   ]
  },
  {
   "cell_type": "code",
   "execution_count": 14,
   "id": "4e563194",
   "metadata": {},
   "outputs": [
    {
     "name": "stdout",
     "output_type": "stream",
     "text": [
      "Array of the integers from 30 to 70\n",
      "[30 32 34 36 38 40 42 44 46 48 50 52 54 56 58 60 62 64 66 68 70]\n"
     ]
    }
   ],
   "source": [
    "array = np.arange(30, 71, 2)\n",
    "print(\"Array of the integers from 30 to 70\")\n",
    "print(array)"
   ]
  },
  {
   "cell_type": "markdown",
   "id": "e41956aa",
   "metadata": {},
   "source": [
    "Write a NumPy program to create a 3x3 identity matrix."
   ]
  },
  {
   "cell_type": "code",
   "execution_count": 15,
   "id": "67c08991",
   "metadata": {},
   "outputs": [
    {
     "name": "stdout",
     "output_type": "stream",
     "text": [
      "3x3 matrix:\n",
      "[[1. 0. 0.]\n",
      " [0. 1. 0.]\n",
      " [0. 0. 1.]]\n"
     ]
    }
   ],
   "source": [
    "array_2d = np.identity(3)\n",
    "print('3x3 matrix:')\n",
    "print(array_2d)"
   ]
  },
  {
   "cell_type": "code",
   "execution_count": 16,
   "id": "a7223515",
   "metadata": {},
   "outputs": [
    {
     "name": "stdout",
     "output_type": "stream",
     "text": [
      "3x3 matrix:\n",
      "[[1. 0. 0. 0. 0.]\n",
      " [0. 1. 0. 0. 0.]\n",
      " [0. 0. 1. 0. 0.]\n",
      " [0. 0. 0. 1. 0.]\n",
      " [0. 0. 0. 0. 1.]]\n"
     ]
    }
   ],
   "source": [
    "array_2d = np.identity(5)\n",
    "print('3x3 matrix:')\n",
    "print(array_2d)"
   ]
  },
  {
   "cell_type": "markdown",
   "id": "a48fa536",
   "metadata": {},
   "source": [
    "Write a NumPy program to generate a random number between 0 and 1."
   ]
  },
  {
   "cell_type": "code",
   "execution_count": 17,
   "id": "093bf593",
   "metadata": {},
   "outputs": [
    {
     "name": "stdout",
     "output_type": "stream",
     "text": [
      "Random number between 0 and 1:\n",
      "[-1.14876847]\n"
     ]
    }
   ],
   "source": [
    "rand_num = np.random.normal(0, 1, 1)\n",
    "print(\"Random number between 0 and 1:\")\n",
    "print(rand_num)"
   ]
  },
  {
   "cell_type": "code",
   "execution_count": 18,
   "id": "ce493b8e",
   "metadata": {},
   "outputs": [
    {
     "name": "stdout",
     "output_type": "stream",
     "text": [
      "Random number between 0 and 1:\n",
      "[0.72357485 1.06643069 1.81573541]\n"
     ]
    }
   ],
   "source": [
    "rand_num = np.random.normal(0, 1, 3)\n",
    "print(\"Random number between 0 and 1:\")\n",
    "print(rand_num)"
   ]
  },
  {
   "cell_type": "markdown",
   "id": "7026a711",
   "metadata": {},
   "source": [
    "Write a NumPy program to generate an array of 15 random numbers from a standard normal\n",
    "distribution."
   ]
  },
  {
   "cell_type": "code",
   "execution_count": 19,
   "id": "9343e7ca",
   "metadata": {},
   "outputs": [
    {
     "name": "stdout",
     "output_type": "stream",
     "text": [
      "15 random numbers from a standard normal distribution :\n",
      "[-1.69990751  0.21041813  1.24948331 -0.1995352  -0.99007624 -0.73086726\n",
      " -0.30343652  0.44732672  0.7845417   1.07757829  1.83652464  0.65995234\n",
      "  0.0546666   0.52208713 -1.93002932]\n"
     ]
    }
   ],
   "source": [
    "rand_num = np.random.normal(0, 1, 15)\n",
    "print(\"15 random numbers from a standard normal distribution :\")\n",
    "print(rand_num)"
   ]
  },
  {
   "cell_type": "markdown",
   "id": "6f4f338a",
   "metadata": {},
   "source": [
    "Write a NumPy program to create a vector with values ranging from 15 to 55 and print all values\n",
    "except the first and last."
   ]
  },
  {
   "cell_type": "code",
   "execution_count": 20,
   "id": "81f8993f",
   "metadata": {},
   "outputs": [
    {
     "name": "stdout",
     "output_type": "stream",
     "text": [
      "Original Vector :\n",
      "[15 16 17 18 19 20 21 22 23 24 25 26 27 28 29 30 31 32 33 34 35 36 37 38\n",
      " 39 40 41 42 43 44 45 46 47 48 49 50 51 52 53 54]\n",
      "\n",
      "\n",
      "All values except the first and last of the said vector\n",
      "[16 17 18 19 20 21 22 23 24 25 26 27 28 29 30 31 32 33 34 35 36 37 38 39\n",
      " 40 41 42 43 44 45 46 47 48 49 50 51 52 53]\n"
     ]
    }
   ],
   "source": [
    "v = np.arange(15, 55)\n",
    "print(\"Original Vector :\")\n",
    "print(v)\n",
    "print('\\n')\n",
    "print(\"All values except the first and last of the said vector\")\n",
    "print(v[1:-1])"
   ]
  },
  {
   "cell_type": "markdown",
   "id": "c05cabdd",
   "metadata": {},
   "source": [
    "Write a NumPy program to create a 3X4 array using and iterate over it."
   ]
  },
  {
   "cell_type": "code",
   "execution_count": 26,
   "id": "682e8396",
   "metadata": {},
   "outputs": [
    {
     "name": "stdout",
     "output_type": "stream",
     "text": [
      "Original Array:\n",
      "[10 11 12 13 14 15 16 17 18 19 20 21]\n",
      "\n",
      "\n",
      "Each Element of the array is:\n",
      "101112131415161718192021"
     ]
    }
   ],
   "source": [
    "a1=np.arange(10,22)\n",
    "print(\"Original Array:\")\n",
    "print(a1)\n",
    "print('\\n')\n",
    "print(\"Each Element of the array is:\")\n",
    "for x in np.nditer(a):\n",
    "    print(x, end='')\n"
   ]
  },
  {
   "cell_type": "markdown",
   "id": "0f1106d1",
   "metadata": {},
   "source": [
    "Write a NumPy program to create a vector of length 10 with values evenly distributed between 5\n",
    "and 50."
   ]
  },
  {
   "cell_type": "code",
   "execution_count": 27,
   "id": "feeda2d5",
   "metadata": {},
   "outputs": [
    {
     "name": "stdout",
     "output_type": "stream",
     "text": [
      "Length 10 with values evenly distributed betweenn 5 and 50:\n",
      "[10.   19.75 29.5  39.25 49.  ]\n"
     ]
    }
   ],
   "source": [
    "v=np.linspace(10, 49, 5)\n",
    "print(\"Length 10 with values evenly distributed betweenn 5 and 50:\")\n",
    "print(v)"
   ]
  },
  {
   "cell_type": "markdown",
   "id": "f80ab398",
   "metadata": {},
   "source": [
    "Write a NumPy program to create a vector with values from 0 to 20 and change the sign of the\n",
    "numbers in the range from 9 to 15."
   ]
  },
  {
   "cell_type": "code",
   "execution_count": 29,
   "id": "4644af35",
   "metadata": {},
   "outputs": [
    {
     "name": "stdout",
     "output_type": "stream",
     "text": [
      "Original Vector:\n",
      "[ 0  1  2  3  4  5  6  7  8  9 10 11 12 13 14 15 16 17 18 19 20]\n",
      "\n",
      "\n",
      "After changing the sign of the numbers in the range from 9 to 15:\n",
      "[  0   1   2   3   4   5   6   7   8  -9 -10 -11 -12 -13 -14 -15  16  17\n",
      "  18  19  20]\n"
     ]
    }
   ],
   "source": [
    "x=np.arange(21)\n",
    "print(\"Original Vector:\")\n",
    "print(x)\n",
    "print('\\n')\n",
    "x[(x>=9)&(x<=15)]*=-1\n",
    "print(\"After changing the sign of the numbers in the range from 9 to 15:\")\n",
    "print(x)"
   ]
  },
  {
   "cell_type": "markdown",
   "id": "1bfcafc2",
   "metadata": {},
   "source": [
    "Write a NumPy program to create a vector of length 5 filled with arbitrary integers from 0 to 10."
   ]
  },
  {
   "cell_type": "code",
   "execution_count": 33,
   "id": "2cd5f0ac",
   "metadata": {},
   "outputs": [
    {
     "name": "stdout",
     "output_type": "stream",
     "text": [
      "Vector of length 5 filled with arbitrary integgers from 0 to 10:\n",
      "[ 0 10  3  1  1]\n"
     ]
    }
   ],
   "source": [
    "x = np.random.randint(0, 11, 5)\n",
    "print(\"Vector of length 5 filled with arbitrary integgers from 0 to 10:\")\n",
    "print(x)"
   ]
  },
  {
   "cell_type": "markdown",
   "id": "66dc5c0c",
   "metadata": {},
   "source": [
    "NumPy: Multiply the values ​​of two given vectors\n"
   ]
  },
  {
   "cell_type": "code",
   "execution_count": 37,
   "id": "2a7a1da4",
   "metadata": {},
   "outputs": [
    {
     "name": "stdout",
     "output_type": "stream",
     "text": [
      "Vector-1\n",
      "[1 8 3 5]\n",
      "\n",
      "\n",
      "Vector-2\n",
      "[ 5 10  4  7]\n",
      "\n",
      "\n",
      "Multiply the values of two said vectors:\n",
      "[ 5 80 12 35]\n"
     ]
    }
   ],
   "source": [
    "x=np.array([1,8,3,5])\n",
    "print('Vector-1')\n",
    "print(x)\n",
    "print('\\n')\n",
    "y=np.random.randint(0,11,4)\n",
    "print('Vector-2')\n",
    "print(y)\n",
    "print('\\n')\n",
    "result = x*y\n",
    "print(\"Multiply the values of two said vectors:\")\n",
    "print(result)"
   ]
  },
  {
   "cell_type": "markdown",
   "id": "86552078",
   "metadata": {},
   "source": [
    "Write a NumPy program to create a 3x4 matrix filled with values from 10 to 21."
   ]
  },
  {
   "cell_type": "code",
   "execution_count": 40,
   "id": "c66dec23",
   "metadata": {},
   "outputs": [
    {
     "name": "stdout",
     "output_type": "stream",
     "text": [
      "[[10 11 12 13]\n",
      " [14 15 16 17]\n",
      " [18 19 20 21]]\n"
     ]
    }
   ],
   "source": [
    "m=np.arange(10,22).reshape((3,4))\n",
    "print(m)\n"
   ]
  },
  {
   "cell_type": "markdown",
   "id": "2cb0f1da",
   "metadata": {},
   "source": [
    "Write a NumPy program to find the number of rows and columns of a given matrix."
   ]
  },
  {
   "cell_type": "code",
   "execution_count": 42,
   "id": "b2f061db",
   "metadata": {},
   "outputs": [
    {
     "name": "stdout",
     "output_type": "stream",
     "text": [
      "NUmber of rows and columns of the said matrix:\n",
      "(3, 4)\n"
     ]
    }
   ],
   "source": [
    "m=np.arange(10,22).reshape((3,4))\n",
    "print(\"NUmber of rows and columns of the said matrix:\")\n",
    "print(m.shape)"
   ]
  },
  {
   "cell_type": "markdown",
   "id": "57feb8a3",
   "metadata": {},
   "source": [
    "Write a NumPy program to create a 3x3 identity matrix, i.e. diagonal elements are 1, the rest are 0."
   ]
  },
  {
   "cell_type": "code",
   "execution_count": 45,
   "id": "95290add",
   "metadata": {},
   "outputs": [
    {
     "name": "stdout",
     "output_type": "stream",
     "text": [
      "[[1. 0. 0.]\n",
      " [0. 1. 0.]\n",
      " [0. 0. 1.]]\n"
     ]
    }
   ],
   "source": [
    "x=np.eye(3)\n",
    "print(x)"
   ]
  },
  {
   "cell_type": "code",
   "execution_count": 46,
   "id": "4096e187",
   "metadata": {},
   "outputs": [
    {
     "name": "stdout",
     "output_type": "stream",
     "text": [
      "[[1. 0. 0.]\n",
      " [0. 1. 0.]\n",
      " [0. 0. 1.]]\n"
     ]
    }
   ],
   "source": [
    "x=np.identity(3)\n",
    "print(x)"
   ]
  },
  {
   "cell_type": "markdown",
   "id": "f3d64243",
   "metadata": {},
   "source": [
    "Write a NumPy program to create a 10x10 matrix, in which the elements on the borders will be\n",
    "equal to 1, and inside 0."
   ]
  },
  {
   "cell_type": "code",
   "execution_count": null,
   "id": "f4290667",
   "metadata": {},
   "outputs": [],
   "source": []
  }
 ],
 "metadata": {
  "kernelspec": {
   "display_name": "base",
   "language": "python",
   "name": "python3"
  },
  "language_info": {
   "codemirror_mode": {
    "name": "ipython",
    "version": 3
   },
   "file_extension": ".py",
   "mimetype": "text/x-python",
   "name": "python",
   "nbconvert_exporter": "python",
   "pygments_lexer": "ipython3",
   "version": "3.12.10"
  }
 },
 "nbformat": 4,
 "nbformat_minor": 5
}
