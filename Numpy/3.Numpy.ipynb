{
 "cells": [
  {
   "cell_type": "markdown",
   "id": "dbfefc3a",
   "metadata": {},
   "source": [
    "Write a Numpy program to get the numpy version and show numpy build configuration."
   ]
  },
  {
   "cell_type": "code",
   "execution_count": 1,
   "id": "779be789",
   "metadata": {},
   "outputs": [],
   "source": [
    "import numpy as np"
   ]
  },
  {
   "cell_type": "code",
   "execution_count": 3,
   "id": "06a827a0",
   "metadata": {},
   "outputs": [
    {
     "name": "stdout",
     "output_type": "stream",
     "text": [
      "1.19.2\n",
      "blas_mkl_info:\n",
      "    libraries = ['mkl_rt']\n",
      "    library_dirs = ['C:/ProgramData/Anaconda3\\\\Library\\\\lib']\n",
      "    define_macros = [('SCIPY_MKL_H', None), ('HAVE_CBLAS', None)]\n",
      "    include_dirs = ['C:/ProgramData/Anaconda3\\\\Library\\\\include']\n",
      "blas_opt_info:\n",
      "    libraries = ['mkl_rt']\n",
      "    library_dirs = ['C:/ProgramData/Anaconda3\\\\Library\\\\lib']\n",
      "    define_macros = [('SCIPY_MKL_H', None), ('HAVE_CBLAS', None)]\n",
      "    include_dirs = ['C:/ProgramData/Anaconda3\\\\Library\\\\include']\n",
      "lapack_mkl_info:\n",
      "    libraries = ['mkl_rt']\n",
      "    library_dirs = ['C:/ProgramData/Anaconda3\\\\Library\\\\lib']\n",
      "    define_macros = [('SCIPY_MKL_H', None), ('HAVE_CBLAS', None)]\n",
      "    include_dirs = ['C:/ProgramData/Anaconda3\\\\Library\\\\include']\n",
      "lapack_opt_info:\n",
      "    libraries = ['mkl_rt']\n",
      "    library_dirs = ['C:/ProgramData/Anaconda3\\\\Library\\\\lib']\n",
      "    define_macros = [('SCIPY_MKL_H', None), ('HAVE_CBLAS', None)]\n",
      "    include_dirs = ['C:/ProgramData/Anaconda3\\\\Library\\\\include']\n",
      "None\n"
     ]
    }
   ],
   "source": [
    "print(np.__version__)\n",
    "print(np.show_config())"
   ]
  },
  {
   "cell_type": "markdown",
   "id": "fc29591e",
   "metadata": {},
   "source": [
    "Write a NumPy program to get help on the add function."
   ]
  },
  {
   "cell_type": "code",
   "execution_count": 5,
   "id": "ad33547c",
   "metadata": {},
   "outputs": [
    {
     "name": "stdout",
     "output_type": "stream",
     "text": [
      "add(x1, x2, /, out=None, *, where=True, casting='same_kind', order='K', dtype=None, subok=True[, signature, extobj])\n",
      "\n",
      "Add arguments element-wise.\n",
      "\n",
      "Parameters\n",
      "----------\n",
      "x1, x2 : array_like\n",
      "    The arrays to be added.\n",
      "    If ``x1.shape != x2.shape``, they must be broadcastable to a common\n",
      "    shape (which becomes the shape of the output).\n",
      "out : ndarray, None, or tuple of ndarray and None, optional\n",
      "    A location into which the result is stored. If provided, it must have\n",
      "    a shape that the inputs broadcast to. If not provided or None,\n",
      "    a freshly-allocated array is returned. A tuple (possible only as a\n",
      "    keyword argument) must have length equal to the number of outputs.\n",
      "where : array_like, optional\n",
      "    This condition is broadcast over the input. At locations where the\n",
      "    condition is True, the `out` array will be set to the ufunc result.\n",
      "    Elsewhere, the `out` array will retain its original value.\n",
      "    Note that if an uninitialized `out` array is created via the default\n",
      "    ``out=None``, locations within it where the condition is False will\n",
      "    remain uninitialized.\n",
      "**kwargs\n",
      "    For other keyword-only arguments, see the\n",
      "    :ref:`ufunc docs <ufuncs.kwargs>`.\n",
      "\n",
      "Returns\n",
      "-------\n",
      "add : ndarray or scalar\n",
      "    The sum of `x1` and `x2`, element-wise.\n",
      "    This is a scalar if both `x1` and `x2` are scalars.\n",
      "\n",
      "Notes\n",
      "-----\n",
      "Equivalent to `x1` + `x2` in terms of array broadcasting.\n",
      "\n",
      "Examples\n",
      "--------\n",
      ">>> np.add(1.0, 4.0)\n",
      "5.0\n",
      ">>> x1 = np.arange(9.0).reshape((3, 3))\n",
      ">>> x2 = np.arange(3.0)\n",
      ">>> np.add(x1, x2)\n",
      "array([[  0.,   2.,   4.],\n",
      "       [  3.,   5.,   7.],\n",
      "       [  6.,   8.,  10.]])\n",
      "None\n"
     ]
    }
   ],
   "source": [
    "print(np.info(np.add))"
   ]
  },
  {
   "cell_type": "markdown",
   "id": "58d39211",
   "metadata": {},
   "source": [
    "Write a NumPy program to test whether none of the elements of a given array is zero."
   ]
  },
  {
   "cell_type": "code",
   "execution_count": 8,
   "id": "05d47e96",
   "metadata": {},
   "outputs": [
    {
     "name": "stdout",
     "output_type": "stream",
     "text": [
      "Original Array:\n",
      "[1 2 3 4]\n",
      "Test if none of the elements of the said array is zero:\n",
      "True\n",
      "Original Array\n",
      "[0 1 2 3]\n",
      "Test if none of the elements of the siad array is zero:\n",
      "False\n"
     ]
    }
   ],
   "source": [
    "x=np.array([1,2,3,4])\n",
    "print(\"Original Array:\")\n",
    "print(x)\n",
    "\n",
    "print(\"Test if none of the elements of the said array is zero:\")\n",
    "print(np.all(x))\n",
    "\n",
    "xy=np.array([0,1,2,3])\n",
    "print(\"Original Array\")\n",
    "print(xy)\n",
    "\n",
    "print(\"Test if none of the elements of the siad array is zero:\")\n",
    "print(np.all(xy))"
   ]
  },
  {
   "cell_type": "markdown",
   "id": "9d9d9871",
   "metadata": {},
   "source": [
    "Write a NumPy program to test whether any of the elements of a given array is non-zero."
   ]
  },
  {
   "cell_type": "code",
   "execution_count": 10,
   "id": "4819d564",
   "metadata": {},
   "outputs": [
    {
     "name": "stdout",
     "output_type": "stream",
     "text": [
      "Original Array\n",
      "[1 0 0 0]\n",
      "Test Whether any of the elements of a given array is non-zero:\n",
      "True\n",
      "\n",
      "\n",
      "Original Array:\n",
      "[0 0 0 0]\n",
      " Test whether any of the elements of a give array is non zero:\n",
      "False\n"
     ]
    }
   ],
   "source": [
    "x=np.array([1,0,0,0])\n",
    "print(\"Original Array\")\n",
    "print(x)\n",
    "\n",
    "print(\"Test Whether any of the elements of a given array is non-zero:\")\n",
    "print(np.any(x))\n",
    "\n",
    "print(\"\\n\")\n",
    "\n",
    "xy=np.array([0,0,0,0])\n",
    "print(\"Original Array:\")\n",
    "print(xy)\n",
    "print(\" Test whether any of the elements of a give array is non zero:\")\n",
    "print(np.any(xy))"
   ]
  },
  {
   "cell_type": "markdown",
   "id": "7699de92",
   "metadata": {},
   "source": [
    "Write a NumPy program to test a given array element-wise for finiteness (not infinity or not a\n",
    "Number)."
   ]
  },
  {
   "cell_type": "code",
   "execution_count": 11,
   "id": "f6448ed1",
   "metadata": {},
   "outputs": [
    {
     "name": "stdout",
     "output_type": "stream",
     "text": [
      "Original Array:\n",
      "[ 1.  0. nan inf]\n",
      "\n",
      "\n",
      "Test a given array element wise for finiteness :\n",
      "[ True  True False False]\n"
     ]
    }
   ],
   "source": [
    "a=np.array([1,0,np.nan, np.inf])\n",
    "print(\"Original Array:\")\n",
    "print(a)\n",
    "print('\\n')\n",
    "print(\"Test a given array element wise for finiteness :\")\n",
    "print(np.isfinite(a))"
   ]
  },
  {
   "cell_type": "code",
   "execution_count": 14,
   "id": "0abf69fd",
   "metadata": {},
   "outputs": [
    {
     "name": "stdout",
     "output_type": "stream",
     "text": [
      "Elementwise positive infinity check : [False False  True False False False]\n",
      "Elementwise negative infinity check: [False False False  True False False]\n"
     ]
    }
   ],
   "source": [
    "array = np.array([1, -2, np.inf, -np.inf, 0, 3.5])\n",
    "result_pos_inf = np.isposinf(array)\n",
    "result_neg_inf = np.isneginf(array)\n",
    "\n",
    "print(\"Elementwise positive infinity check :\", result_pos_inf)\n",
    "print(\"Elementwise negative infinity check:\", result_neg_inf)"
   ]
  },
  {
   "cell_type": "markdown",
   "id": "e499e007",
   "metadata": {},
   "source": [
    "Write a NumPy program to test element-wise for NaN of a given array."
   ]
  },
  {
   "cell_type": "code",
   "execution_count": 15,
   "id": "e8c3377c",
   "metadata": {},
   "outputs": [
    {
     "name": "stdout",
     "output_type": "stream",
     "text": [
      "Original Array\n",
      "[ 1.  0. nan inf]\n",
      "\n",
      "\n",
      "Test Element wise for Nan:\n",
      "[False False  True False]\n"
     ]
    }
   ],
   "source": [
    "a=np.array([1,0,np.nan, np.inf])\n",
    "print(\"Original Array\")\n",
    "print(a)\n",
    "print('\\n')\n",
    "print(\"Test Element wise for Nan:\")\n",
    "print(np.isnan(a))"
   ]
  },
  {
   "cell_type": "markdown",
   "id": "b20a0a58",
   "metadata": {},
   "source": [
    "Write a NumPy program to test element-wise for complex number, real number of a given array.\n",
    "Also test whether a given number is a scalar type or not."
   ]
  },
  {
   "cell_type": "code",
   "execution_count": 16,
   "id": "3b78ce45",
   "metadata": {},
   "outputs": [
    {
     "name": "stdout",
     "output_type": "stream",
     "text": [
      "Original Array:\n",
      "[1. +1.j 1. +0.j 4.5+0.j 3. +0.j 2. +0.j 0. +2.j]\n",
      "\n",
      "\n",
      "Checking for complex number:\n",
      "[ True False False False False  True]\n",
      "\n",
      "\n",
      "Checking for real number:\n",
      "[False  True  True  True  True False]\n",
      "Checking for scalar type:\n",
      "True\n",
      "\n",
      "\n",
      "False\n"
     ]
    }
   ],
   "source": [
    "a=np.array([1+1j, 1+0j, 4.5, 3, 2, 2j])\n",
    "print(\"Original Array:\")\n",
    "print(a)\n",
    "print('\\n')\n",
    "print(\"Checking for complex number:\")\n",
    "print(np.iscomplex(a))\n",
    "print('\\n')\n",
    "print(\"Checking for real number:\")\n",
    "print(np.isreal(a))\n",
    "print(\"Checking for scalar type:\")\n",
    "print(np.isscalar(3.1))\n",
    "print('\\n')\n",
    "print(np.isscalar([3.1]))"
   ]
  },
  {
   "cell_type": "markdown",
   "id": "37544a75",
   "metadata": {},
   "source": [
    "Write a NumPy program to create an element-wise comparison (greater, greater_equal, less and\n",
    "less_equal) of two given arrays."
   ]
  },
  {
   "cell_type": "code",
   "execution_count": 24,
   "id": "bdf5fe5f",
   "metadata": {},
   "outputs": [
    {
     "name": "stdout",
     "output_type": "stream",
     "text": [
      "\n",
      "\n",
      "Original Numbers :\n",
      "[3 5]\n",
      "[2 5]\n",
      "\n",
      "\n",
      "Comparison - greater\n",
      "[ True False]\n",
      "\n",
      "\n",
      "Comparison - greater_equal\n",
      "[ True  True]\n",
      "\n",
      "\n",
      "Comparison - less\n",
      "[False False]\n",
      "\n",
      "\n",
      "Comparison - less_equal\n",
      "[False  True]\n"
     ]
    }
   ],
   "source": [
    "x=np.array([3,5])\n",
    "y=np.array([2,5])\n",
    "print(\"\\n\")\n",
    "print(\"Original Numbers :\")\n",
    "print(x)\n",
    "print(y)\n",
    "print(\"\\n\")\n",
    "print(\"Comparison - greater\")\n",
    "print(np.greater(x, y))\n",
    "print(\"\\n\")\n",
    "print(\"Comparison - greater_equal\")\n",
    "print(np.greater_equal(x,y))\n",
    "print(\"\\n\")\n",
    "print(\"Comparison - less\")\n",
    "print(np.less(x,y))\n",
    "print('\\n')\n",
    "print(\"Comparison - less_equal\")\n",
    "print(np.less_equal(x,y))\n"
   ]
  },
  {
   "cell_type": "markdown",
   "id": "b61acf66",
   "metadata": {},
   "source": [
    "Write a NumPy program to create an array with the values 1, 7, 13, 105 and determine the size of\n",
    "the memory occupied by the array."
   ]
  },
  {
   "cell_type": "code",
   "execution_count": 28,
   "id": "b575a510",
   "metadata": {},
   "outputs": [
    {
     "name": "stdout",
     "output_type": "stream",
     "text": [
      "Original Array:\n",
      "[  1   7  13 105]\n",
      "4\n",
      "4\n",
      "Size of the memeory occupied by the said array:\n",
      "16 bytes\n"
     ]
    }
   ],
   "source": [
    "x=np.array([1,7,13,105])\n",
    "print(\"Original Array:\")\n",
    "print(x)\n",
    "print(x.size)\n",
    "print(x.itemsize)\n",
    "print(\"Size of the memeory occupied by the said array:\")\n",
    "print(\"%d bytes\" % (x.size * x.itemsize))"
   ]
  },
  {
   "cell_type": "markdown",
   "id": "1975d3d8",
   "metadata": {},
   "source": [
    "Write a NumPy program to create an array of 10 zeros,10 ones, 10 fives."
   ]
  },
  {
   "cell_type": "code",
   "execution_count": 30,
   "id": "18662ec1",
   "metadata": {},
   "outputs": [
    {
     "name": "stdout",
     "output_type": "stream",
     "text": [
      "Any array of 10 zeros:\n",
      "[0. 0. 0. 0. 0. 0. 0. 0. 0. 0.]\n",
      "\n",
      "\n",
      "An array of 10 ones:\n",
      "[1. 1. 1. 1. 1. 1. 1. 1. 1. 1.]\n",
      "\n",
      "\n",
      "An array of 10 fives:\n",
      "[5. 5. 5. 5. 5. 5. 5. 5. 5. 5.]\n"
     ]
    }
   ],
   "source": [
    "array = np.zeros(10)\n",
    "print(\"Any array of 10 zeros:\")\n",
    "print(array)\n",
    "print(\"\\n\")\n",
    "array=np.ones(10)\n",
    "print(\"An array of 10 ones:\")\n",
    "print(array)\n",
    "print('\\n')\n",
    "array = np.ones(10)*5\n",
    "print(\"An array of 10 fives:\")\n",
    "print(array)"
   ]
  },
  {
   "cell_type": "markdown",
   "id": "26aee714",
   "metadata": {},
   "source": [
    "Write a NumPy program to create an array of the integers from 30 to70."
   ]
  },
  {
   "cell_type": "code",
   "execution_count": 31,
   "id": "2e41d593",
   "metadata": {},
   "outputs": [
    {
     "name": "stdout",
     "output_type": "stream",
     "text": [
      "Array of the integers from 30 to 70\n",
      "[30 31 32 33 34 35 36 37 38 39 40 41 42 43 44 45 46 47 48 49 50 51 52 53\n",
      " 54 55 56 57 58 59 60 61 62 63 64 65 66 67 68 69 70]\n"
     ]
    }
   ],
   "source": [
    "array = np.arange(30, 71)\n",
    "print(\"Array of the integers from 30 to 70\")\n",
    "print(array)"
   ]
  },
  {
   "cell_type": "markdown",
   "id": "1aa294fc",
   "metadata": {},
   "source": [
    "Write a NumPy program to create an array of all the even integers from 30 to 70."
   ]
  },
  {
   "cell_type": "code",
   "execution_count": 32,
   "id": "4e563194",
   "metadata": {},
   "outputs": [
    {
     "name": "stdout",
     "output_type": "stream",
     "text": [
      "Array of the integers from 30 to 70\n",
      "[30 32 34 36 38 40 42 44 46 48 50 52 54 56 58 60 62 64 66 68 70]\n"
     ]
    }
   ],
   "source": [
    "array = np.arange(30, 71, 2)\n",
    "print(\"Array of the integers from 30 to 70\")\n",
    "print(array)"
   ]
  },
  {
   "cell_type": "markdown",
   "id": "e41956aa",
   "metadata": {},
   "source": [
    "Write a NumPy program to create a 3x3 identity matrix."
   ]
  },
  {
   "cell_type": "code",
   "execution_count": 33,
   "id": "67c08991",
   "metadata": {},
   "outputs": [
    {
     "name": "stdout",
     "output_type": "stream",
     "text": [
      "3x3 matrix:\n",
      "[[1. 0. 0.]\n",
      " [0. 1. 0.]\n",
      " [0. 0. 1.]]\n"
     ]
    }
   ],
   "source": [
    "array_2d = np.identity(3)\n",
    "print('3x3 matrix:')\n",
    "print(array_2d)"
   ]
  },
  {
   "cell_type": "code",
   "execution_count": 34,
   "id": "a7223515",
   "metadata": {},
   "outputs": [
    {
     "name": "stdout",
     "output_type": "stream",
     "text": [
      "3x3 matrix:\n",
      "[[1. 0. 0. 0. 0.]\n",
      " [0. 1. 0. 0. 0.]\n",
      " [0. 0. 1. 0. 0.]\n",
      " [0. 0. 0. 1. 0.]\n",
      " [0. 0. 0. 0. 1.]]\n"
     ]
    }
   ],
   "source": [
    "array_2d = np.identity(5)\n",
    "print('3x3 matrix:')\n",
    "print(array_2d)"
   ]
  },
  {
   "cell_type": "markdown",
   "id": "a48fa536",
   "metadata": {},
   "source": [
    "Write a NumPy program to generate a random number between 0 and 1."
   ]
  },
  {
   "cell_type": "code",
   "execution_count": 37,
   "id": "093bf593",
   "metadata": {},
   "outputs": [
    {
     "name": "stdout",
     "output_type": "stream",
     "text": [
      "Random number between 0 and 1:\n",
      "[0.38190363]\n"
     ]
    }
   ],
   "source": [
    "rand_num = np.random.normal(0, 1, 1)\n",
    "print(\"Random number between 0 and 1:\")\n",
    "print(rand_num)"
   ]
  },
  {
   "cell_type": "code",
   "execution_count": 38,
   "id": "ce493b8e",
   "metadata": {},
   "outputs": [
    {
     "name": "stdout",
     "output_type": "stream",
     "text": [
      "Random number between 0 and 1:\n",
      "[-1.59665862 -1.16109389  1.69418948]\n"
     ]
    }
   ],
   "source": [
    "rand_num = np.random.normal(0, 1, 3)\n",
    "print(\"Random number between 0 and 1:\")\n",
    "print(rand_num)"
   ]
  },
  {
   "cell_type": "markdown",
   "id": "7026a711",
   "metadata": {},
   "source": [
    "Write a NumPy program to generate an array of 15 random numbers from a standard normal\n",
    "distribution."
   ]
  },
  {
   "cell_type": "code",
   "execution_count": 39,
   "id": "9343e7ca",
   "metadata": {},
   "outputs": [
    {
     "name": "stdout",
     "output_type": "stream",
     "text": [
      "15 random numbers from a standard normal distribution :\n",
      "[ 0.39802276 -0.43721524 -0.35494448  0.63749768 -0.10807239 -0.04855807\n",
      " -1.03692337 -0.34675744 -1.49196256  0.87852807  0.42072505  0.68881782\n",
      " -0.5743914  -0.56197732 -0.17176456]\n"
     ]
    }
   ],
   "source": [
    "rand_num = np.random.normal(0, 1, 15)\n",
    "print(\"15 random numbers from a standard normal distribution :\")\n",
    "print(rand_num)"
   ]
  },
  {
   "cell_type": "markdown",
   "id": "6f4f338a",
   "metadata": {},
   "source": [
    "Write a NumPy program to create a vector with values ranging from 15 to 55 and print all values\n",
    "except the first and last."
   ]
  },
  {
   "cell_type": "code",
   "execution_count": 40,
   "id": "81f8993f",
   "metadata": {},
   "outputs": [
    {
     "name": "stdout",
     "output_type": "stream",
     "text": [
      "Original Vector :\n",
      "[15 16 17 18 19 20 21 22 23 24 25 26 27 28 29 30 31 32 33 34 35 36 37 38\n",
      " 39 40 41 42 43 44 45 46 47 48 49 50 51 52 53 54]\n",
      "\n",
      "\n",
      "All values except the first and last of the said vector\n",
      "[16 17 18 19 20 21 22 23 24 25 26 27 28 29 30 31 32 33 34 35 36 37 38 39\n",
      " 40 41 42 43 44 45 46 47 48 49 50 51 52 53]\n"
     ]
    }
   ],
   "source": [
    "v = np.arange(15, 55)\n",
    "print(\"Original Vector :\")\n",
    "print(v)\n",
    "print('\\n')\n",
    "print(\"All values except the first and last of the said vector\")\n",
    "print(v[1:-1])"
   ]
  },
  {
   "cell_type": "markdown",
   "id": "c05cabdd",
   "metadata": {},
   "source": [
    "Write a NumPy program to create a 3X4 array using and iterate over it."
   ]
  },
  {
   "cell_type": "code",
   "execution_count": null,
   "id": "682e8396",
   "metadata": {},
   "outputs": [],
   "source": []
  },
  {
   "cell_type": "code",
   "execution_count": null,
   "id": "feeda2d5",
   "metadata": {},
   "outputs": [],
   "source": []
  },
  {
   "cell_type": "code",
   "execution_count": null,
   "id": "4644af35",
   "metadata": {},
   "outputs": [],
   "source": []
  },
  {
   "cell_type": "code",
   "execution_count": null,
   "id": "3545d3ee",
   "metadata": {},
   "outputs": [],
   "source": []
  },
  {
   "cell_type": "code",
   "execution_count": null,
   "id": "2cd5f0ac",
   "metadata": {},
   "outputs": [],
   "source": []
  },
  {
   "cell_type": "code",
   "execution_count": null,
   "id": "2a7a1da4",
   "metadata": {},
   "outputs": [],
   "source": []
  },
  {
   "cell_type": "code",
   "execution_count": null,
   "id": "c66dec23",
   "metadata": {},
   "outputs": [],
   "source": []
  }
 ],
 "metadata": {
  "kernelspec": {
   "display_name": "base",
   "language": "python",
   "name": "python3"
  },
  "language_info": {
   "codemirror_mode": {
    "name": "ipython",
    "version": 3
   },
   "file_extension": ".py",
   "mimetype": "text/x-python",
   "name": "python",
   "nbconvert_exporter": "python",
   "pygments_lexer": "ipython3",
   "version": "3.8.5"
  }
 },
 "nbformat": 4,
 "nbformat_minor": 5
}
