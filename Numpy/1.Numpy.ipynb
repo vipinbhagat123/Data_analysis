{
 "cells": [
  {
   "cell_type": "code",
   "execution_count": 1,
   "id": "20007fee",
   "metadata": {},
   "outputs": [],
   "source": [
    "import numpy as np"
   ]
  },
  {
   "cell_type": "code",
   "execution_count": 2,
   "id": "17972c07",
   "metadata": {},
   "outputs": [
    {
     "name": "stdout",
     "output_type": "stream",
     "text": [
      "Basic Array\n",
      "[1 2 3 4 5 6]\n",
      "[[1 2 3]\n",
      " [4 5 6]]\n",
      "[7 8 9]\n",
      "1d: [1 2 3 4 5 6] \n",
      "2d: [[1 2 3]\n",
      " [4 5 6]] \n",
      "3d: [7 8 9]\n"
     ]
    }
   ],
   "source": [
    "# Basic Array Creation\n",
    "\n",
    "arr1 = np.array([1,2,3,4,5,6])\n",
    "arr2 = np.array([[1,2,3], [4,5,6]])\n",
    "arr3 = np.array((7,8,9))\n",
    "print(\"Basic Array\")\n",
    "print(arr1)\n",
    "print(arr2)\n",
    "print(arr3)\n",
    "\n",
    "print(\"1d:\", arr1, \"\\n2d:\", arr2, \"\\n3d:\", arr3)"
   ]
  },
  {
   "cell_type": "code",
   "execution_count": 3,
   "id": "f11c907d",
   "metadata": {},
   "outputs": [
    {
     "name": "stdout",
     "output_type": "stream",
     "text": [
      "[ 0.   2.5  5.   7.5 10. ]\n",
      "[0]\n"
     ]
    }
   ],
   "source": [
    "# Special Array Creation\n",
    "\n",
    "line = np.linspace(0, 10, 5)     # 5 Numbers from 0 to 10\n",
    "print(line)\n",
    "\n",
    "rang = np.arange(0, 1, 3)\n",
    "print(rang)"
   ]
  },
  {
   "cell_type": "code",
   "execution_count": 4,
   "id": "0c9200b3",
   "metadata": {},
   "outputs": [
    {
     "name": "stdout",
     "output_type": "stream",
     "text": [
      "[ 0.  5. 10. 15. 20.]\n",
      "[ 0  3  6  9 12 15 18 21 24 27]\n"
     ]
    }
   ],
   "source": [
    "# Special Array Creation\n",
    "\n",
    "line = np.linspace(0, 20, 5)     # 5 Numbers from 0 to 10\n",
    "print(line)\n",
    "\n",
    "rang = np.arange(0, 30, 3)   \n",
    "print(rang)"
   ]
  },
  {
   "cell_type": "code",
   "execution_count": 6,
   "id": "97168ad6",
   "metadata": {},
   "outputs": [
    {
     "name": "stdout",
     "output_type": "stream",
     "text": [
      "[[-1.40680866 -0.19877526  0.96166597]\n",
      " [ 1.53090322  0.24934693  0.25737614]\n",
      " [ 0.98948722  0.31105992  0.34734075]]\n"
     ]
    }
   ],
   "source": [
    "rand_normal = np.random.randn(3, 3) # 3x3 Random Normal Distribution\n",
    "print(rand_normal)"
   ]
  },
  {
   "cell_type": "code",
   "execution_count": 11,
   "id": "093bd6bc",
   "metadata": {},
   "outputs": [
    {
     "name": "stdout",
     "output_type": "stream",
     "text": [
      "[[-1.40429668 -8.39845753  2.8767536 ]\n",
      " [ 0.33249893 -5.9540914  -7.95899566]\n",
      " [ 1.32621614 -4.02094773 -3.17197911]]\n"
     ]
    }
   ],
   "source": [
    "rand_custom_normal = np.random.normal(0,5, (3,3))\n",
    "print(rand_custom_normal)"
   ]
  },
  {
   "cell_type": "code",
   "execution_count": null,
   "id": "df4e64b8",
   "metadata": {},
   "outputs": [
    {
     "name": "stdout",
     "output_type": "stream",
     "text": [
      "[1. 2. 3. 2.]\n"
     ]
    }
   ],
   "source": [
    "lis = [1,2,3,2.0]\n",
    "new_arr = np.array(lis) # Convert list to array\n",
    "print(new_arr)          "
   ]
  },
  {
   "cell_type": "code",
   "execution_count": 13,
   "id": "15315870",
   "metadata": {},
   "outputs": [
    {
     "name": "stdout",
     "output_type": "stream",
     "text": [
      "[ 0  1  2  3  4  5  6  7  8  9 10 11]\n"
     ]
    }
   ],
   "source": [
    "r=np.arange(12)\n",
    "print(r)"
   ]
  },
  {
   "cell_type": "code",
   "execution_count": 14,
   "id": "8ddb0812",
   "metadata": {},
   "outputs": [
    {
     "name": "stdout",
     "output_type": "stream",
     "text": [
      "[[ 0  1  2  3]\n",
      " [ 4  5  6  7]\n",
      " [ 8  9 10 11]]\n"
     ]
    }
   ],
   "source": [
    "reshaped=np.arange(12).reshape(3,4) # Reshape array to 3x4\n",
    "print(reshaped)"
   ]
  },
  {
   "cell_type": "code",
   "execution_count": 15,
   "id": "4090b478",
   "metadata": {},
   "outputs": [
    {
     "name": "stdout",
     "output_type": "stream",
     "text": [
      "[[0 0 0 0]\n",
      " [0 0 0 0]\n",
      " [0 0 0 0]]\n"
     ]
    }
   ],
   "source": [
    "zero = np.zeros_like(reshaped) # Create array of zeros with same shape as reshaped\n",
    "print(zero)"
   ]
  },
  {
   "cell_type": "code",
   "execution_count": 16,
   "id": "fc2cc2b1",
   "metadata": {},
   "outputs": [
    {
     "name": "stdout",
     "output_type": "stream",
     "text": [
      "[[1 1 1 1]\n",
      " [1 1 1 1]\n",
      " [1 1 1 1]]\n"
     ]
    }
   ],
   "source": [
    "ones = np.ones_like(reshaped) # Create array of ones with same shape as reshaped\n",
    "print(ones)"
   ]
  },
  {
   "cell_type": "code",
   "execution_count": 17,
   "id": "ce8717a6",
   "metadata": {},
   "outputs": [
    {
     "name": "stdout",
     "output_type": "stream",
     "text": [
      "[[5 5 5 5]\n",
      " [5 5 5 5]\n",
      " [5 5 5 5]]\n"
     ]
    }
   ],
   "source": [
    "full = np.full_like(reshaped, 5) # Create array of fives with same shape as reshaped\n",
    "print(full)"
   ]
  },
  {
   "cell_type": "code",
   "execution_count": 18,
   "id": "e8aed669",
   "metadata": {},
   "outputs": [
    {
     "name": "stdout",
     "output_type": "stream",
     "text": [
      "zero: [[0 0 0 0]\n",
      " [0 0 0 0]\n",
      " [0 0 0 0]] \n",
      "ones [[1 1 1 1]\n",
      " [1 1 1 1]\n",
      " [1 1 1 1]] \n",
      "full [[5 5 5 5]\n",
      " [5 5 5 5]\n",
      " [5 5 5 5]] \n",
      "reshaped:\n",
      " [[ 0  1  2  3]\n",
      " [ 4  5  6  7]\n",
      " [ 8  9 10 11]]\n"
     ]
    }
   ],
   "source": [
    "reshaped = np.arange(12).reshape(3,4) # 3x4 matrix with numbers from 0 to 11\n",
    "zero = np.zeros_like(reshaped) # 3x4 matrix with all elements 0\n",
    "ones = np.ones_like(reshaped) # 3x4 matrix with all elements 1\n",
    "full = np.full_like(reshaped, 5) # 3x4 matrix with all elements 5\n",
    "print(\"zero:\", zero, \"\\nones\", ones, \"\\nfull\", full,\"\\nreshaped:\\n\", reshaped)"
   ]
  },
  {
   "cell_type": "code",
   "execution_count": 19,
   "id": "f79e762c",
   "metadata": {},
   "outputs": [
    {
     "name": "stdout",
     "output_type": "stream",
     "text": [
      "[ 1  2  3  4  5  6  7  8  9 10]\n"
     ]
    }
   ],
   "source": [
    "arr = np.array([1,2,3,4,5,6,7,8,9,10])\n",
    "print(arr)"
   ]
  },
  {
   "cell_type": "code",
   "execution_count": 20,
   "id": "f08f3caa",
   "metadata": {},
   "outputs": [
    {
     "name": "stdout",
     "output_type": "stream",
     "text": [
      "[ 1  2  3  4  5  6  7  8  9 10]\n"
     ]
    }
   ],
   "source": [
    "arr_deep = arr.copy() # Create a deep copy of arr\n",
    "print(arr_deep)"
   ]
  },
  {
   "cell_type": "code",
   "execution_count": 21,
   "id": "fd5c3a96",
   "metadata": {},
   "outputs": [
    {
     "name": "stdout",
     "output_type": "stream",
     "text": [
      "[  1   2   3   4   5 100   7   8   9  10]\n",
      "[ 1  2  3  4  5  6  7  8  9 10]\n"
     ]
    }
   ],
   "source": [
    "arr[5] = 100 # Change the value of arr[5] to 100\n",
    "print(arr)\n",
    "print(arr_deep) # arr_deep remains unchanged"
   ]
  },
  {
   "cell_type": "code",
   "execution_count": 22,
   "id": "82043504",
   "metadata": {},
   "outputs": [
    {
     "name": "stdout",
     "output_type": "stream",
     "text": [
      "[  5 100   7   8   9  10]\n"
     ]
    }
   ],
   "source": [
    "print(arr[arr>4])"
   ]
  },
  {
   "cell_type": "code",
   "execution_count": 23,
   "id": "fdf16335",
   "metadata": {},
   "outputs": [
    {
     "name": "stdout",
     "output_type": "stream",
     "text": [
      "[100   7   8   9  10]\n"
     ]
    }
   ],
   "source": [
    "x = 5\n",
    "print(arr[arr>x]) # Print elements of arr greater than x"
   ]
  },
  {
   "cell_type": "code",
   "execution_count": 26,
   "id": "8e3aa4ef",
   "metadata": {},
   "outputs": [
    {
     "name": "stdout",
     "output_type": "stream",
     "text": [
      "[0 1 2 3 4 5 6 7 8 9]\n",
      "[10 11 12 13 14 15 16 17 18 19]\n",
      "[10 12 14 16 18 20 22 24 26 28]\n",
      "[-10 -10 -10 -10 -10 -10 -10 -10 -10 -10]\n",
      "[  0  11  24  39  56  75  96 119 144 171]\n",
      "[0.         0.09090909 0.16666667 0.23076923 0.28571429 0.33333333\n",
      " 0.375      0.41176471 0.44444444 0.47368421]\n",
      "[ 0  1  4  9 16 25 36 49 64 81]\n",
      "[0 1 0 1 0 1 0 1 0 1]\n",
      "[0 0 1 1 2 2 3 3 4 4]\n",
      "[ 0  1  4  9 16 25 36 49 64 81]\n",
      "[  0   1   8  27  64 125 216 343 512 729]\n"
     ]
    }
   ],
   "source": [
    "a = np.arange(10)\n",
    "print(a)\n",
    "b = np.arange(10, 20)\n",
    "print(b)\n",
    "print(a+b)\n",
    "print(a-b)\n",
    "print(a*b)\n",
    "print(a/b)\n",
    "print(a**2)\n",
    "print(a%2) # Modulus operator\n",
    "print(a//2) # Floor division operator\n",
    "print(a**2) # Exponentiation operator\n",
    "print(a**3) # Exponentiation operator"
   ]
  },
  {
   "cell_type": "code",
   "execution_count": 27,
   "id": "32926237",
   "metadata": {},
   "outputs": [
    {
     "name": "stdout",
     "output_type": "stream",
     "text": [
      "[0.         1.         1.41421356 1.73205081 2.         2.23606798\n",
      " 2.44948974 2.64575131 2.82842712 3.        ]\n"
     ]
    }
   ],
   "source": [
    "print(np.sqrt(a))\n"
   ]
  },
  {
   "cell_type": "code",
   "execution_count": 28,
   "id": "a5f71ecf",
   "metadata": {},
   "outputs": [
    {
     "name": "stdout",
     "output_type": "stream",
     "text": [
      "[      -inf 0.         0.69314718 1.09861229 1.38629436 1.60943791\n",
      " 1.79175947 1.94591015 2.07944154 2.19722458]\n"
     ]
    },
    {
     "name": "stderr",
     "output_type": "stream",
     "text": [
      "C:\\Users\\Asus\\AppData\\Local\\Temp\\ipykernel_336\\897204776.py:1: RuntimeWarning: divide by zero encountered in log\n",
      "  print(np.log(a))\n"
     ]
    }
   ],
   "source": [
    "print(np.log(a))"
   ]
  },
  {
   "cell_type": "code",
   "execution_count": 29,
   "id": "aeee721c",
   "metadata": {},
   "outputs": [
    {
     "name": "stdout",
     "output_type": "stream",
     "text": [
      "45\n",
      "9\n",
      "0\n",
      "4.5\n",
      "2.8722813232690143\n",
      "8.25\n"
     ]
    }
   ],
   "source": [
    "print(a.sum()) # Sum of all elements in a\n",
    "print(a.max()) # Maximum element in a\n",
    "print(a.min()) # Minimum element in a\n",
    "print(a.mean()) # Mean of all elements in a\n",
    "print(a.std()) # Standard deviation of all elements in a\n",
    "print(a.var()) # Variance of all elements in a"
   ]
  },
  {
   "cell_type": "code",
   "execution_count": 30,
   "id": "3166d19f",
   "metadata": {},
   "outputs": [
    {
     "name": "stdout",
     "output_type": "stream",
     "text": [
      "Machine parameters for int32\n",
      "---------------------------------------------------------------\n",
      "min = -2147483648\n",
      "max = 2147483647\n",
      "---------------------------------------------------------------\n",
      "\n"
     ]
    }
   ],
   "source": [
    "print(np.iinfo(np.int32)) # Information about int32 data type"
   ]
  },
  {
   "cell_type": "code",
   "execution_count": 31,
   "id": "3586476a",
   "metadata": {},
   "outputs": [
    {
     "data": {
      "text/plain": [
       "array([0, 1, 2, 3, 4, 5, 6, 7, 8, 9])"
      ]
     },
     "execution_count": 31,
     "metadata": {},
     "output_type": "execute_result"
    }
   ],
   "source": [
    "a"
   ]
  },
  {
   "cell_type": "code",
   "execution_count": 32,
   "id": "598ca6e9",
   "metadata": {},
   "outputs": [
    {
     "name": "stdout",
     "output_type": "stream",
     "text": [
      "[0 1 2 3 4 5 6 7 8 9]\n"
     ]
    }
   ],
   "source": [
    "print(np.sort(a))"
   ]
  },
  {
   "cell_type": "code",
   "execution_count": null,
   "id": "1b4557ad",
   "metadata": {},
   "outputs": [],
   "source": [
    " "
   ]
  }
 ],
 "metadata": {
  "kernelspec": {
   "display_name": "base",
   "language": "python",
   "name": "python3"
  },
  "language_info": {
   "codemirror_mode": {
    "name": "ipython",
    "version": 3
   },
   "file_extension": ".py",
   "mimetype": "text/x-python",
   "name": "python",
   "nbconvert_exporter": "python",
   "pygments_lexer": "ipython3",
   "version": "3.12.4"
  }
 },
 "nbformat": 4,
 "nbformat_minor": 5
}
