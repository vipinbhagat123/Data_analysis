{
 "cells": [
  {
   "cell_type": "code",
   "execution_count": 1,
   "id": "6d96676b",
   "metadata": {},
   "outputs": [],
   "source": [
    "import numpy as np\n",
    "import pandas as pd"
   ]
  },
  {
   "cell_type": "code",
   "execution_count": 3,
   "id": "865b47d7",
   "metadata": {},
   "outputs": [
    {
     "name": "stdout",
     "output_type": "stream",
     "text": [
      "[  0   5 155   2 158   0 616]\n"
     ]
    }
   ],
   "source": [
    "sales = [0,5,155,2,158, 0, 616]\n",
    "sales_array = np.array(sales)\n",
    "print(sales_array)"
   ]
  },
  {
   "cell_type": "code",
   "execution_count": 4,
   "id": "cbe8a0f5",
   "metadata": {},
   "outputs": [
    {
     "name": "stdout",
     "output_type": "stream",
     "text": [
      "<class 'numpy.ndarray'>\n",
      "ndim: 1\n",
      "shape: (7,)\n",
      "Size: 7\n",
      "dtype: int32\n"
     ]
    }
   ],
   "source": [
    "print(type(sales_array))\n",
    "print(f\"ndim: {sales_array.ndim}\")\n",
    "print(f\"shape: {sales_array.shape}\")\n",
    "print(f\"Size: {sales_array.size}\")\n",
    "print(f\"dtype: {sales_array.dtype}\")"
   ]
  },
  {
   "cell_type": "markdown",
   "id": "f6687039",
   "metadata": {},
   "source": [
    "Where And Filtering"
   ]
  },
  {
   "cell_type": "markdown",
   "id": "a80b8ca2",
   "metadata": {},
   "source": [
    "# Where() function\n"
   ]
  },
  {
   "cell_type": "code",
   "execution_count": 5,
   "id": "59885a8e",
   "metadata": {},
   "outputs": [
    {
     "name": "stdout",
     "output_type": "stream",
     "text": [
      "['No Sales' 'Sales' 'Sales' 'Sales' 'Sales' 'No Sales' 'Sales']\n"
     ]
    }
   ],
   "source": [
    "result_array = np.where(sales_array ==0, \"No Sales\", \"Sales\")\n",
    "print(result_array)"
   ]
  },
  {
   "cell_type": "code",
   "execution_count": 11,
   "id": "7a7e1f68",
   "metadata": {},
   "outputs": [
    {
     "name": "stdout",
     "output_type": "stream",
     "text": [
      "[False  True  True  True  True False  True]\n"
     ]
    }
   ],
   "source": [
    "# Show all boolean values where condition is applied\n",
    "\n",
    "bool_mask = sales_array!=0\n",
    "print(bool_mask)"
   ]
  },
  {
   "cell_type": "code",
   "execution_count": 12,
   "id": "f1f9a9ba",
   "metadata": {},
   "outputs": [
    {
     "name": "stdout",
     "output_type": "stream",
     "text": [
      "[  5 155   2 158 616]\n"
     ]
    }
   ],
   "source": [
    "# Filter Using Boolean mask\n",
    "\n",
    "filtered_sales = sales_array[bool_mask]\n",
    "print(filtered_sales)"
   ]
  },
  {
   "cell_type": "code",
   "execution_count": 18,
   "id": "84ef2a7e",
   "metadata": {},
   "outputs": [
    {
     "name": "stdout",
     "output_type": "stream",
     "text": [
      "['5' '6' '7' 'num' '45']\n",
      "Not a Number\n"
     ]
    }
   ],
   "source": [
    "a = [5,6,7,\"num\", 45]\n",
    "a_array = np.array(a)\n",
    "print(a_array)\n",
    "result_array1 = np.where(isinstance(int, float), \"Number\", \"Not a Number\")\n",
    "print(result_array1)\n",
    "\n",
    "# \n"
   ]
  },
  {
   "cell_type": "code",
   "execution_count": 19,
   "id": "f3aa3edc",
   "metadata": {},
   "outputs": [
    {
     "name": "stdout",
     "output_type": "stream",
     "text": [
      "<U11\n"
     ]
    }
   ],
   "source": [
    "a=[5, 6, 7, 'num', 45]\n",
    "a_array = np.array(a)\n",
    "print(a_array.dtype)"
   ]
  },
  {
   "cell_type": "code",
   "execution_count": 29,
   "id": "9f51e527",
   "metadata": {},
   "outputs": [
    {
     "name": "stdout",
     "output_type": "stream",
     "text": [
      "0    2018\n",
      "1    2019\n",
      "2    2020\n",
      "3    2021\n",
      "4    2022\n",
      "Name: year, dtype: int64\n",
      "0    2025\n",
      "1    2026\n",
      "2    2027\n",
      "3    2028\n",
      "4    2029\n",
      "Name: Year2, dtype: int64\n",
      "   year  Year2\n",
      "0  2018   2025\n",
      "1  2019   2026\n",
      "2  2020   2027\n",
      "3  2021   2028\n",
      "4  2022   2029\n"
     ]
    }
   ],
   "source": [
    "year = [2018, 2019, 2020, 2021, 2022]\n",
    "year2 = [2025, 2026, 2027, 2028, 2029]\n",
    "index_name = [\"a\", 'b', 'c', 'd', 'e']\n",
    "year_sr = pd.Series(year, name = 'year')\n",
    "print(year_sr)\n",
    "year_sr2 = pd.Series(year2, name='Year2')\n",
    "print(year_sr2)\n",
    "df1 = pd.merge(year_sr, year_sr2, how='outer', left_index=True, right_index=True)\n",
    "print(df1)"
   ]
  },
  {
   "cell_type": "code",
   "execution_count": 30,
   "id": "7b6ddf03",
   "metadata": {},
   "outputs": [
    {
     "name": "stdout",
     "output_type": "stream",
     "text": [
      "year     2020\n",
      "Year2    2027\n",
      "Name: 2, dtype: int64\n"
     ]
    }
   ],
   "source": [
    "print(df1.iloc[2])\n"
   ]
  },
  {
   "cell_type": "code",
   "execution_count": 31,
   "id": "47e8ccb2",
   "metadata": {},
   "outputs": [
    {
     "name": "stdout",
     "output_type": "stream",
     "text": [
      "   year  Year2\n",
      "0  2018   2025\n",
      "2  2020   2027\n",
      "4  2022   2029\n"
     ]
    }
   ],
   "source": [
    "print(df1.loc[[0,2,4]])"
   ]
  },
  {
   "cell_type": "code",
   "execution_count": 32,
   "id": "d5ee5a7f",
   "metadata": {},
   "outputs": [
    {
     "name": "stdout",
     "output_type": "stream",
     "text": [
      "RangeIndex(start=0, stop=5, step=1)\n"
     ]
    }
   ],
   "source": [
    "print(year_sr.keys())"
   ]
  },
  {
   "cell_type": "code",
   "execution_count": 34,
   "id": "53421806",
   "metadata": {},
   "outputs": [
    {
     "name": "stdout",
     "output_type": "stream",
     "text": [
      "\n",
      "Original Series:\n",
      " 0    1.0\n",
      "1    NaN\n",
      "2    3.0\n",
      "3    NaN\n",
      "4    5.0\n",
      "dtype: float64\n"
     ]
    }
   ],
   "source": [
    "# Create a sample Series with missing values\n",
    "\n",
    "data_method = pd.Series([1, np.nan, 3, np.nan, 5])\n",
    "print(\"\\nOriginal Series:\\n\", data_method)"
   ]
  },
  {
   "cell_type": "code",
   "execution_count": 35,
   "id": "9879acfc",
   "metadata": {},
   "outputs": [
    {
     "name": "stdout",
     "output_type": "stream",
     "text": [
      "\n",
      " Series after forwar fill: \n",
      " 0    1.0\n",
      "1    1.0\n",
      "2    3.0\n",
      "3    3.0\n",
      "4    5.0\n",
      "dtype: float64\n"
     ]
    }
   ],
   "source": [
    "# Forward Fill\n",
    "forward_filled = data_method.fillna(method='ffill')\n",
    "print(\"\\n Series after forwar fill: \\n\", forward_filled)"
   ]
  },
  {
   "cell_type": "code",
   "execution_count": 36,
   "id": "d94447c3",
   "metadata": {},
   "outputs": [
    {
     "name": "stdout",
     "output_type": "stream",
     "text": [
      "\n",
      "Series after backward fill:\n",
      " 0    1.0\n",
      "1    3.0\n",
      "2    3.0\n",
      "3    5.0\n",
      "4    5.0\n",
      "dtype: float64\n"
     ]
    }
   ],
   "source": [
    "# Backward Fill\n",
    "backward_filled = data_method.fillna(method='bfill')\n",
    "print(\"\\nSeries after backward fill:\\n\", backward_filled)"
   ]
  },
  {
   "cell_type": "code",
   "execution_count": 41,
   "id": "2f66cc45",
   "metadata": {},
   "outputs": [
    {
     "name": "stdout",
     "output_type": "stream",
     "text": [
      "[[95 11 81]\n",
      " [70 63 87]\n",
      " [75  9 77]\n",
      " [40  4 63]]\n"
     ]
    }
   ],
   "source": [
    "np.random.seed(101)\n",
    "mydata=np.random.randint(0, 101, (4, 3))\n",
    "print(mydata)"
   ]
  },
  {
   "cell_type": "code",
   "execution_count": 42,
   "id": "e00e7b6f",
   "metadata": {},
   "outputs": [
    {
     "name": "stdout",
     "output_type": "stream",
     "text": [
      "['CA', 'NY', 'AZ', 'TX']\n",
      "['Jan', 'Feb', 'Mar']\n"
     ]
    }
   ],
   "source": [
    "myindex = ['CA', 'NY', 'AZ', 'TX']\n",
    "mycolumns = ['Jan', 'Feb', 'Mar']\n",
    "print(myindex)\n",
    "print(mycolumns)"
   ]
  },
  {
   "cell_type": "code",
   "execution_count": 51,
   "id": "be6c9395",
   "metadata": {},
   "outputs": [
    {
     "name": "stdout",
     "output_type": "stream",
     "text": [
      "[[95 11 81]\n",
      " [70 63 87]\n",
      " [75  9 77]\n",
      " [40  4 63]]\n",
      "['CA', 'NY', 'AZ', 'TX']\n",
      "    0   1   2\n",
      "0  95  11  81\n",
      "1  70  63  87\n",
      "2  75   9  77\n",
      "3  40   4  63\n",
      "    0   1   2\n",
      "0  95  11  81\n",
      "1  70  63  87\n",
      "2  75   9  77\n",
      "3  40   4  63\n"
     ]
    }
   ],
   "source": [
    "#  Create a DataFrame without index and columns\n",
    "print(mydata)\n",
    "print(myindex)\n",
    "df = pd.DataFrame(data=mydata)\n",
    "print(df)\n",
    "df1 = pd.DataFrame(data=mydata, index = myindex)\n",
    "print(df)"
   ]
  },
  {
   "cell_type": "code",
   "execution_count": 52,
   "id": "98b8511b",
   "metadata": {},
   "outputs": [
    {
     "name": "stdout",
     "output_type": "stream",
     "text": [
      "    Jan  Feb  Mar\n",
      "CA   95   11   81\n",
      "NY   70   63   87\n",
      "AZ   75    9   77\n",
      "TX   40    4   63\n",
      "<class 'pandas.core.frame.DataFrame'>\n",
      "Index: 4 entries, CA to TX\n",
      "Data columns (total 3 columns):\n",
      " #   Column  Non-Null Count  Dtype\n",
      "---  ------  --------------  -----\n",
      " 0   Jan     4 non-null      int32\n",
      " 1   Feb     4 non-null      int32\n",
      " 2   Mar     4 non-null      int32\n",
      "dtypes: int32(3)\n",
      "memory usage: 80.0+ bytes\n"
     ]
    }
   ],
   "source": [
    "# Create a DataFrame with custom index and columns\n",
    "\n",
    "df=pd.DataFrame(data=mydata, index=myindex, columns=mycolumns)\n",
    "print(df)\n",
    "df.info()"
   ]
  },
  {
   "cell_type": "code",
   "execution_count": 53,
   "id": "18e333d9",
   "metadata": {},
   "outputs": [
    {
     "name": "stdout",
     "output_type": "stream",
     "text": [
      "Index(['Jan', 'Feb', 'Mar'], dtype='object')\n",
      "Index(['CA', 'NY', 'AZ', 'TX'], dtype='object')\n",
      "[[95 11 81]\n",
      " [70 63 87]\n",
      " [75  9 77]\n",
      " [40  4 63]]\n"
     ]
    }
   ],
   "source": [
    "print(df.columns)\n",
    "print(df.index)\n",
    "print(df.values)"
   ]
  },
  {
   "cell_type": "code",
   "execution_count": null,
   "id": "0583e566",
   "metadata": {},
   "outputs": [],
   "source": []
  }
 ],
 "metadata": {
  "kernelspec": {
   "display_name": "base",
   "language": "python",
   "name": "python3"
  },
  "language_info": {
   "codemirror_mode": {
    "name": "ipython",
    "version": 3
   },
   "file_extension": ".py",
   "mimetype": "text/x-python",
   "name": "python",
   "nbconvert_exporter": "python",
   "pygments_lexer": "ipython3",
   "version": "3.8.5"
  }
 },
 "nbformat": 4,
 "nbformat_minor": 5
}
