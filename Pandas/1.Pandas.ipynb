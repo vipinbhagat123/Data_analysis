{
 "cells": [
  {
   "cell_type": "markdown",
   "id": "fb76b137",
   "metadata": {},
   "source": [
    "Write a Pandas program to create and display a one-dimensional array-like\n",
    "object containing an array of data using Pandas module."
   ]
  },
  {
   "cell_type": "code",
   "execution_count": 21,
   "id": "682e0432",
   "metadata": {},
   "outputs": [],
   "source": [
    "import pandas as pd\n",
    "import numpy as np"
   ]
  },
  {
   "cell_type": "code",
   "execution_count": 22,
   "id": "12da5c77",
   "metadata": {},
   "outputs": [
    {
     "name": "stdout",
     "output_type": "stream",
     "text": [
      "0     2\n",
      "1     4\n",
      "2     6\n",
      "3     8\n",
      "4    10\n",
      "dtype: int64\n"
     ]
    }
   ],
   "source": [
    "ds=pd.Series([2,4,6,8,10])\n",
    "print(ds)"
   ]
  },
  {
   "cell_type": "markdown",
   "id": "6f90af6d",
   "metadata": {},
   "source": [
    "2. Write a Pandas program to convert a Panda module Series to Python list\n",
    "and it's type."
   ]
  },
  {
   "cell_type": "code",
   "execution_count": 23,
   "id": "767de757",
   "metadata": {},
   "outputs": [
    {
     "name": "stdout",
     "output_type": "stream",
     "text": [
      "Pandas Series And Type:\n",
      "0     2\n",
      "1     4\n",
      "2     6\n",
      "3     8\n",
      "4    10\n",
      "dtype: int64\n",
      "<class 'pandas.core.series.Series'>\n",
      "\n",
      "\n",
      "Convert Pandas Series to Python List :\n",
      "[2, 4, 6, 8, 10]\n",
      "<class 'list'>\n"
     ]
    }
   ],
   "source": [
    "ds=pd.Series([2,4,6,8,10])\n",
    "print(\"Pandas Series And Type:\")\n",
    "print(ds)\n",
    "print(type(ds))\n",
    "print('\\n')\n",
    "print(\"Convert Pandas Series to Python List :\")\n",
    "print(ds.tolist())\n",
    "print(type(ds.tolist()))"
   ]
  },
  {
   "cell_type": "markdown",
   "id": "b3fd6071",
   "metadata": {},
   "source": [
    "3. Write a Pandas program to add, subtract, multiple and divide two Pandas\n",
    "Series.\n",
    "Sample Series: [2, 4, 6, 8, 10], [1, 3, 5, 7, 9]"
   ]
  },
  {
   "cell_type": "code",
   "execution_count": 24,
   "id": "7f4ff2ba",
   "metadata": {},
   "outputs": [
    {
     "name": "stdout",
     "output_type": "stream",
     "text": [
      "Add two Series:\n",
      "0     3\n",
      "1     7\n",
      "2    11\n",
      "3    15\n",
      "4    19\n",
      "dtype: int64\n",
      "\n",
      "\n",
      "Substract two Series:\n",
      "0    1\n",
      "1    1\n",
      "2    1\n",
      "3    1\n",
      "4    1\n",
      "dtype: int64\n",
      "\n",
      "\n",
      "Multipy two Series:\n",
      "0    1\n",
      "1    3\n",
      "2    5\n",
      "3    7\n",
      "4    9\n",
      "dtype: int64\n",
      "\n",
      "\n",
      "Divide Series by Series2:\n",
      "0    2.000000\n",
      "1    1.333333\n",
      "2    1.200000\n",
      "3    1.142857\n",
      "4    1.111111\n",
      "dtype: float64\n"
     ]
    }
   ],
   "source": [
    "ds1=pd.Series([2,4,6,8,10])\n",
    "ds2=pd.Series([1,3,5,7,9])\n",
    "print(\"Add two Series:\")\n",
    "ds=ds1+ds2\n",
    "print(ds)\n",
    "print('\\n')\n",
    "print(\"Substract two Series:\")\n",
    "ds=ds1-ds2\n",
    "print(ds)\n",
    "print('\\n')\n",
    "print(\"Multipy two Series:\")\n",
    "ds=ds*ds2\n",
    "print(ds)\n",
    "print('\\n')\n",
    "\n",
    "print(\"Divide Series by Series2:\")\n",
    "ds=ds1/ds2\n",
    "print(ds)"
   ]
  },
  {
   "cell_type": "markdown",
   "id": "5151ec13",
   "metadata": {},
   "source": [
    "4. Write a Pandas program to compare the elements of the two Pandas\n",
    "Series.\n",
    "Sample Series: [2, 4, 6, 8, 10], [1, 3, 5, 7, 10]"
   ]
  },
  {
   "cell_type": "code",
   "execution_count": 25,
   "id": "fc402554",
   "metadata": {},
   "outputs": [
    {
     "name": "stdout",
     "output_type": "stream",
     "text": [
      "Series1:\n",
      "0     2\n",
      "1     4\n",
      "2     6\n",
      "3     8\n",
      "4    10\n",
      "dtype: int64\n",
      "\n",
      "\n",
      "Series2\n",
      "0     1\n",
      "1     3\n",
      "2     5\n",
      "3     7\n",
      "4    10\n",
      "dtype: int64\n",
      "\n",
      "\n",
      "Compare the elements of the said Series:\n",
      "\n",
      "\n",
      "Equals\n",
      "0    False\n",
      "1    False\n",
      "2    False\n",
      "3    False\n",
      "4     True\n",
      "dtype: bool\n",
      "\n",
      "\n",
      "Greater Than:\n",
      "0     True\n",
      "1     True\n",
      "2     True\n",
      "3     True\n",
      "4    False\n",
      "dtype: bool\n",
      "\n",
      "\n",
      "0    False\n",
      "1    False\n",
      "2    False\n",
      "3    False\n",
      "4    False\n",
      "dtype: bool\n"
     ]
    }
   ],
   "source": [
    "ds1=pd.Series([2,4,6,8,10])\n",
    "ds2=pd.Series([1,3,5,7,10])\n",
    "print(\"Series1:\")\n",
    "print(ds1)\n",
    "print('\\n')\n",
    "print(\"Series2\")\n",
    "print(ds2)\n",
    "print(\"\\n\")\n",
    "print(\"Compare the elements of the said Series:\")\n",
    "print(\"\\n\")\n",
    "print(\"Equals\")\n",
    "print(ds1==ds2)\n",
    "print('\\n')\n",
    "print('Greater Than:')\n",
    "print(ds1>ds2)\n",
    "print(\"\\n\")\n",
    "print(ds1<ds2)"
   ]
  },
  {
   "cell_type": "markdown",
   "id": "501d6c8f",
   "metadata": {},
   "source": [
    "5. Write a Pandas program to convert a dictionary to a Pandas series.\n",
    "Sample Series:\n",
    "- Original dictionary:\n",
    "- {'a': 100, 'b': 200, 'c': 300, 'd': 400, 'e': 800}\n",
    "- Converted series:\n",
    "- a 100\n",
    "- b 200\n",
    "- c 300\n",
    "- d 400\n",
    "- e 800\n",
    "- dtype: int64"
   ]
  },
  {
   "cell_type": "code",
   "execution_count": 26,
   "id": "86813b8c",
   "metadata": {},
   "outputs": [
    {
     "name": "stdout",
     "output_type": "stream",
     "text": [
      "Original Dictionary:\n",
      "{'a': 100, 'b': 200, 'c': 300, 'd': 400, 'e': 800}\n",
      "\n",
      "\n",
      "Converted Series:\n",
      "a    100\n",
      "b    200\n",
      "c    300\n",
      "d    400\n",
      "e    800\n",
      "dtype: int64\n"
     ]
    }
   ],
   "source": [
    "d1={'a':100, 'b':200, 'c':300, 'd':400, 'e':800}\n",
    "print(\"Original Dictionary:\")\n",
    "print(d1)\n",
    "print('\\n')\n",
    "new_series = pd.Series(d1)\n",
    "print(\"Converted Series:\")\n",
    "print(new_series)"
   ]
  },
  {
   "cell_type": "markdown",
   "id": "769a1797",
   "metadata": {},
   "source": [
    "6. Write a Pandas program to convert a NumPy array to a Pandas series.\n",
    "- Sample Series:\n",
    "- NumPy array:\n",
    "- [10 20 30 40 50]\n",
    "- Converted Pandas series:\n",
    "- 0 10\n",
    "- 1 20\n",
    "- 2 30\n",
    "- 3 40\n",
    "- 4 50\n",
    "- dtype: int64"
   ]
  },
  {
   "cell_type": "code",
   "execution_count": 27,
   "id": "d682225a",
   "metadata": {},
   "outputs": [
    {
     "name": "stdout",
     "output_type": "stream",
     "text": [
      "Numpy Array:\n",
      "[10 20 30 40 50]\n",
      "\n",
      "\n",
      "Converted Pandas Series:\n",
      "0    10\n",
      "1    20\n",
      "2    30\n",
      "3    40\n",
      "4    50\n",
      "dtype: int32\n"
     ]
    }
   ],
   "source": [
    "np_array=np.array([10,20,30,40,50])\n",
    "print(\"Numpy Array:\")\n",
    "print(np_array)\n",
    "print('\\n')\n",
    "new_series = pd.Series(np_array)\n",
    "print(\"Converted Pandas Series:\")\n",
    "print(new_series)"
   ]
  },
  {
   "cell_type": "markdown",
   "id": "776dd82f",
   "metadata": {},
   "source": [
    "7. Write a Pandas program to change the data type of given a column or a\n",
    "Series.\n",
    "- Sample Series:\n",
    "- Original Data Series:\n",
    "- 0 100\n",
    "\n",
    "- 1 200\n",
    "- 2 python\n",
    "- 3 300.12\n",
    "- 4 400\n",
    "- dtype: object\n",
    "- Change the said data type to numeric:\n",
    "- 0 100.00\n",
    "- 1 200.00\n",
    "- 2 NaN\n",
    "- 3 300.12\n",
    "- 4 400.00\n",
    "- dtype: float64"
   ]
  },
  {
   "cell_type": "code",
   "execution_count": 28,
   "id": "96484c38",
   "metadata": {},
   "outputs": [
    {
     "name": "stdout",
     "output_type": "stream",
     "text": [
      "Original Data Series:\n",
      "0       100\n",
      "1       200\n",
      "2    python\n",
      "3    300.12\n",
      "4       400\n",
      "dtype: object\n",
      "Change the said data type to numeric :\n",
      "0    100.00\n",
      "1    200.00\n",
      "2       NaN\n",
      "3    300.12\n",
      "4    400.00\n",
      "dtype: float64\n"
     ]
    }
   ],
   "source": [
    "s1=pd.Series(['100', '200', 'python', '300.12', '400'])\n",
    "print(\"Original Data Series:\")\n",
    "print(s1)\n",
    "print(\"Change the said data type to numeric :\")\n",
    "s2=pd.to_numeric(s1, errors='coerce')\n",
    "print(s2)"
   ]
  },
  {
   "cell_type": "code",
   "execution_count": null,
   "id": "65c1e4f7",
   "metadata": {},
   "outputs": [],
   "source": []
  },
  {
   "cell_type": "code",
   "execution_count": null,
   "id": "695ee709",
   "metadata": {},
   "outputs": [],
   "source": []
  },
  {
   "cell_type": "code",
   "execution_count": null,
   "id": "2a70e089",
   "metadata": {},
   "outputs": [],
   "source": []
  },
  {
   "cell_type": "code",
   "execution_count": null,
   "id": "2fa25899",
   "metadata": {},
   "outputs": [],
   "source": []
  },
  {
   "cell_type": "code",
   "execution_count": null,
   "id": "2ce1498d",
   "metadata": {},
   "outputs": [],
   "source": []
  },
  {
   "cell_type": "code",
   "execution_count": null,
   "id": "61a79b2d",
   "metadata": {},
   "outputs": [],
   "source": []
  },
  {
   "cell_type": "code",
   "execution_count": null,
   "id": "ab438ecb",
   "metadata": {},
   "outputs": [],
   "source": []
  },
  {
   "cell_type": "code",
   "execution_count": null,
   "id": "6b84be70",
   "metadata": {},
   "outputs": [],
   "source": []
  }
 ],
 "metadata": {
  "kernelspec": {
   "display_name": "base",
   "language": "python",
   "name": "python3"
  },
  "language_info": {
   "codemirror_mode": {
    "name": "ipython",
    "version": 3
   },
   "file_extension": ".py",
   "mimetype": "text/x-python",
   "name": "python",
   "nbconvert_exporter": "python",
   "pygments_lexer": "ipython3",
   "version": "3.8.5"
  }
 },
 "nbformat": 4,
 "nbformat_minor": 5
}
