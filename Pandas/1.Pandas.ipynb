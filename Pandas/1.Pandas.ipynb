{
 "cells": [
  {
   "cell_type": "markdown",
   "id": "fb76b137",
   "metadata": {},
   "source": [
    "Write a Pandas program to create and display a one-dimensional array-like\n",
    "object containing an array of data using Pandas module."
   ]
  },
  {
   "cell_type": "code",
   "execution_count": 1,
   "id": "682e0432",
   "metadata": {},
   "outputs": [],
   "source": [
    "import pandas as pd\n",
    "import numpy as np"
   ]
  },
  {
   "cell_type": "code",
   "execution_count": 2,
   "id": "12da5c77",
   "metadata": {},
   "outputs": [
    {
     "name": "stdout",
     "output_type": "stream",
     "text": [
      "0     2\n",
      "1     4\n",
      "2     6\n",
      "3     8\n",
      "4    10\n",
      "dtype: int64\n"
     ]
    }
   ],
   "source": [
    "ds=pd.Series([2,4,6,8,10])\n",
    "print(ds)"
   ]
  },
  {
   "cell_type": "markdown",
   "id": "6f90af6d",
   "metadata": {},
   "source": [
    "2. Write a Pandas program to convert a Panda module Series to Python list\n",
    "and it's type."
   ]
  },
  {
   "cell_type": "code",
   "execution_count": 3,
   "id": "767de757",
   "metadata": {},
   "outputs": [
    {
     "name": "stdout",
     "output_type": "stream",
     "text": [
      "Pandas Series And Type:\n",
      "0     2\n",
      "1     4\n",
      "2     6\n",
      "3     8\n",
      "4    10\n",
      "dtype: int64\n",
      "<class 'pandas.core.series.Series'>\n",
      "\n",
      "\n",
      "Convert Pandas Series to Python List :\n",
      "[2, 4, 6, 8, 10]\n",
      "<class 'list'>\n"
     ]
    }
   ],
   "source": [
    "ds=pd.Series([2,4,6,8,10])\n",
    "print(\"Pandas Series And Type:\")\n",
    "print(ds)\n",
    "print(type(ds))\n",
    "print('\\n')\n",
    "print(\"Convert Pandas Series to Python List :\")\n",
    "print(ds.tolist())\n",
    "print(type(ds.tolist()))"
   ]
  },
  {
   "cell_type": "markdown",
   "id": "b3fd6071",
   "metadata": {},
   "source": [
    "3. Write a Pandas program to add, subtract, multiple and divide two Pandas\n",
    "Series.\n",
    "Sample Series: [2, 4, 6, 8, 10], [1, 3, 5, 7, 9]"
   ]
  },
  {
   "cell_type": "code",
   "execution_count": 4,
   "id": "7f4ff2ba",
   "metadata": {},
   "outputs": [
    {
     "name": "stdout",
     "output_type": "stream",
     "text": [
      "Add two Series:\n",
      "0     3\n",
      "1     7\n",
      "2    11\n",
      "3    15\n",
      "4    19\n",
      "dtype: int64\n",
      "\n",
      "\n",
      "Substract two Series:\n",
      "0    1\n",
      "1    1\n",
      "2    1\n",
      "3    1\n",
      "4    1\n",
      "dtype: int64\n",
      "\n",
      "\n",
      "Multipy two Series:\n",
      "0    1\n",
      "1    3\n",
      "2    5\n",
      "3    7\n",
      "4    9\n",
      "dtype: int64\n",
      "\n",
      "\n",
      "Divide Series by Series2:\n",
      "0    2.000000\n",
      "1    1.333333\n",
      "2    1.200000\n",
      "3    1.142857\n",
      "4    1.111111\n",
      "dtype: float64\n"
     ]
    }
   ],
   "source": [
    "ds1=pd.Series([2,4,6,8,10])\n",
    "ds2=pd.Series([1,3,5,7,9])\n",
    "print(\"Add two Series:\")\n",
    "ds=ds1+ds2\n",
    "print(ds)\n",
    "print('\\n')\n",
    "print(\"Substract two Series:\")\n",
    "ds=ds1-ds2\n",
    "print(ds)\n",
    "print('\\n')\n",
    "print(\"Multipy two Series:\")\n",
    "ds=ds*ds2\n",
    "print(ds)\n",
    "print('\\n')\n",
    "\n",
    "print(\"Divide Series by Series2:\")\n",
    "ds=ds1/ds2\n",
    "print(ds)"
   ]
  },
  {
   "cell_type": "markdown",
   "id": "5151ec13",
   "metadata": {},
   "source": [
    "4. Write a Pandas program to compare the elements of the two Pandas\n",
    "Series.\n",
    "Sample Series: [2, 4, 6, 8, 10], [1, 3, 5, 7, 10]"
   ]
  },
  {
   "cell_type": "code",
   "execution_count": 5,
   "id": "fc402554",
   "metadata": {},
   "outputs": [
    {
     "name": "stdout",
     "output_type": "stream",
     "text": [
      "Series1:\n",
      "0     2\n",
      "1     4\n",
      "2     6\n",
      "3     8\n",
      "4    10\n",
      "dtype: int64\n",
      "\n",
      "\n",
      "Series2\n",
      "0     1\n",
      "1     3\n",
      "2     5\n",
      "3     7\n",
      "4    10\n",
      "dtype: int64\n",
      "\n",
      "\n",
      "Compare the elements of the said Series:\n",
      "\n",
      "\n",
      "Equals\n",
      "0    False\n",
      "1    False\n",
      "2    False\n",
      "3    False\n",
      "4     True\n",
      "dtype: bool\n",
      "\n",
      "\n",
      "Greater Than:\n",
      "0     True\n",
      "1     True\n",
      "2     True\n",
      "3     True\n",
      "4    False\n",
      "dtype: bool\n",
      "\n",
      "\n",
      "0    False\n",
      "1    False\n",
      "2    False\n",
      "3    False\n",
      "4    False\n",
      "dtype: bool\n"
     ]
    }
   ],
   "source": [
    "ds1=pd.Series([2,4,6,8,10])\n",
    "ds2=pd.Series([1,3,5,7,10])\n",
    "print(\"Series1:\")\n",
    "print(ds1)\n",
    "print('\\n')\n",
    "print(\"Series2\")\n",
    "print(ds2)\n",
    "print(\"\\n\")\n",
    "print(\"Compare the elements of the said Series:\")\n",
    "print(\"\\n\")\n",
    "print(\"Equals\")\n",
    "print(ds1==ds2)\n",
    "print('\\n')\n",
    "print('Greater Than:')\n",
    "print(ds1>ds2)\n",
    "print(\"\\n\")\n",
    "print(ds1<ds2)"
   ]
  },
  {
   "cell_type": "markdown",
   "id": "501d6c8f",
   "metadata": {},
   "source": [
    "5. Write a Pandas program to convert a dictionary to a Pandas series.\n",
    "Sample Series:\n",
    "- Original dictionary:\n",
    "- {'a': 100, 'b': 200, 'c': 300, 'd': 400, 'e': 800}\n",
    "- Converted series:\n",
    "- a 100\n",
    "- b 200\n",
    "- c 300\n",
    "- d 400\n",
    "- e 800\n",
    "- dtype: int64"
   ]
  },
  {
   "cell_type": "code",
   "execution_count": 6,
   "id": "86813b8c",
   "metadata": {},
   "outputs": [
    {
     "name": "stdout",
     "output_type": "stream",
     "text": [
      "Original Dictionary:\n",
      "{'a': 100, 'b': 200, 'c': 300, 'd': 400, 'e': 800}\n",
      "\n",
      "\n",
      "Converted Series:\n",
      "a    100\n",
      "b    200\n",
      "c    300\n",
      "d    400\n",
      "e    800\n",
      "dtype: int64\n"
     ]
    }
   ],
   "source": [
    "d1={'a':100, 'b':200, 'c':300, 'd':400, 'e':800}\n",
    "print(\"Original Dictionary:\")\n",
    "print(d1)\n",
    "print('\\n')\n",
    "new_series = pd.Series(d1)\n",
    "print(\"Converted Series:\")\n",
    "print(new_series)"
   ]
  },
  {
   "cell_type": "markdown",
   "id": "769a1797",
   "metadata": {},
   "source": [
    "6. Write a Pandas program to convert a NumPy array to a Pandas series.\n",
    "- Sample Series:\n",
    "- NumPy array:\n",
    "- [10 20 30 40 50]\n",
    "- Converted Pandas series:\n",
    "- 0 10\n",
    "- 1 20\n",
    "- 2 30\n",
    "- 3 40\n",
    "- 4 50\n",
    "- dtype: int64"
   ]
  },
  {
   "cell_type": "code",
   "execution_count": 7,
   "id": "d682225a",
   "metadata": {},
   "outputs": [
    {
     "name": "stdout",
     "output_type": "stream",
     "text": [
      "Numpy Array:\n",
      "[10 20 30 40 50]\n",
      "\n",
      "\n",
      "Converted Pandas Series:\n",
      "0    10\n",
      "1    20\n",
      "2    30\n",
      "3    40\n",
      "4    50\n",
      "dtype: int32\n"
     ]
    }
   ],
   "source": [
    "np_array=np.array([10,20,30,40,50])\n",
    "print(\"Numpy Array:\")\n",
    "print(np_array)\n",
    "print('\\n')\n",
    "new_series = pd.Series(np_array)\n",
    "print(\"Converted Pandas Series:\")\n",
    "print(new_series)"
   ]
  },
  {
   "cell_type": "markdown",
   "id": "776dd82f",
   "metadata": {},
   "source": [
    "7. Write a Pandas program to change the data type of given a column or a\n",
    "Series.\n",
    "- Sample Series:\n",
    "- Original Data Series:\n",
    "- 0 100\n",
    "\n",
    "- 1 200\n",
    "- 2 python\n",
    "- 3 300.12\n",
    "- 4 400\n",
    "- dtype: object\n",
    "- Change the said data type to numeric:\n",
    "- 0 100.00\n",
    "- 1 200.00\n",
    "- 2 NaN\n",
    "- 3 300.12\n",
    "- 4 400.00\n",
    "- dtype: float64"
   ]
  },
  {
   "cell_type": "code",
   "execution_count": 8,
   "id": "96484c38",
   "metadata": {},
   "outputs": [
    {
     "name": "stdout",
     "output_type": "stream",
     "text": [
      "Original Data Series:\n",
      "0       100\n",
      "1       200\n",
      "2    python\n",
      "3    300.12\n",
      "4       400\n",
      "dtype: object\n",
      "Change the said data type to numeric :\n",
      "0    100.00\n",
      "1    200.00\n",
      "2       NaN\n",
      "3    300.12\n",
      "4    400.00\n",
      "dtype: float64\n"
     ]
    }
   ],
   "source": [
    "s1=pd.Series(['100', '200', 'python', '300.12', '400'])\n",
    "print(\"Original Data Series:\")\n",
    "print(s1)\n",
    "print(\"Change the said data type to numeric :\")\n",
    "s2=pd.to_numeric(s1, errors='coerce')\n",
    "print(s2)"
   ]
  },
  {
   "cell_type": "markdown",
   "id": "fefd83ca",
   "metadata": {},
   "source": [
    "- 8. Write a Pandas program to convert the first column of a DataFrame as a\n",
    "- Series.\n",
    "- Sample Output:\n",
    "- Original DataFrame\n",
    "- col1 col2 col3\n",
    "- 0 1 4 7\n",
    "- 1 2 5 5\n",
    "- 2 3 6 8\n",
    "- 3 4 9 12\n",
    "- 4 7 5 1\n",
    "- 5 11 0 11\n",
    "- 1st column as a Series:\n",
    "- 0 1\n",
    "- 1 2\n",
    "- 2 3\n",
    "- 3 4\n",
    "- 4 7\n",
    "- 5 11\n",
    "- Name: col1, dtype: int64\n",
    "- <class 'pandas.core.series.Series'>"
   ]
  },
  {
   "cell_type": "code",
   "execution_count": 9,
   "id": "65c1e4f7",
   "metadata": {},
   "outputs": [
    {
     "name": "stdout",
     "output_type": "stream",
     "text": [
      "Original DataFrame\n",
      "   col1  col2  col3\n",
      "0     1     4     7\n",
      "1     2     5     5\n",
      "2     3     6     8\n",
      "3     4     9    12\n",
      "4     7     5     1\n",
      "5    11     0    11\n",
      "\n",
      "\n",
      "\n",
      "1st column as a series:\n",
      "0     1\n",
      "1     2\n",
      "2     3\n",
      "3     4\n",
      "4     7\n",
      "5    11\n",
      "Name: col1, dtype: int64\n",
      "<class 'pandas.core.series.Series'>\n"
     ]
    }
   ],
   "source": [
    "d = {'col1': [1, 2, 3, 4, 7, 11], 'col2': [4, 5, 6, 9, 5, 0], 'col3': [7, 5, 8, 12, 1, 11]}\n",
    "df=pd.DataFrame(data=d)\n",
    "print(\"Original DataFrame\")\n",
    "print(df)\n",
    "print(\"\\n\")\n",
    "s1=df.iloc[:,0]\n",
    "print('\\n1st column as a series:')\n",
    "print(s1)\n",
    "print(type(s1))"
   ]
  },
  {
   "cell_type": "markdown",
   "id": "86b86473",
   "metadata": {},
   "source": [
    "9. Write a Pandas program to convert a given Series to an array.\n",
    "Sample Output:\n",
    "Original Data Series:\n",
    "0 100\n",
    "1 200\n",
    "2 python\n",
    "3 300.12\n",
    "4 400\n",
    "dtype: object\n",
    "Series to an array"
   ]
  },
  {
   "cell_type": "code",
   "execution_count": 11,
   "id": "695ee709",
   "metadata": {},
   "outputs": [
    {
     "name": "stdout",
     "output_type": "stream",
     "text": [
      "Original Data Series\n",
      "0       100\n",
      "1       200\n",
      "2    python\n",
      "3    300.12\n",
      "4       400\n",
      "dtype: object\n",
      "\n",
      "\n",
      "Series to an array\n",
      "['100' '200' 'python' '300.12' '400']\n",
      "<class 'numpy.ndarray'>\n"
     ]
    }
   ],
   "source": [
    "s1=pd.Series(['100', '200', 'python', '300.12', '400'])\n",
    "print(\"Original Data Series\")\n",
    "print(s1)\n",
    "print('\\n')\n",
    "print(\"Series to an array\")\n",
    "a=s1.values\n",
    "print(a)\n",
    "print(type(a))"
   ]
  },
  {
   "cell_type": "markdown",
   "id": "bacbc87b",
   "metadata": {},
   "source": [
    "10. Write a Pandas program to convert Series of lists to one Series.\n",
    "Sample Output:\n",
    "Original Series of list\n",
    "0 [Red, Green, White]\n",
    "1 [Red, Black]\n",
    "2 [Yellow]\n",
    "dtype: object\n",
    "One Series\n",
    "0 Red\n",
    "1 Green\n",
    "2 White\n",
    "3 Red\n",
    "4 Black\n",
    "5 Yellow"
   ]
  },
  {
   "cell_type": "code",
   "execution_count": 12,
   "id": "2a70e089",
   "metadata": {},
   "outputs": [
    {
     "name": "stdout",
     "output_type": "stream",
     "text": [
      "Original Series of list\n",
      "0    [Red, Green, White]\n",
      "1           [Red, Black]\n",
      "2               [Yellow]\n",
      "dtype: object\n",
      "one Series\n",
      "0       Red\n",
      "1     Green\n",
      "2     White\n",
      "3       Red\n",
      "4     Black\n",
      "5    Yellow\n",
      "dtype: object\n"
     ]
    }
   ],
   "source": [
    "s=pd.Series([['Red', 'Green', 'White'], ['Red', 'Black'], ['Yellow']])\n",
    "print(\"Original Series of list\")\n",
    "print(s)\n",
    "s=s.apply(pd.Series).stack().reset_index(drop=True)\n",
    "print(\"one Series\")\n",
    "print(s)"
   ]
  },
  {
   "cell_type": "markdown",
   "id": "cf2f6db8",
   "metadata": {},
   "source": [
    "11. Write a Pandas program to sort a given Series.\n",
    "Sample Output:\n",
    "Original Data Series:\n",
    "0 100\n",
    "1 200\n",
    "2 python\n",
    "3 300.12\n",
    "4 400\n",
    "dtype: object\n",
    "0 100\n",
    "1 200\n",
    "3 300.12\n",
    "4 400\n",
    "2 python\n",
    "dtype: object"
   ]
  },
  {
   "cell_type": "code",
   "execution_count": 14,
   "id": "2fa25899",
   "metadata": {},
   "outputs": [
    {
     "name": "stdout",
     "output_type": "stream",
     "text": [
      "Original Data Series:\n",
      "0       100\n",
      "1       200\n",
      "2    python\n",
      "3    300.12\n",
      "4       400\n",
      "dtype: object\n",
      "\n",
      "\n",
      "0       100\n",
      "1       200\n",
      "3    300.12\n",
      "4       400\n",
      "2    python\n",
      "dtype: object\n"
     ]
    }
   ],
   "source": [
    "s=pd.Series(['100', '200', 'python', '300.12', '400'])\n",
    "print(\"Original Data Series:\")\n",
    "print(s)\n",
    "print(\"\\n\")\n",
    "new_s = pd.Series(s).sort_values()\n",
    "print(new_s)"
   ]
  },
  {
   "cell_type": "markdown",
   "id": "0c39dc16",
   "metadata": {},
   "source": [
    "12. Write a Pandas program to add some data to an existing Series.\n",
    "Sample Output:\n",
    "Original Data Series:\n",
    "0 100\n",
    "1 200\n",
    "2 python\n",
    "3 300.12\n",
    "4 400\n",
    "dtype: object\n",
    "Data Series after adding some data:\n",
    "0 100\n",
    "1 200\n",
    "2 python\n",
    "3 300.12\n",
    "4 400\n",
    "5 500\n",
    "\n",
    "6 php\n",
    "dtype: object"
   ]
  },
  {
   "cell_type": "code",
   "execution_count": 16,
   "id": "2ce1498d",
   "metadata": {},
   "outputs": [
    {
     "name": "stdout",
     "output_type": "stream",
     "text": [
      "Original Data Series\n",
      "0       100\n",
      "1       200\n",
      "2    python\n",
      "3    300.12\n",
      "4       400\n",
      "dtype: object\n",
      "\n",
      " Data Series after adding some data:\n",
      "0       100\n",
      "1       200\n",
      "2    python\n",
      "3    300.12\n",
      "4       400\n",
      "5       500\n",
      "6       php\n",
      "dtype: object\n"
     ]
    }
   ],
   "source": [
    "s=pd.Series(['100', '200', 'python', '300.12', '400'])\n",
    "print(\"Original Data Series\")\n",
    "print(s)\n",
    "print(\"\\n Data Series after adding some data:\")\n",
    "new_s = pd.concat([s, pd.Series([500, 'php'])], ignore_index=True)\n",
    "print(new_s)"
   ]
  },
  {
   "cell_type": "markdown",
   "id": "537fe695",
   "metadata": {},
   "source": [
    "13. Write a Pandas program to create a subset of a given series based on value and\n",
    "condition.\n",
    "Sample Output:\n",
    "Original Data Series:\n",
    "0 0\n",
    "1 1\n",
    "2 2\n",
    "....\n",
    "9 9\n",
    "10 10\n",
    "dtype: int64\n",
    "Subset of the above Data Series:\n",
    "0 0\n",
    "1 1\n",
    "2 2\n",
    "3 3\n",
    "4 4\n",
    "5 5\n",
    "dtype: int64"
   ]
  },
  {
   "cell_type": "code",
   "execution_count": 17,
   "id": "61a79b2d",
   "metadata": {},
   "outputs": [
    {
     "name": "stdout",
     "output_type": "stream",
     "text": [
      "Original Data Seriess:\n",
      "0      0\n",
      "1      1\n",
      "2      2\n",
      "3      3\n",
      "4      4\n",
      "5      5\n",
      "6      6\n",
      "7      7\n",
      "8      8\n",
      "9      9\n",
      "10    10\n",
      "dtype: int64\n",
      "\n",
      " Subset of the above Data Series:\n",
      "0    0\n",
      "1    1\n",
      "2    2\n",
      "3    3\n",
      "4    4\n",
      "5    5\n",
      "dtype: int64\n"
     ]
    }
   ],
   "source": [
    "s=pd.Series([0,1,2,3,4,5,6,7,8,9,10])\n",
    "print('Original Data Seriess:')\n",
    "print(s)\n",
    "print(\"\\n Subset of the above Data Series:\")\n",
    "n=6\n",
    "new_s = s[s<n]\n",
    "print(new_s)"
   ]
  },
  {
   "cell_type": "markdown",
   "id": "24cfdbc1",
   "metadata": {},
   "source": [
    "14. Write a Pandas program to change the order of index of a given series.\n",
    "Sample Output:\n",
    "Original Data Series:\n",
    "A 1\n",
    "B 2\n",
    "C 3\n",
    "D 4\n",
    "E 5\n",
    "dtype: int64\n",
    "Data Series after changing the order of index:\n",
    "B 2\n",
    "A 1\n",
    "C 3\n",
    "D 4\n",
    "E 5\n",
    "dtype: int64"
   ]
  },
  {
   "cell_type": "code",
   "execution_count": 18,
   "id": "ab438ecb",
   "metadata": {},
   "outputs": [
    {
     "name": "stdout",
     "output_type": "stream",
     "text": [
      "Original Data Series:\n",
      "A    1\n",
      "B    2\n",
      "C    3\n",
      "D    4\n",
      "E    5\n",
      "dtype: int64\n",
      "\n",
      "\n",
      "Data Series after changing the order of index:\n",
      "B    2\n",
      "A    1\n",
      "C    3\n",
      "D    4\n",
      "E    5\n",
      "dtype: int64\n"
     ]
    }
   ],
   "source": [
    "s=pd.Series(data=[1,2,3,4,5], index=['A', 'B', 'C', 'D', 'E'])\n",
    "print(\"Original Data Series:\")\n",
    "print(s)\n",
    "print(\"\\n\")\n",
    "s=s.reindex(index=['B', 'A', 'C', 'D', 'E'])\n",
    "print(\"Data Series after changing the order of index:\")\n",
    "print(s)"
   ]
  },
  {
   "cell_type": "markdown",
   "id": "92dd0d84",
   "metadata": {},
   "source": [
    "15. Write a Pandas program to create the mean and standard deviation of the data of a\n",
    "given Series.\n",
    "Sample Output:\n",
    "Original Data Series:\n",
    "0 1\n",
    "1 2\n",
    "2 3\n",
    "\n",
    "....\n",
    "7 8\n",
    "8 9\n",
    "9 5\n",
    "10 3\n",
    "dtype: int64\n",
    "Mean of the said Data Series:\n",
    "4.818181818181818\n",
    "Standard deviation of the said Data Series:\n",
    "2.522624895547565"
   ]
  },
  {
   "cell_type": "code",
   "execution_count": 20,
   "id": "6b84be70",
   "metadata": {},
   "outputs": [
    {
     "name": "stdout",
     "output_type": "stream",
     "text": [
      "Original Data Series:\n",
      "0    1\n",
      "1    2\n",
      "2    3\n",
      "3    4\n",
      "4    5\n",
      "5    6\n",
      "6    7\n",
      "7    8\n",
      "8    5\n",
      "9    3\n",
      "dtype: int64\n",
      "\n",
      "\n",
      "Mean of the said Data Series:\n",
      "4.4\n",
      "\n",
      "\n",
      "Standard Deviation of the said Data Series:\n",
      "2.2211108331943574\n"
     ]
    }
   ],
   "source": [
    "s=pd.Series(data=[1,2,3,4,5,6,7,8,5,3])\n",
    "print(\"Original Data Series:\")\n",
    "print(s)\n",
    "print(\"\\n\")\n",
    "print(\"Mean of the said Data Series:\")\n",
    "print(s.mean())\n",
    "print(\"\\n\")\n",
    "print(\"Standard Deviation of the said Data Series:\")\n",
    "print(s.std())\n"
   ]
  },
  {
   "cell_type": "markdown",
   "id": "9a40bc70",
   "metadata": {},
   "source": [
    "16. Write a Pandas program to get the items of a given series not present in another given\n",
    "series.\n",
    "Sample Output:\n",
    "Original Series:\n",
    "sr1:\n",
    "0 1\n",
    "1 2\n",
    "2 3\n",
    "3 4\n",
    "4 5\n",
    "dtype: int64\n",
    "sr2:\n",
    "0 2\n",
    "1 4\n",
    "2 6\n",
    "3 8\n",
    "4 10\n",
    "dtype: int64\n",
    "Items of sr1 not present in sr2:\n",
    "0 1\n",
    "2 3\n",
    "4 5\n",
    "dtype: int64"
   ]
  },
  {
   "cell_type": "code",
   "execution_count": 21,
   "id": "3a05199f",
   "metadata": {},
   "outputs": [
    {
     "name": "stdout",
     "output_type": "stream",
     "text": [
      "Original Series:\n",
      "sr1:\n",
      "0    1\n",
      "1    2\n",
      "2    3\n",
      "3    4\n",
      "4    5\n",
      "dtype: int64\n",
      "sr2:\n",
      "0     2\n",
      "1     4\n",
      "2     6\n",
      "3     8\n",
      "4    10\n",
      "dtype: int64\n",
      "\n",
      "Items of sr1 not present in sr2\n",
      "0    1\n",
      "2    3\n",
      "4    5\n",
      "dtype: int64\n"
     ]
    }
   ],
   "source": [
    "sr1=pd.Series([1,2,3,4,5])\n",
    "sr2=pd.Series([2,4,6,8,10])\n",
    "print(\"Original Series:\")\n",
    "print(\"sr1:\")\n",
    "print(sr1)\n",
    "print(\"sr2:\")\n",
    "print(sr2)\n",
    "print(\"\\nItems of sr1 not present in sr2\")\n",
    "result=sr1[~sr1.isin(sr2)]\n",
    "print(result)"
   ]
  },
  {
   "cell_type": "markdown",
   "id": "7dbc3ffe",
   "metadata": {},
   "source": [
    "17. Write a Pandas program to get the items which are not common of two given series.\n",
    "Sample Output:\n",
    "Original Series:\n",
    "sr1:\n",
    "0 1\n",
    "1 2\n",
    "2 3\n",
    "3 4\n",
    "4 5\n",
    "dtype: int64\n",
    "sr2:\n",
    "0 2\n",
    "1 4\n",
    "2 6\n",
    "3 8\n",
    "4 10\n",
    "\n",
    "dtype: int64\n",
    "Items of a given series not present in another given series:\n",
    "0 1\n",
    "2 3\n",
    "4 5\n",
    "5 6\n",
    "6 8\n",
    "7 10\n",
    "dtype: int64"
   ]
  },
  {
   "cell_type": "code",
   "execution_count": 22,
   "id": "54244f9f",
   "metadata": {},
   "outputs": [
    {
     "name": "stdout",
     "output_type": "stream",
     "text": [
      "Original Series :\n",
      "sr1 :\n",
      "0    1\n",
      "1    2\n",
      "2    3\n",
      "3    4\n",
      "4    5\n",
      "dtype: int64\n",
      "sr2 :\n",
      "0     2\n",
      "1     4\n",
      "2     6\n",
      "3     8\n",
      "4    10\n",
      "dtype: int64\n",
      "\n",
      " Items of a give series not present in another given Series:\n",
      "0     1\n",
      "2     3\n",
      "4     5\n",
      "5     6\n",
      "6     8\n",
      "7    10\n",
      "dtype: int64\n"
     ]
    }
   ],
   "source": [
    "sr1=pd.Series([1,2,3,4,5])\n",
    "sr2=pd.Series([2,4,6,8,10])\n",
    "print(\"Original Series :\")\n",
    "print(\"sr1 :\")\n",
    "print(sr1)\n",
    "print(\"sr2 :\")\n",
    "print(sr2)\n",
    "print(\"\\n Items of a give series not present in another given Series:\")\n",
    "sr11=pd.Series(np.union1d(sr1, sr2))\n",
    "sr22=pd.Series(np.intersect1d(sr1,sr2))\n",
    "result=sr11[~sr11.isin(sr22)]\n",
    "print(result)"
   ]
  },
  {
   "cell_type": "markdown",
   "id": "9f295bc1",
   "metadata": {},
   "source": [
    "18. Write a Pandas program to compute the minimum, 25th percentile, median, 75th, and\n",
    "maximum of a given series.\n",
    "Sample Output:\n",
    "Original Series:\n",
    "0 3.000938\n",
    "1 11.370722\n",
    "2 14.612143\n",
    "....\n",
    "17 14.118931\n",
    "18 8.247458\n",
    "19 5.526727\n",
    "dtype: float64\n",
    "Minimum, 25th percentile, median, 75th, and maximum of a given series:\n",
    "[ 3.00093811 8.09463867 10.23353705 12.21537733 14.61214321]"
   ]
  },
  {
   "cell_type": "code",
   "execution_count": 23,
   "id": "41238d80",
   "metadata": {},
   "outputs": [
    {
     "name": "stdout",
     "output_type": "stream",
     "text": [
      "Original Series:\n",
      "0      3.000938\n",
      "1     11.370722\n",
      "2     14.612143\n",
      "3      8.990256\n",
      "4     13.925283\n",
      "5     12.056875\n",
      "6     10.884719\n",
      "7      5.719827\n",
      "8      9.242017\n",
      "9     11.020006\n",
      "10     8.167892\n",
      "11    11.740654\n",
      "12     7.665620\n",
      "13    13.267388\n",
      "14    12.690883\n",
      "15     9.582355\n",
      "16     7.874878\n",
      "17    14.118931\n",
      "18     8.247458\n",
      "19     5.526727\n",
      "dtype: float64\n",
      "\n",
      "Minimum, 25th percentile, median , 75th and maximum of a given Series:\n",
      "[ 3.00093811  8.09463867 10.23353705 12.21537733 14.61214321]\n"
     ]
    }
   ],
   "source": [
    "num_state = np.random.RandomState(100)\n",
    "num_series = pd.Series(num_state.normal(10,4,20))\n",
    "print(\"Original Series:\")\n",
    "print(num_series)\n",
    "result = np.percentile(num_series, q=[0,25,50,75,100])\n",
    "print(\"\\nMinimum, 25th percentile, median , 75th and maximum of a given Series:\")\n",
    "print(result)"
   ]
  },
  {
   "cell_type": "markdown",
   "id": "0ee2fa2c",
   "metadata": {},
   "source": [
    "19. Write a Pandas program to calculate the frequency counts of each unique value of a\n",
    "given series.\n",
    "Sample Output:\n",
    "Original Series:\n",
    "0 1\n",
    "1 7\n",
    "2 1\n",
    "3 6\n",
    "...\n",
    "\n",
    "37 0\n",
    "38 4\n",
    "39 8\n",
    "dtype: object\n",
    "Frequency of each unique value of the said series.\n",
    "0 9\n",
    "2 7\n",
    "9 6\n",
    "....\n",
    "3 2\n",
    "4 1\n",
    "5 1"
   ]
  },
  {
   "cell_type": "code",
   "execution_count": 24,
   "id": "8f999ebb",
   "metadata": {},
   "outputs": [
    {
     "name": "stdout",
     "output_type": "stream",
     "text": [
      "Original Series:\n",
      "0     5\n",
      "1     0\n",
      "2     2\n",
      "3     6\n",
      "4     7\n",
      "5     3\n",
      "6     8\n",
      "7     6\n",
      "8     2\n",
      "9     7\n",
      "10    7\n",
      "11    0\n",
      "12    3\n",
      "13    9\n",
      "14    1\n",
      "15    3\n",
      "16    6\n",
      "17    3\n",
      "18    5\n",
      "19    7\n",
      "20    7\n",
      "21    6\n",
      "22    7\n",
      "23    1\n",
      "24    2\n",
      "25    6\n",
      "26    6\n",
      "27    9\n",
      "28    6\n",
      "29    2\n",
      "30    9\n",
      "31    3\n",
      "32    6\n",
      "33    6\n",
      "34    6\n",
      "35    6\n",
      "36    5\n",
      "37    9\n",
      "38    7\n",
      "39    3\n",
      "dtype: object\n",
      "Frequency of each unique value of the said series.\n",
      "6    11\n",
      "7     7\n",
      "3     6\n",
      "2     4\n",
      "9     4\n",
      "5     3\n",
      "0     2\n",
      "1     2\n",
      "8     1\n",
      "Name: count, dtype: int64\n"
     ]
    }
   ],
   "source": [
    "import pandas as pd\n",
    "import numpy as np\n",
    "num_series = pd.Series(np.take(list('0123456789'), np.random.randint(10, size=40)))\n",
    "print(\"Original Series:\")\n",
    "print(num_series)\n",
    "print(\"Frequency of each unique value of the said series.\")\n",
    "result = num_series.value_counts()\n",
    "print(result)\n"
   ]
  },
  {
   "cell_type": "markdown",
   "id": "1e6d958a",
   "metadata": {},
   "source": [
    "20. Write a Pandas program to display most frequent value in a given series and replace\n",
    "everything else as 'Other' in the series.\n",
    "Sample Output:\n",
    "Original Series:\n",
    "0 3\n",
    "1 1\n",
    "2 1\n",
    "3 3\n",
    "...\n",
    "12 2\n",
    "13 3\n",
    "14 3\n",
    "dtype: int64\n",
    "Top 2 Freq: 2 6\n",
    "3 5\n",
    "1 4\n",
    "dtype: int64\n",
    "0 Other\n",
    "1 Other\n",
    "2 Other\n",
    "3 Other\n",
    "...\n",
    "11 2\n",
    "12 2\n",
    "13 Other\n",
    "14 Other\n",
    "dtype: object"
   ]
  },
  {
   "cell_type": "code",
   "execution_count": 25,
   "id": "45d6f5f3",
   "metadata": {},
   "outputs": [
    {
     "name": "stdout",
     "output_type": "stream",
     "text": [
      "Original Series:\n",
      "0     3\n",
      "1     3\n",
      "2     1\n",
      "3     2\n",
      "4     3\n",
      "5     2\n",
      "6     3\n",
      "7     4\n",
      "8     4\n",
      "9     4\n",
      "10    3\n",
      "11    1\n",
      "12    2\n",
      "13    1\n",
      "14    4\n",
      "dtype: int32\n",
      "Top 2 Freq: 3    5\n",
      "4    4\n",
      "1    3\n",
      "2    3\n",
      "Name: count, dtype: int64\n",
      "0         3\n",
      "1         3\n",
      "2     Other\n",
      "3     Other\n",
      "4         3\n",
      "5     Other\n",
      "6         3\n",
      "7     Other\n",
      "8     Other\n",
      "9     Other\n",
      "10        3\n",
      "11    Other\n",
      "12    Other\n",
      "13    Other\n",
      "14    Other\n",
      "dtype: object\n"
     ]
    }
   ],
   "source": [
    "import pandas as pd\n",
    "import numpy as np\n",
    "num_series = pd.Series(np.random.randint(1, 5, [15]))\n",
    "print(\"Original Series:\")\n",
    "print(num_series)\n",
    "print(\"Top 2 Freq:\", num_series.value_counts())\n",
    "result = num_series[~num_series.isin(num_series.value_counts().index[:1])] = 'Other'\n",
    "print(num_series)\n"
   ]
  },
  {
   "cell_type": "code",
   "execution_count": null,
   "id": "bb339bbd",
   "metadata": {},
   "outputs": [],
   "source": []
  },
  {
   "cell_type": "code",
   "execution_count": null,
   "id": "981a92fe",
   "metadata": {},
   "outputs": [],
   "source": []
  },
  {
   "cell_type": "code",
   "execution_count": null,
   "id": "404d906b",
   "metadata": {},
   "outputs": [],
   "source": []
  },
  {
   "cell_type": "code",
   "execution_count": null,
   "id": "3ce4689e",
   "metadata": {},
   "outputs": [],
   "source": []
  },
  {
   "cell_type": "code",
   "execution_count": null,
   "id": "ff969f18",
   "metadata": {},
   "outputs": [],
   "source": []
  },
  {
   "cell_type": "code",
   "execution_count": null,
   "id": "9a8e6b84",
   "metadata": {},
   "outputs": [],
   "source": []
  },
  {
   "cell_type": "code",
   "execution_count": null,
   "id": "24449edb",
   "metadata": {},
   "outputs": [],
   "source": []
  },
  {
   "cell_type": "code",
   "execution_count": null,
   "id": "a7ac820a",
   "metadata": {},
   "outputs": [],
   "source": []
  },
  {
   "cell_type": "code",
   "execution_count": null,
   "id": "d16b9dcc",
   "metadata": {},
   "outputs": [],
   "source": []
  },
  {
   "cell_type": "code",
   "execution_count": null,
   "id": "44416cce",
   "metadata": {},
   "outputs": [],
   "source": []
  },
  {
   "cell_type": "code",
   "execution_count": null,
   "id": "8b91b43d",
   "metadata": {},
   "outputs": [],
   "source": []
  },
  {
   "cell_type": "code",
   "execution_count": null,
   "id": "ae3dd7bf",
   "metadata": {},
   "outputs": [],
   "source": []
  },
  {
   "cell_type": "code",
   "execution_count": null,
   "id": "8ec6fede",
   "metadata": {},
   "outputs": [],
   "source": []
  },
  {
   "cell_type": "code",
   "execution_count": null,
   "id": "915bf550",
   "metadata": {},
   "outputs": [],
   "source": []
  },
  {
   "cell_type": "code",
   "execution_count": null,
   "id": "b5cb6055",
   "metadata": {},
   "outputs": [],
   "source": []
  },
  {
   "cell_type": "code",
   "execution_count": null,
   "id": "993afe23",
   "metadata": {},
   "outputs": [],
   "source": []
  },
  {
   "cell_type": "code",
   "execution_count": null,
   "id": "d310be2f",
   "metadata": {},
   "outputs": [],
   "source": []
  },
  {
   "cell_type": "code",
   "execution_count": null,
   "id": "f82b61d6",
   "metadata": {},
   "outputs": [],
   "source": []
  }
 ],
 "metadata": {
  "kernelspec": {
   "display_name": "base",
   "language": "python",
   "name": "python3"
  },
  "language_info": {
   "codemirror_mode": {
    "name": "ipython",
    "version": 3
   },
   "file_extension": ".py",
   "mimetype": "text/x-python",
   "name": "python",
   "nbconvert_exporter": "python",
   "pygments_lexer": "ipython3",
   "version": "3.12.10"
  }
 },
 "nbformat": 4,
 "nbformat_minor": 5
}
