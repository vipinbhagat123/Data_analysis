{
 "cells": [
  {
   "cell_type": "markdown",
   "id": "fb76b137",
   "metadata": {},
   "source": [
    "Write a Pandas program to create and display a one-dimensional array-like\n",
    "object containing an array of data using Pandas module."
   ]
  },
  {
   "cell_type": "code",
   "execution_count": 38,
   "id": "682e0432",
   "metadata": {},
   "outputs": [],
   "source": [
    "import pandas as pd\n",
    "import numpy as np"
   ]
  },
  {
   "cell_type": "code",
   "execution_count": 39,
   "id": "12da5c77",
   "metadata": {},
   "outputs": [
    {
     "name": "stdout",
     "output_type": "stream",
     "text": [
      "0     2\n",
      "1     4\n",
      "2     6\n",
      "3     8\n",
      "4    10\n",
      "dtype: int64\n"
     ]
    }
   ],
   "source": [
    "ds=pd.Series([2,4,6,8,10])\n",
    "print(ds)"
   ]
  },
  {
   "cell_type": "markdown",
   "id": "6f90af6d",
   "metadata": {},
   "source": [
    "2. Write a Pandas program to convert a Panda module Series to Python list\n",
    "and it's type."
   ]
  },
  {
   "cell_type": "code",
   "execution_count": 40,
   "id": "767de757",
   "metadata": {},
   "outputs": [
    {
     "name": "stdout",
     "output_type": "stream",
     "text": [
      "Pandas Series And Type:\n",
      "0     2\n",
      "1     4\n",
      "2     6\n",
      "3     8\n",
      "4    10\n",
      "dtype: int64\n",
      "<class 'pandas.core.series.Series'>\n",
      "\n",
      "\n",
      "Convert Pandas Series to Python List :\n",
      "[2, 4, 6, 8, 10]\n",
      "<class 'list'>\n"
     ]
    }
   ],
   "source": [
    "ds=pd.Series([2,4,6,8,10])\n",
    "print(\"Pandas Series And Type:\")\n",
    "print(ds)\n",
    "print(type(ds))\n",
    "print('\\n')\n",
    "print(\"Convert Pandas Series to Python List :\")\n",
    "print(ds.tolist())\n",
    "print(type(ds.tolist()))"
   ]
  },
  {
   "cell_type": "markdown",
   "id": "b3fd6071",
   "metadata": {},
   "source": [
    "3. Write a Pandas program to add, subtract, multiple and divide two Pandas\n",
    "Series.\n",
    "Sample Series: [2, 4, 6, 8, 10], [1, 3, 5, 7, 9]"
   ]
  },
  {
   "cell_type": "code",
   "execution_count": 41,
   "id": "7f4ff2ba",
   "metadata": {},
   "outputs": [
    {
     "name": "stdout",
     "output_type": "stream",
     "text": [
      "Add two Series:\n",
      "0     3\n",
      "1     7\n",
      "2    11\n",
      "3    15\n",
      "4    19\n",
      "dtype: int64\n",
      "\n",
      "\n",
      "Substract two Series:\n",
      "0    1\n",
      "1    1\n",
      "2    1\n",
      "3    1\n",
      "4    1\n",
      "dtype: int64\n",
      "\n",
      "\n",
      "Multipy two Series:\n",
      "0    1\n",
      "1    3\n",
      "2    5\n",
      "3    7\n",
      "4    9\n",
      "dtype: int64\n",
      "\n",
      "\n",
      "Divide Series by Series2:\n",
      "0    2.000000\n",
      "1    1.333333\n",
      "2    1.200000\n",
      "3    1.142857\n",
      "4    1.111111\n",
      "dtype: float64\n"
     ]
    }
   ],
   "source": [
    "ds1=pd.Series([2,4,6,8,10])\n",
    "ds2=pd.Series([1,3,5,7,9])\n",
    "print(\"Add two Series:\")\n",
    "ds=ds1+ds2\n",
    "print(ds)\n",
    "print('\\n')\n",
    "print(\"Substract two Series:\")\n",
    "ds=ds1-ds2\n",
    "print(ds)\n",
    "print('\\n')\n",
    "print(\"Multipy two Series:\")\n",
    "ds=ds*ds2\n",
    "print(ds)\n",
    "print('\\n')\n",
    "\n",
    "print(\"Divide Series by Series2:\")\n",
    "ds=ds1/ds2\n",
    "print(ds)"
   ]
  },
  {
   "cell_type": "markdown",
   "id": "5151ec13",
   "metadata": {},
   "source": [
    "4. Write a Pandas program to compare the elements of the two Pandas\n",
    "Series.\n",
    "Sample Series: [2, 4, 6, 8, 10], [1, 3, 5, 7, 10]"
   ]
  },
  {
   "cell_type": "code",
   "execution_count": 42,
   "id": "fc402554",
   "metadata": {},
   "outputs": [
    {
     "name": "stdout",
     "output_type": "stream",
     "text": [
      "Series1:\n",
      "0     2\n",
      "1     4\n",
      "2     6\n",
      "3     8\n",
      "4    10\n",
      "dtype: int64\n",
      "\n",
      "\n",
      "Series2\n",
      "0     1\n",
      "1     3\n",
      "2     5\n",
      "3     7\n",
      "4    10\n",
      "dtype: int64\n",
      "\n",
      "\n",
      "Compare the elements of the said Series:\n",
      "\n",
      "\n",
      "Equals\n",
      "0    False\n",
      "1    False\n",
      "2    False\n",
      "3    False\n",
      "4     True\n",
      "dtype: bool\n",
      "\n",
      "\n",
      "Greater Than:\n",
      "0     True\n",
      "1     True\n",
      "2     True\n",
      "3     True\n",
      "4    False\n",
      "dtype: bool\n",
      "\n",
      "\n",
      "0    False\n",
      "1    False\n",
      "2    False\n",
      "3    False\n",
      "4    False\n",
      "dtype: bool\n"
     ]
    }
   ],
   "source": [
    "ds1=pd.Series([2,4,6,8,10])\n",
    "ds2=pd.Series([1,3,5,7,10])\n",
    "print(\"Series1:\")\n",
    "print(ds1)\n",
    "print('\\n')\n",
    "print(\"Series2\")\n",
    "print(ds2)\n",
    "print(\"\\n\")\n",
    "print(\"Compare the elements of the said Series:\")\n",
    "print(\"\\n\")\n",
    "print(\"Equals\")\n",
    "print(ds1==ds2)\n",
    "print('\\n')\n",
    "print('Greater Than:')\n",
    "print(ds1>ds2)\n",
    "print(\"\\n\")\n",
    "print(ds1<ds2)"
   ]
  },
  {
   "cell_type": "markdown",
   "id": "501d6c8f",
   "metadata": {},
   "source": [
    "5. Write a Pandas program to convert a dictionary to a Pandas series.\n",
    "Sample Series:\n",
    "- Original dictionary:\n",
    "- {'a': 100, 'b': 200, 'c': 300, 'd': 400, 'e': 800}\n",
    "- Converted series:\n",
    "- a 100\n",
    "- b 200\n",
    "- c 300\n",
    "- d 400\n",
    "- e 800\n",
    "- dtype: int64"
   ]
  },
  {
   "cell_type": "code",
   "execution_count": 43,
   "id": "86813b8c",
   "metadata": {},
   "outputs": [
    {
     "name": "stdout",
     "output_type": "stream",
     "text": [
      "Original Dictionary:\n",
      "{'a': 100, 'b': 200, 'c': 300, 'd': 400, 'e': 800}\n",
      "\n",
      "\n",
      "Converted Series:\n",
      "a    100\n",
      "b    200\n",
      "c    300\n",
      "d    400\n",
      "e    800\n",
      "dtype: int64\n"
     ]
    }
   ],
   "source": [
    "d1={'a':100, 'b':200, 'c':300, 'd':400, 'e':800}\n",
    "print(\"Original Dictionary:\")\n",
    "print(d1)\n",
    "print('\\n')\n",
    "new_series = pd.Series(d1)\n",
    "print(\"Converted Series:\")\n",
    "print(new_series)"
   ]
  },
  {
   "cell_type": "markdown",
   "id": "769a1797",
   "metadata": {},
   "source": [
    "6. Write a Pandas program to convert a NumPy array to a Pandas series.\n",
    "- Sample Series:\n",
    "- NumPy array:\n",
    "- [10 20 30 40 50]\n",
    "- Converted Pandas series:\n",
    "- 0 10\n",
    "- 1 20\n",
    "- 2 30\n",
    "- 3 40\n",
    "- 4 50\n",
    "- dtype: int64"
   ]
  },
  {
   "cell_type": "code",
   "execution_count": 44,
   "id": "d682225a",
   "metadata": {},
   "outputs": [
    {
     "name": "stdout",
     "output_type": "stream",
     "text": [
      "Numpy Array:\n",
      "[10 20 30 40 50]\n",
      "\n",
      "\n",
      "Converted Pandas Series:\n",
      "0    10\n",
      "1    20\n",
      "2    30\n",
      "3    40\n",
      "4    50\n",
      "dtype: int32\n"
     ]
    }
   ],
   "source": [
    "np_array=np.array([10,20,30,40,50])\n",
    "print(\"Numpy Array:\")\n",
    "print(np_array)\n",
    "print('\\n')\n",
    "new_series = pd.Series(np_array)\n",
    "print(\"Converted Pandas Series:\")\n",
    "print(new_series)"
   ]
  },
  {
   "cell_type": "markdown",
   "id": "776dd82f",
   "metadata": {},
   "source": [
    "7. Write a Pandas program to change the data type of given a column or a\n",
    "Series.\n",
    "- Sample Series:\n",
    "- Original Data Series:\n",
    "- 0 100\n",
    "\n",
    "- 1 200\n",
    "- 2 python\n",
    "- 3 300.12\n",
    "- 4 400\n",
    "- dtype: object\n",
    "- Change the said data type to numeric:\n",
    "- 0 100.00\n",
    "- 1 200.00\n",
    "- 2 NaN\n",
    "- 3 300.12\n",
    "- 4 400.00\n",
    "- dtype: float64"
   ]
  },
  {
   "cell_type": "code",
   "execution_count": 45,
   "id": "96484c38",
   "metadata": {},
   "outputs": [
    {
     "name": "stdout",
     "output_type": "stream",
     "text": [
      "Original Data Series:\n",
      "0       100\n",
      "1       200\n",
      "2    python\n",
      "3    300.12\n",
      "4       400\n",
      "dtype: object\n",
      "Change the said data type to numeric :\n",
      "0    100.00\n",
      "1    200.00\n",
      "2       NaN\n",
      "3    300.12\n",
      "4    400.00\n",
      "dtype: float64\n"
     ]
    }
   ],
   "source": [
    "s1=pd.Series(['100', '200', 'python', '300.12', '400'])\n",
    "print(\"Original Data Series:\")\n",
    "print(s1)\n",
    "print(\"Change the said data type to numeric :\")\n",
    "s2=pd.to_numeric(s1, errors='coerce')\n",
    "print(s2)"
   ]
  },
  {
   "cell_type": "markdown",
   "id": "fefd83ca",
   "metadata": {},
   "source": [
    "- 8. Write a Pandas program to convert the first column of a DataFrame as a\n",
    "- Series.\n",
    "- Sample Output:\n",
    "- Original DataFrame\n",
    "- col1 col2 col3\n",
    "- 0 1 4 7\n",
    "- 1 2 5 5\n",
    "- 2 3 6 8\n",
    "- 3 4 9 12\n",
    "- 4 7 5 1\n",
    "- 5 11 0 11\n",
    "- 1st column as a Series:\n",
    "- 0 1\n",
    "- 1 2\n",
    "- 2 3\n",
    "- 3 4\n",
    "- 4 7\n",
    "- 5 11\n",
    "- Name: col1, dtype: int64\n",
    "- <class 'pandas.core.series.Series'>"
   ]
  },
  {
   "cell_type": "code",
   "execution_count": 46,
   "id": "65c1e4f7",
   "metadata": {},
   "outputs": [
    {
     "name": "stdout",
     "output_type": "stream",
     "text": [
      "Original DataFrame\n",
      "   col1  col2  col3\n",
      "0     1     4     7\n",
      "1     2     5     5\n",
      "2     3     6     8\n",
      "3     4     9    12\n",
      "4     7     5     1\n",
      "5    11     0    11\n",
      "\n",
      "\n",
      "\n",
      "1st column as a series:\n",
      "0     1\n",
      "1     2\n",
      "2     3\n",
      "3     4\n",
      "4     7\n",
      "5    11\n",
      "Name: col1, dtype: int64\n",
      "<class 'pandas.core.series.Series'>\n"
     ]
    }
   ],
   "source": [
    "d = {'col1': [1, 2, 3, 4, 7, 11], 'col2': [4, 5, 6, 9, 5, 0], 'col3': [7, 5, 8, 12, 1, 11]}\n",
    "df=pd.DataFrame(data=d)\n",
    "print(\"Original DataFrame\")\n",
    "print(df)\n",
    "print(\"\\n\")\n",
    "s1=df.iloc[:,0]\n",
    "print('\\n1st column as a series:')\n",
    "print(s1)\n",
    "print(type(s1))"
   ]
  },
  {
   "cell_type": "markdown",
   "id": "86b86473",
   "metadata": {},
   "source": [
    "9. Write a Pandas program to convert a given Series to an array.\n",
    "Sample Output:\n",
    "Original Data Series:\n",
    "0 100\n",
    "1 200\n",
    "2 python\n",
    "3 300.12\n",
    "4 400\n",
    "dtype: object\n",
    "Series to an array"
   ]
  },
  {
   "cell_type": "code",
   "execution_count": 47,
   "id": "695ee709",
   "metadata": {},
   "outputs": [
    {
     "name": "stdout",
     "output_type": "stream",
     "text": [
      "Original Data Series\n",
      "0       100\n",
      "1       200\n",
      "2    python\n",
      "3    300.12\n",
      "4       400\n",
      "dtype: object\n",
      "\n",
      "\n",
      "Series to an array\n",
      "['100' '200' 'python' '300.12' '400']\n",
      "<class 'numpy.ndarray'>\n"
     ]
    }
   ],
   "source": [
    "s1=pd.Series(['100', '200', 'python', '300.12', '400'])\n",
    "print(\"Original Data Series\")\n",
    "print(s1)\n",
    "print('\\n')\n",
    "print(\"Series to an array\")\n",
    "a=s1.values\n",
    "print(a)\n",
    "print(type(a))"
   ]
  },
  {
   "cell_type": "markdown",
   "id": "bacbc87b",
   "metadata": {},
   "source": [
    "10. Write a Pandas program to convert Series of lists to one Series.\n",
    "Sample Output:\n",
    "Original Series of list\n",
    "0 [Red, Green, White]\n",
    "1 [Red, Black]\n",
    "2 [Yellow]\n",
    "dtype: object\n",
    "One Series\n",
    "0 Red\n",
    "1 Green\n",
    "2 White\n",
    "3 Red\n",
    "4 Black\n",
    "5 Yellow"
   ]
  },
  {
   "cell_type": "code",
   "execution_count": 48,
   "id": "2a70e089",
   "metadata": {},
   "outputs": [
    {
     "name": "stdout",
     "output_type": "stream",
     "text": [
      "Original Series of list\n",
      "0    [Red, Green, White]\n",
      "1           [Red, Black]\n",
      "2               [Yellow]\n",
      "dtype: object\n"
     ]
    },
    {
     "name": "stdout",
     "output_type": "stream",
     "text": [
      "one Series\n",
      "0       Red\n",
      "1     Green\n",
      "2     White\n",
      "3       Red\n",
      "4     Black\n",
      "5    Yellow\n",
      "dtype: object\n"
     ]
    }
   ],
   "source": [
    "s=pd.Series([['Red', 'Green', 'White'], ['Red', 'Black'], ['Yellow']])\n",
    "print(\"Original Series of list\")\n",
    "print(s)\n",
    "s=s.apply(pd.Series).stack().reset_index(drop=True)\n",
    "print(\"one Series\")\n",
    "print(s)"
   ]
  },
  {
   "cell_type": "markdown",
   "id": "cf2f6db8",
   "metadata": {},
   "source": [
    "11. Write a Pandas program to sort a given Series.\n",
    "Sample Output:\n",
    "Original Data Series:\n",
    "0 100\n",
    "1 200\n",
    "2 python\n",
    "3 300.12\n",
    "4 400\n",
    "dtype: object\n",
    "0 100\n",
    "1 200\n",
    "3 300.12\n",
    "4 400\n",
    "2 python\n",
    "dtype: object"
   ]
  },
  {
   "cell_type": "code",
   "execution_count": 49,
   "id": "2fa25899",
   "metadata": {},
   "outputs": [
    {
     "name": "stdout",
     "output_type": "stream",
     "text": [
      "Original Data Series:\n",
      "0       100\n",
      "1       200\n",
      "2    python\n",
      "3    300.12\n",
      "4       400\n",
      "dtype: object\n",
      "\n",
      "\n",
      "0       100\n",
      "1       200\n",
      "3    300.12\n",
      "4       400\n",
      "2    python\n",
      "dtype: object\n"
     ]
    }
   ],
   "source": [
    "s=pd.Series(['100', '200', 'python', '300.12', '400'])\n",
    "print(\"Original Data Series:\")\n",
    "print(s)\n",
    "print(\"\\n\")\n",
    "new_s = pd.Series(s).sort_values()\n",
    "print(new_s)"
   ]
  },
  {
   "cell_type": "markdown",
   "id": "0c39dc16",
   "metadata": {},
   "source": [
    "12. Write a Pandas program to add some data to an existing Series.\n",
    "Sample Output:\n",
    "Original Data Series:\n",
    "0 100\n",
    "1 200\n",
    "2 python\n",
    "3 300.12\n",
    "4 400\n",
    "dtype: object\n",
    "Data Series after adding some data:\n",
    "0 100\n",
    "1 200\n",
    "2 python\n",
    "3 300.12\n",
    "4 400\n",
    "5 500\n",
    "\n",
    "6 php\n",
    "dtype: object"
   ]
  },
  {
   "cell_type": "code",
   "execution_count": 50,
   "id": "2ce1498d",
   "metadata": {},
   "outputs": [
    {
     "name": "stdout",
     "output_type": "stream",
     "text": [
      "Original Data Series\n",
      "0       100\n",
      "1       200\n",
      "2    python\n",
      "3    300.12\n",
      "4       400\n",
      "dtype: object\n",
      "\n",
      " Data Series after adding some data:\n",
      "0       100\n",
      "1       200\n",
      "2    python\n",
      "3    300.12\n",
      "4       400\n",
      "5       500\n",
      "6       php\n",
      "dtype: object\n"
     ]
    }
   ],
   "source": [
    "s=pd.Series(['100', '200', 'python', '300.12', '400'])\n",
    "print(\"Original Data Series\")\n",
    "print(s)\n",
    "print(\"\\n Data Series after adding some data:\")\n",
    "new_s = pd.concat([s, pd.Series([500, 'php'])], ignore_index=True)\n",
    "print(new_s)"
   ]
  },
  {
   "cell_type": "markdown",
   "id": "537fe695",
   "metadata": {},
   "source": [
    "13. Write a Pandas program to create a subset of a given series based on value and\n",
    "condition.\n",
    "Sample Output:\n",
    "Original Data Series:\n",
    "0 0\n",
    "1 1\n",
    "2 2\n",
    "....\n",
    "9 9\n",
    "10 10\n",
    "dtype: int64\n",
    "Subset of the above Data Series:\n",
    "0 0\n",
    "1 1\n",
    "2 2\n",
    "3 3\n",
    "4 4\n",
    "5 5\n",
    "dtype: int64"
   ]
  },
  {
   "cell_type": "code",
   "execution_count": 51,
   "id": "61a79b2d",
   "metadata": {},
   "outputs": [
    {
     "name": "stdout",
     "output_type": "stream",
     "text": [
      "Original Data Seriess:\n",
      "0      0\n",
      "1      1\n",
      "2      2\n",
      "3      3\n",
      "4      4\n",
      "5      5\n",
      "6      6\n",
      "7      7\n",
      "8      8\n",
      "9      9\n",
      "10    10\n",
      "dtype: int64\n",
      "\n",
      " Subset of the above Data Series:\n",
      "0    0\n",
      "1    1\n",
      "2    2\n",
      "3    3\n",
      "4    4\n",
      "5    5\n",
      "dtype: int64\n"
     ]
    }
   ],
   "source": [
    "s=pd.Series([0,1,2,3,4,5,6,7,8,9,10])\n",
    "print('Original Data Seriess:')\n",
    "print(s)\n",
    "print(\"\\n Subset of the above Data Series:\")\n",
    "n=6\n",
    "new_s = s[s<n]\n",
    "print(new_s)"
   ]
  },
  {
   "cell_type": "markdown",
   "id": "24cfdbc1",
   "metadata": {},
   "source": [
    "14. Write a Pandas program to change the order of index of a given series.\n",
    "Sample Output:\n",
    "Original Data Series:\n",
    "A 1\n",
    "B 2\n",
    "C 3\n",
    "D 4\n",
    "E 5\n",
    "dtype: int64\n",
    "Data Series after changing the order of index:\n",
    "B 2\n",
    "A 1\n",
    "C 3\n",
    "D 4\n",
    "E 5\n",
    "dtype: int64"
   ]
  },
  {
   "cell_type": "code",
   "execution_count": 52,
   "id": "ab438ecb",
   "metadata": {},
   "outputs": [
    {
     "name": "stdout",
     "output_type": "stream",
     "text": [
      "Original Data Series:\n",
      "A    1\n",
      "B    2\n",
      "C    3\n",
      "D    4\n",
      "E    5\n",
      "dtype: int64\n",
      "\n",
      "\n",
      "Data Series after changing the order of index:\n",
      "B    2\n",
      "A    1\n",
      "C    3\n",
      "D    4\n",
      "E    5\n",
      "dtype: int64\n"
     ]
    }
   ],
   "source": [
    "s=pd.Series(data=[1,2,3,4,5], index=['A', 'B', 'C', 'D', 'E'])\n",
    "print(\"Original Data Series:\")\n",
    "print(s)\n",
    "print(\"\\n\")\n",
    "s=s.reindex(index=['B', 'A', 'C', 'D', 'E'])\n",
    "print(\"Data Series after changing the order of index:\")\n",
    "print(s)"
   ]
  },
  {
   "cell_type": "markdown",
   "id": "92dd0d84",
   "metadata": {},
   "source": [
    "15. Write a Pandas program to create the mean and standard deviation of the data of a\n",
    "given Series.\n",
    "Sample Output:\n",
    "Original Data Series:\n",
    "0 1\n",
    "1 2\n",
    "2 3\n",
    "\n",
    "....\n",
    "7 8\n",
    "8 9\n",
    "9 5\n",
    "10 3\n",
    "dtype: int64\n",
    "Mean of the said Data Series:\n",
    "4.818181818181818\n",
    "Standard deviation of the said Data Series:\n",
    "2.522624895547565"
   ]
  },
  {
   "cell_type": "code",
   "execution_count": 53,
   "id": "6b84be70",
   "metadata": {},
   "outputs": [
    {
     "name": "stdout",
     "output_type": "stream",
     "text": [
      "Original Data Series:\n",
      "0    1\n",
      "1    2\n",
      "2    3\n",
      "3    4\n",
      "4    5\n",
      "5    6\n",
      "6    7\n",
      "7    8\n",
      "8    5\n",
      "9    3\n",
      "dtype: int64\n",
      "\n",
      "\n",
      "Mean of the said Data Series:\n",
      "4.4\n",
      "\n",
      "\n",
      "Standard Deviation of the said Data Series:\n",
      "2.2211108331943574\n"
     ]
    }
   ],
   "source": [
    "s=pd.Series(data=[1,2,3,4,5,6,7,8,5,3])\n",
    "print(\"Original Data Series:\")\n",
    "print(s)\n",
    "print(\"\\n\")\n",
    "print(\"Mean of the said Data Series:\")\n",
    "print(s.mean())\n",
    "print(\"\\n\")\n",
    "print(\"Standard Deviation of the said Data Series:\")\n",
    "print(s.std())\n"
   ]
  },
  {
   "cell_type": "markdown",
   "id": "9a40bc70",
   "metadata": {},
   "source": [
    "16. Write a Pandas program to get the items of a given series not present in another given\n",
    "series.\n",
    "Sample Output:\n",
    "Original Series:\n",
    "sr1:\n",
    "0 1\n",
    "1 2\n",
    "2 3\n",
    "3 4\n",
    "4 5\n",
    "dtype: int64\n",
    "sr2:\n",
    "0 2\n",
    "1 4\n",
    "2 6\n",
    "3 8\n",
    "4 10\n",
    "dtype: int64\n",
    "Items of sr1 not present in sr2:\n",
    "0 1\n",
    "2 3\n",
    "4 5\n",
    "dtype: int64"
   ]
  },
  {
   "cell_type": "code",
   "execution_count": 54,
   "id": "3a05199f",
   "metadata": {},
   "outputs": [
    {
     "name": "stdout",
     "output_type": "stream",
     "text": [
      "Original Series:\n",
      "sr1:\n",
      "0    1\n",
      "1    2\n",
      "2    3\n",
      "3    4\n",
      "4    5\n",
      "dtype: int64\n",
      "sr2:\n",
      "0     2\n",
      "1     4\n",
      "2     6\n",
      "3     8\n",
      "4    10\n",
      "dtype: int64\n",
      "\n",
      "Items of sr1 not present in sr2\n",
      "0    1\n",
      "2    3\n",
      "4    5\n",
      "dtype: int64\n"
     ]
    }
   ],
   "source": [
    "sr1=pd.Series([1,2,3,4,5])\n",
    "sr2=pd.Series([2,4,6,8,10])\n",
    "print(\"Original Series:\")\n",
    "print(\"sr1:\")\n",
    "print(sr1)\n",
    "print(\"sr2:\")\n",
    "print(sr2)\n",
    "print(\"\\nItems of sr1 not present in sr2\")\n",
    "result=sr1[~sr1.isin(sr2)]\n",
    "print(result)"
   ]
  },
  {
   "cell_type": "markdown",
   "id": "7dbc3ffe",
   "metadata": {},
   "source": [
    "17. Write a Pandas program to get the items which are not common of two given series.\n",
    "Sample Output:\n",
    "Original Series:\n",
    "sr1:\n",
    "0 1\n",
    "1 2\n",
    "2 3\n",
    "3 4\n",
    "4 5\n",
    "dtype: int64\n",
    "sr2:\n",
    "0 2\n",
    "1 4\n",
    "2 6\n",
    "3 8\n",
    "4 10\n",
    "\n",
    "dtype: int64\n",
    "Items of a given series not present in another given series:\n",
    "0 1\n",
    "2 3\n",
    "4 5\n",
    "5 6\n",
    "6 8\n",
    "7 10\n",
    "dtype: int64"
   ]
  },
  {
   "cell_type": "code",
   "execution_count": 55,
   "id": "54244f9f",
   "metadata": {},
   "outputs": [
    {
     "name": "stdout",
     "output_type": "stream",
     "text": [
      "Original Series :\n",
      "sr1 :\n",
      "0    1\n",
      "1    2\n",
      "2    3\n",
      "3    4\n",
      "4    5\n",
      "dtype: int64\n",
      "sr2 :\n",
      "0     2\n",
      "1     4\n",
      "2     6\n",
      "3     8\n",
      "4    10\n",
      "dtype: int64\n",
      "\n",
      " Items of a give series not present in another given Series:\n",
      "0     1\n",
      "2     3\n",
      "4     5\n",
      "5     6\n",
      "6     8\n",
      "7    10\n",
      "dtype: int64\n"
     ]
    }
   ],
   "source": [
    "sr1=pd.Series([1,2,3,4,5])\n",
    "sr2=pd.Series([2,4,6,8,10])\n",
    "print(\"Original Series :\")\n",
    "print(\"sr1 :\")\n",
    "print(sr1)\n",
    "print(\"sr2 :\")\n",
    "print(sr2)\n",
    "print(\"\\n Items of a give series not present in another given Series:\")\n",
    "sr11=pd.Series(np.union1d(sr1, sr2))\n",
    "sr22=pd.Series(np.intersect1d(sr1,sr2))\n",
    "result=sr11[~sr11.isin(sr22)]\n",
    "print(result)"
   ]
  },
  {
   "cell_type": "markdown",
   "id": "9f295bc1",
   "metadata": {},
   "source": [
    "18. Write a Pandas program to compute the minimum, 25th percentile, median, 75th, and\n",
    "maximum of a given series.\n",
    "Sample Output:\n",
    "Original Series:\n",
    "0 3.000938\n",
    "1 11.370722\n",
    "2 14.612143\n",
    "....\n",
    "17 14.118931\n",
    "18 8.247458\n",
    "19 5.526727\n",
    "dtype: float64\n",
    "Minimum, 25th percentile, median, 75th, and maximum of a given series:\n",
    "[ 3.00093811 8.09463867 10.23353705 12.21537733 14.61214321]"
   ]
  },
  {
   "cell_type": "code",
   "execution_count": 56,
   "id": "41238d80",
   "metadata": {},
   "outputs": [
    {
     "name": "stdout",
     "output_type": "stream",
     "text": [
      "Original Series:\n",
      "0      3.000938\n",
      "1     11.370722\n",
      "2     14.612143\n",
      "3      8.990256\n",
      "4     13.925283\n",
      "5     12.056875\n",
      "6     10.884719\n",
      "7      5.719827\n",
      "8      9.242017\n",
      "9     11.020006\n",
      "10     8.167892\n",
      "11    11.740654\n",
      "12     7.665620\n",
      "13    13.267388\n",
      "14    12.690883\n",
      "15     9.582355\n",
      "16     7.874878\n",
      "17    14.118931\n",
      "18     8.247458\n",
      "19     5.526727\n",
      "dtype: float64\n",
      "\n",
      "Minimum, 25th percentile, median , 75th and maximum of a given Series:\n",
      "[ 3.00093811  8.09463867 10.23353705 12.21537733 14.61214321]\n"
     ]
    }
   ],
   "source": [
    "num_state = np.random.RandomState(100)\n",
    "num_series = pd.Series(num_state.normal(10,4,20))\n",
    "print(\"Original Series:\")\n",
    "print(num_series)\n",
    "result = np.percentile(num_series, q=[0,25,50,75,100])\n",
    "print(\"\\nMinimum, 25th percentile, median , 75th and maximum of a given Series:\")\n",
    "print(result)"
   ]
  },
  {
   "cell_type": "markdown",
   "id": "0ee2fa2c",
   "metadata": {},
   "source": [
    "19. Write a Pandas program to calculate the frequency counts of each unique value of a\n",
    "given series.\n",
    "Sample Output:\n",
    "Original Series:\n",
    "0 1\n",
    "1 7\n",
    "2 1\n",
    "3 6\n",
    "...\n",
    "\n",
    "37 0\n",
    "38 4\n",
    "39 8\n",
    "dtype: object\n",
    "Frequency of each unique value of the said series.\n",
    "0 9\n",
    "2 7\n",
    "9 6\n",
    "....\n",
    "3 2\n",
    "4 1\n",
    "5 1"
   ]
  },
  {
   "cell_type": "code",
   "execution_count": 57,
   "id": "8f999ebb",
   "metadata": {},
   "outputs": [
    {
     "name": "stdout",
     "output_type": "stream",
     "text": [
      "Original Series:\n",
      "0     9\n",
      "1     8\n",
      "2     5\n",
      "3     7\n",
      "4     3\n",
      "5     7\n",
      "6     0\n",
      "7     4\n",
      "8     9\n",
      "9     0\n",
      "10    4\n",
      "11    6\n",
      "12    0\n",
      "13    0\n",
      "14    1\n",
      "15    3\n",
      "16    4\n",
      "17    1\n",
      "18    9\n",
      "19    3\n",
      "20    2\n",
      "21    3\n",
      "22    0\n",
      "23    1\n",
      "24    9\n",
      "25    7\n",
      "26    2\n",
      "27    0\n",
      "28    5\n",
      "29    6\n",
      "30    6\n",
      "31    8\n",
      "32    5\n",
      "33    7\n",
      "34    9\n",
      "35    7\n",
      "36    1\n",
      "37    4\n",
      "38    1\n",
      "39    1\n",
      "dtype: object\n",
      "Frequency of each unique value of the said series.\n",
      "0    6\n",
      "1    6\n",
      "9    5\n",
      "7    5\n",
      "3    4\n",
      "4    4\n",
      "5    3\n",
      "6    3\n",
      "8    2\n",
      "2    2\n",
      "Name: count, dtype: int64\n"
     ]
    }
   ],
   "source": [
    "import pandas as pd\n",
    "import numpy as np\n",
    "num_series = pd.Series(np.take(list('0123456789'), np.random.randint(10, size=40)))\n",
    "print(\"Original Series:\")\n",
    "print(num_series)\n",
    "print(\"Frequency of each unique value of the said series.\")\n",
    "result = num_series.value_counts()\n",
    "print(result)\n"
   ]
  },
  {
   "cell_type": "markdown",
   "id": "1e6d958a",
   "metadata": {},
   "source": [
    "20. Write a Pandas program to display most frequent value in a given series and replace\n",
    "everything else as 'Other' in the series.\n",
    "Sample Output:\n",
    "Original Series:\n",
    "0 3\n",
    "1 1\n",
    "2 1\n",
    "3 3\n",
    "...\n",
    "12 2\n",
    "13 3\n",
    "14 3\n",
    "dtype: int64\n",
    "Top 2 Freq: 2 6\n",
    "3 5\n",
    "1 4\n",
    "dtype: int64\n",
    "0 Other\n",
    "1 Other\n",
    "2 Other\n",
    "3 Other\n",
    "...\n",
    "11 2\n",
    "12 2\n",
    "13 Other\n",
    "14 Other\n",
    "dtype: object"
   ]
  },
  {
   "cell_type": "code",
   "execution_count": 58,
   "id": "45d6f5f3",
   "metadata": {},
   "outputs": [
    {
     "name": "stdout",
     "output_type": "stream",
     "text": [
      "Original Series:\n",
      "0     3\n",
      "1     1\n",
      "2     3\n",
      "3     4\n",
      "4     4\n",
      "5     3\n",
      "6     2\n",
      "7     2\n",
      "8     3\n",
      "9     3\n",
      "10    3\n",
      "11    3\n",
      "12    1\n",
      "13    1\n",
      "14    4\n",
      "dtype: int32\n",
      "Top 2 Freq: 3    7\n",
      "1    3\n",
      "4    3\n",
      "2    2\n",
      "Name: count, dtype: int64\n",
      "0         3\n",
      "1     Other\n",
      "2         3\n",
      "3     Other\n",
      "4     Other\n",
      "5         3\n",
      "6     Other\n",
      "7     Other\n",
      "8         3\n",
      "9         3\n",
      "10        3\n",
      "11        3\n",
      "12    Other\n",
      "13    Other\n",
      "14    Other\n",
      "dtype: object\n"
     ]
    }
   ],
   "source": [
    "import pandas as pd\n",
    "import numpy as np\n",
    "num_series = pd.Series(np.random.randint(1, 5, [15]))\n",
    "print(\"Original Series:\")\n",
    "print(num_series)\n",
    "print(\"Top 2 Freq:\", num_series.value_counts())\n",
    "result = num_series[~num_series.isin(num_series.value_counts().index[:1])] = 'Other'\n",
    "print(num_series)\n"
   ]
  },
  {
   "cell_type": "markdown",
   "id": "ac834379",
   "metadata": {},
   "source": [
    "21. Write a Pandas program to find the positions of numbers that are multiples of 5 of a\n",
    "given series.\n",
    "Sample Output:\n",
    "Original Series:\n",
    "0 1\n",
    "1 9\n",
    "2 8\n",
    "3 6\n",
    "4 9\n",
    "5 7\n",
    "6 1\n",
    "7 1\n",
    "8 1\n",
    "dtype: int64"
   ]
  },
  {
   "cell_type": "code",
   "execution_count": 59,
   "id": "bb339bbd",
   "metadata": {},
   "outputs": [
    {
     "name": "stdout",
     "output_type": "stream",
     "text": [
      "Original Series:\n",
      "0    1\n",
      "1    4\n",
      "2    8\n",
      "3    8\n",
      "4    8\n",
      "5    1\n",
      "6    6\n",
      "7    1\n",
      "8    9\n",
      "dtype: int32\n",
      "Positions of numbers that are multiples of 5:\n",
      "(array([], dtype=int64),)\n"
     ]
    }
   ],
   "source": [
    "num_series = pd.Series(np.random.randint(1, 10, 9))\n",
    "print(\"Original Series:\")\n",
    "print(num_series)\n",
    "result = np.where(num_series%5==0)\n",
    "print(\"Positions of numbers that are multiples of 5:\")\n",
    "print(result)"
   ]
  },
  {
   "cell_type": "markdown",
   "id": "75ff4639",
   "metadata": {},
   "source": [
    "22. Write a Pandas program to extract items at given positions of a given series.\n",
    "Sample Output:\n",
    "Original Series:\n",
    "0 2\n",
    "1 3\n",
    "2 9\n",
    "3 0\n",
    "4 2\n",
    "5 3\n",
    "...\n",
    "19 0\n",
    "20 2\n",
    "21 3\n",
    "dtype: object\n",
    "Extract items at given positions of the said series:\n",
    "0 2\n",
    "2 9\n",
    "6 8\n",
    "11 0\n",
    "21 3\n",
    "dtype: object"
   ]
  },
  {
   "cell_type": "code",
   "execution_count": 60,
   "id": "981a92fe",
   "metadata": {},
   "outputs": [
    {
     "name": "stdout",
     "output_type": "stream",
     "text": [
      "Original Series:\n",
      "0     2\n",
      "1     3\n",
      "2     9\n",
      "3     0\n",
      "4     2\n",
      "5     3\n",
      "6     8\n",
      "7     9\n",
      "8     2\n",
      "9     3\n",
      "10    9\n",
      "11    0\n",
      "12    2\n",
      "13    3\n",
      "14    9\n",
      "15    0\n",
      "16    2\n",
      "17    3\n",
      "18    9\n",
      "19    0\n",
      "20    2\n",
      "21    3\n",
      "dtype: object\n",
      "\\Extract items at given positions of the said series:\n",
      "0     2\n",
      "2     9\n",
      "6     8\n",
      "11    0\n",
      "21    3\n",
      "dtype: object\n"
     ]
    },
    {
     "name": "stderr",
     "output_type": "stream",
     "text": [
      "<>:6: SyntaxWarning: invalid escape sequence '\\E'\n",
      "<>:6: SyntaxWarning: invalid escape sequence '\\E'\n",
      "C:\\Users\\Asus\\AppData\\Local\\Temp\\ipykernel_13640\\3522767750.py:6: SyntaxWarning: invalid escape sequence '\\E'\n",
      "  print(\"\\Extract items at given positions of the said series:\")\n"
     ]
    }
   ],
   "source": [
    "num_series = pd.Series(list('2390238923902390239023'))\n",
    "element_pos = [0,2,6,11,21]\n",
    "print(\"Original Series:\")\n",
    "print(num_series)\n",
    "result=num_series.take(element_pos)\n",
    "print(\"\\Extract items at given positions of the said series:\")\n",
    "print(result)"
   ]
  },
  {
   "cell_type": "markdown",
   "id": "fd628582",
   "metadata": {},
   "source": [
    "23. Write a Pandas program to get the positions of items of a given series in another\n",
    "given series.\n",
    "Sample Output:\n",
    "Original Series:\n",
    "0 1\n",
    "1 2\n",
    "2 3\n",
    "3 4\n",
    "4 5\n",
    "5 6\n",
    "6 7\n",
    "7 8\n",
    "8 9\n",
    "9 10\n",
    "dtype: int64\n",
    "0 1\n",
    "1 3\n",
    "2 5\n",
    "3 7\n",
    "4 10\n",
    "dtype: int64\n",
    "Positions of items of series2 in series1:\n",
    "[0, 2, 4, 6, 9]"
   ]
  },
  {
   "cell_type": "code",
   "execution_count": 61,
   "id": "404d906b",
   "metadata": {},
   "outputs": [
    {
     "name": "stdout",
     "output_type": "stream",
     "text": [
      "Original Series:\n",
      "0     1\n",
      "1     2\n",
      "2     3\n",
      "3     4\n",
      "4     5\n",
      "5     6\n",
      "6     7\n",
      "7     8\n",
      "8     9\n",
      "9    10\n",
      "dtype: int64\n",
      "0     1\n",
      "1     3\n",
      "2     5\n",
      "3     7\n",
      "4    10\n",
      "dtype: int64\n",
      "\n",
      "\n",
      "Position of items of series2 in series1:\n",
      "[0, 2, 4, 6, 9]\n"
     ]
    }
   ],
   "source": [
    "series1 = pd.Series([1,2,3,4,5,6,7,8,9,10])\n",
    "series2 = pd.Series([1,3,5,7,10])\n",
    "print(\"Original Series:\")\n",
    "print(series1)\n",
    "print(series2)\n",
    "print('\\n')\n",
    "result = [pd.Index(series1).get_loc(i) for i in series2]\n",
    "print(\"Position of items of series2 in series1:\")\n",
    "print(result)"
   ]
  },
  {
   "cell_type": "markdown",
   "id": "3d774495",
   "metadata": {},
   "source": [
    "24. Write a Pandas program convert the first and last character of each word to upper\n",
    "case in each word of a given series.\n",
    "Sample Output:\n",
    "Original Series:\n",
    "0 php\n",
    "1 python\n",
    "2 java\n",
    "3 c#\n",
    "dtype: object\n",
    "First and last character of each word to upper case:\n",
    "0 PhP\n",
    "1 PythoN\n",
    "2 JavA\n",
    "3 C#\n",
    "dtype: object"
   ]
  },
  {
   "cell_type": "code",
   "execution_count": 62,
   "id": "3ce4689e",
   "metadata": {},
   "outputs": [
    {
     "name": "stdout",
     "output_type": "stream",
     "text": [
      "Original Series:\n",
      "0       php\n",
      "1    python\n",
      "2      java\n",
      "3        c#\n",
      "dtype: object\n",
      "\n",
      "First and last character of each word to upper case:\n",
      "0       PhP\n",
      "1    PythoN\n",
      "2      JavA\n",
      "3        C#\n",
      "dtype: object\n"
     ]
    }
   ],
   "source": [
    "series1=pd.Series(['php', 'python', 'java', 'c#'])\n",
    "print(\"Original Series:\")\n",
    "print(series1)\n",
    "result = series1.map(lambda x: x[0].upper() + x[1:-1] + x[-1].upper())\n",
    "print(\"\\nFirst and last character of each word to upper case:\")\n",
    "print(result)\n",
    "\n"
   ]
  },
  {
   "cell_type": "markdown",
   "id": "256d17a3",
   "metadata": {},
   "source": [
    "25. Write a Pandas program to calculate the number of characters in each word in a given\n",
    "series.\n",
    "Sample Output:\n",
    "Original Series:\n",
    "0 Php\n",
    "1 Python\n",
    "2 Java\n",
    "3 C#\n",
    "dtype: object\n",
    "Number of characters in each word in the said series:\n",
    "0 3\n",
    "1 6\n",
    "2 4\n",
    "3 2\n",
    "dtype: int64"
   ]
  },
  {
   "cell_type": "code",
   "execution_count": 63,
   "id": "ff969f18",
   "metadata": {},
   "outputs": [
    {
     "name": "stdout",
     "output_type": "stream",
     "text": [
      "Original Series:\n",
      "0       Php\n",
      "1    python\n",
      "2      java\n",
      "3        c#\n",
      "dtype: object\n",
      "\n",
      " NUmber of characters in each word in the said series:\n",
      "0    3\n",
      "1    6\n",
      "2    4\n",
      "3    2\n",
      "dtype: int64\n"
     ]
    }
   ],
   "source": [
    "series1 = pd.Series(['Php', 'python', 'java', 'c#'])\n",
    "print(\"Original Series:\")\n",
    "print(series1)\n",
    "result = series1.map(lambda x:len(x))\n",
    "print(\"\\n NUmber of characters in each word in the said series:\")\n",
    "print(result)"
   ]
  },
  {
   "cell_type": "markdown",
   "id": "8fd40159",
   "metadata": {},
   "source": [
    "26. Write a Pandas program to compute difference of differences between consecutive\n",
    "numbers of a given series.\n",
    "Sample Output:\n",
    "Original Series:\n",
    "0 1\n",
    "1 3\n",
    "2 5\n",
    "3 8\n",
    "4 10\n",
    "5 11\n",
    "6 15\n",
    "dtype: int64\n",
    "Difference of differences between consecutive numbers of the said series:\n",
    "[nan, 2.0, 2.0, 3.0, 2.0, 1.0, 4.0]\n",
    "[nan, nan, 0.0, 1.0, -1.0, -1.0, 3.0]"
   ]
  },
  {
   "cell_type": "code",
   "execution_count": 64,
   "id": "9a8e6b84",
   "metadata": {},
   "outputs": [
    {
     "name": "stdout",
     "output_type": "stream",
     "text": [
      "Original Series:\n",
      "0     1\n",
      "1     3\n",
      "2     5\n",
      "3     8\n",
      "4    10\n",
      "5    11\n",
      "6    15\n",
      "dtype: int64\n",
      "\n",
      "Difference of differences between consecutive numbers of the said series:\n",
      "[nan, 2.0, 2.0, 3.0, 2.0, 1.0, 4.0]\n",
      "[nan, nan, 0.0, 1.0, -1.0, -1.0, 3.0]\n"
     ]
    }
   ],
   "source": [
    "series1=pd.Series([1,3,5,8,10,11,15])\n",
    "print(\"Original Series:\")\n",
    "print(series1)\n",
    "print(\"\\nDifference of differences between consecutive numbers of the said series:\")\n",
    "print(series1.diff().tolist())\n",
    "print(series1.diff().diff().tolist())\n",
    "\n"
   ]
  },
  {
   "cell_type": "markdown",
   "id": "4a9dea30",
   "metadata": {},
   "source": [
    "27. Write a Pandas program to convert a series of date strings to a timeseries.\n",
    "Sample Output:\n",
    "Original Series:\n",
    "0 01 Jan 2015\n",
    "1 10-02-2016\n",
    "2 20180307\n",
    "3 2014/05/06\n",
    "4 2016-04-12\n",
    "5 2019-04-06T11:20\n",
    "dtype: object\n",
    "Series of date strings to a timeseries:\n",
    "0 2015-01-01 00:00:00\n",
    "1 2016-10-02 00:00:00\n",
    "2 2018-03-07 00:00:00\n",
    "3 2014-05-06 00:00:00\n",
    "4 2016-04-12 00:00:00\n",
    "5 2019-04-06 11:20:00\n",
    "dtype: datetime64[ns]"
   ]
  },
  {
   "cell_type": "code",
   "execution_count": 65,
   "id": "24449edb",
   "metadata": {},
   "outputs": [],
   "source": [
    "# date_series = pd.Series(['01 Jan 2015', '10-02-2016', '20180307', '2014/05/06', '2016-04-12', '2019-04-06T11:20'])\n",
    "# print(\"Original Series:\")\n",
    "# print(date_series)\n",
    "# print(\"\\nSeries of date strings to a timeseries:\")\n",
    "# print(pd.to_datetime(date_series))"
   ]
  },
  {
   "cell_type": "markdown",
   "id": "e03d8caa",
   "metadata": {},
   "source": [
    "28. Write a Pandas program to get the day of month, day of year, week number and day\n",
    "of week from a given series of date strings.\n",
    "Sample Output:\n",
    "Original Series:\n",
    "0 01 Jan 2015\n",
    "1 10-02-2016\n",
    "2 20180307\n",
    "3 2014/05/06\n",
    "4 2016-04-12\n",
    "5 2019-04-06T11:20\n",
    "dtype: object\n",
    "Day of month:\n",
    "[1, 2, 7, 6, 12, 6]\n",
    "Day of year:\n",
    "[1, 276, 66, 126, 103, 96]\n",
    "Week number:\n",
    "[1, 39, 10, 19, 15, 14]\n",
    "Day of week:\n",
    "['Thursday', 'Sunday', 'Wednesday', 'Tuesday', 'Tuesday', 'Saturday']"
   ]
  },
  {
   "cell_type": "code",
   "execution_count": null,
   "id": "a7ac820a",
   "metadata": {},
   "outputs": [
    {
     "name": "stdout",
     "output_type": "stream",
     "text": [
      "Original Series:\n",
      "0         01 Jan 2015\n",
      "1          10-02-2016\n",
      "2            20180307\n",
      "3          2014/05/06\n",
      "4          2016-04-12\n",
      "5    2019-04-06T11:20\n",
      "dtype: object\n",
      "Day of month:\n",
      "[1, 2, 7, 6, 12, 6]\n",
      "Day of year:\n",
      "[1, 276, 66, 126, 103, 96]\n",
      "Week number:\n"
     ]
    },
    {
     "ename": "AttributeError",
     "evalue": "'DatetimeProperties' object has no attribute 'weekofyear'",
     "output_type": "error",
     "traceback": [
      "\u001b[1;31m---------------------------------------------------------------------------\u001b[0m",
      "\u001b[1;31mAttributeError\u001b[0m                            Traceback (most recent call last)",
      "\u001b[1;32m~\\AppData\\Local\\Temp\\ipykernel_13640\\2541727384.py\u001b[0m in \u001b[0;36m<cell line: 0>\u001b[1;34m()\u001b[0m\n\u001b[0;32m     10\u001b[0m \u001b[0mprint\u001b[0m\u001b[1;33m(\u001b[0m\u001b[0mdate_series\u001b[0m\u001b[1;33m.\u001b[0m\u001b[0mdt\u001b[0m\u001b[1;33m.\u001b[0m\u001b[0mdayofyear\u001b[0m\u001b[1;33m.\u001b[0m\u001b[0mtolist\u001b[0m\u001b[1;33m(\u001b[0m\u001b[1;33m)\u001b[0m\u001b[1;33m)\u001b[0m\u001b[1;33m\u001b[0m\u001b[1;33m\u001b[0m\u001b[0m\n\u001b[0;32m     11\u001b[0m \u001b[0mprint\u001b[0m\u001b[1;33m(\u001b[0m\u001b[1;34m\"Week number:\"\u001b[0m\u001b[1;33m)\u001b[0m\u001b[1;33m\u001b[0m\u001b[1;33m\u001b[0m\u001b[0m\n\u001b[1;32m---> 12\u001b[1;33m \u001b[0mprint\u001b[0m\u001b[1;33m(\u001b[0m\u001b[0mdate_series\u001b[0m\u001b[1;33m.\u001b[0m\u001b[0mdt\u001b[0m\u001b[1;33m.\u001b[0m\u001b[0mweekofyear\u001b[0m\u001b[1;33m.\u001b[0m\u001b[0mtolist\u001b[0m\u001b[1;33m(\u001b[0m\u001b[1;33m)\u001b[0m\u001b[1;33m)\u001b[0m\u001b[1;33m\u001b[0m\u001b[1;33m\u001b[0m\u001b[0m\n\u001b[0m\u001b[0;32m     13\u001b[0m \u001b[0mprint\u001b[0m\u001b[1;33m(\u001b[0m\u001b[1;34m\"Day of week:\"\u001b[0m\u001b[1;33m)\u001b[0m\u001b[1;33m\u001b[0m\u001b[1;33m\u001b[0m\u001b[0m\n\u001b[0;32m     14\u001b[0m \u001b[0mprint\u001b[0m\u001b[1;33m(\u001b[0m\u001b[0mdate_series\u001b[0m\u001b[1;33m.\u001b[0m\u001b[0mdt\u001b[0m\u001b[1;33m.\u001b[0m\u001b[0mweekday_name\u001b[0m\u001b[1;33m.\u001b[0m\u001b[0mtolist\u001b[0m\u001b[1;33m(\u001b[0m\u001b[1;33m)\u001b[0m\u001b[1;33m)\u001b[0m\u001b[1;33m\u001b[0m\u001b[1;33m\u001b[0m\u001b[0m\n",
      "\u001b[1;31mAttributeError\u001b[0m: 'DatetimeProperties' object has no attribute 'weekofyear'"
     ]
    }
   ],
   "source": [
    "# import pandas as pd\n",
    "# from dateutil.parser import parse\n",
    "# date_series = pd.Series(['01 Jan 2015', '10-02-2016', '20180307', '2014/05/06', '2016-04-12', '2019-04-06T11:20'])\n",
    "# print(\"Original Series:\")\n",
    "# print(date_series)\n",
    "# date_series = date_series.map(lambda x: parse(x))\n",
    "# print(\"Day of month:\")\n",
    "# print(date_series.dt.day.tolist())\n",
    "# print(\"Day of year:\")\n",
    "# print(date_series.dt.dayofyear.tolist())\n",
    "# print(\"Week number:\")\n",
    "# print(date_series.dt.weekofyear.tolist())\n",
    "# print(\"Day of week:\")\n",
    "# print(date_series.dt.weekday_name.tolist())\n"
   ]
  },
  {
   "cell_type": "markdown",
   "id": "bd165a58",
   "metadata": {},
   "source": [
    "29. Write a Pandas program to convert year-month string to dates adding a specified day\n",
    "of the month.\n",
    "Sample Output:\n",
    "Original Series:\n",
    "0 Jan 2015\n",
    "1 Feb 2016\n",
    "2 Mar 2017\n",
    "3 Apr 2018\n",
    "4 May 2019\n",
    "\n",
    "dtype: object\n",
    "New dates:\n",
    "0 2015-01-11\n",
    "1 2016-02-11\n",
    "2 2017-03-11\n",
    "3 2018-04-11\n",
    "4 2019-05-11\n",
    "dtype: datetime64[ns]"
   ]
  },
  {
   "cell_type": "code",
   "execution_count": 67,
   "id": "d16b9dcc",
   "metadata": {},
   "outputs": [
    {
     "name": "stdout",
     "output_type": "stream",
     "text": [
      "Original Series:\n",
      "0    Jan 2015\n",
      "1    Feb 2016\n",
      "2    Mar 2017\n",
      "3    Apr 2018\n",
      "4    May 2019\n",
      "dtype: object\n",
      "\n",
      "New dates:\n",
      "0   2015-01-11\n",
      "1   2016-02-11\n",
      "2   2017-03-11\n",
      "3   2018-04-11\n",
      "4   2019-05-11\n",
      "dtype: datetime64[ns]\n"
     ]
    }
   ],
   "source": [
    "import pandas as pd\n",
    "from dateutil.parser import parse\n",
    "date_series = pd.Series(['Jan 2015', 'Feb 2016', 'Mar 2017', 'Apr 2018', 'May 2019'])\n",
    "print(\"Original Series:\")\n",
    "print(date_series)\n",
    "print(\"\\nNew dates:\")\n",
    "result = date_series.map(lambda d: parse('11 ' + d))\n",
    "print(result)\n"
   ]
  },
  {
   "cell_type": "markdown",
   "id": "b7fe76a0",
   "metadata": {},
   "source": [
    "30. Write a Pandas program to filter words from a given series that contain atleast two\n",
    "vowels.\n",
    "Sample Output:\n",
    "Original Series:\n",
    "0 Red\n",
    "1 Green\n",
    "2 Orange\n",
    "3 Pink\n",
    "4 Yellow\n",
    "5 White\n",
    "dtype: object\n",
    "Filtered words:\n",
    "1 Green\n",
    "2 Orange\n",
    "4 Yellow\n",
    "5 White\n",
    "dtype: object"
   ]
  },
  {
   "cell_type": "code",
   "execution_count": 68,
   "id": "44416cce",
   "metadata": {},
   "outputs": [
    {
     "name": "stdout",
     "output_type": "stream",
     "text": [
      "Original Series:\n",
      "0       Red\n",
      "1     Green\n",
      "2    Orange\n",
      "3      Pink\n",
      "4    Yellow\n",
      "5     White\n",
      "dtype: object\n",
      "\n",
      "Filtered words:\n",
      "1     Green\n",
      "2    Orange\n",
      "4    Yellow\n",
      "5     White\n",
      "dtype: object\n"
     ]
    }
   ],
   "source": [
    "import pandas as pd\n",
    "from collections import Counter\n",
    "color_series = pd.Series(['Red', 'Green', 'Orange', 'Pink', 'Yellow', 'White'])\n",
    "print(\"Original Series:\")\n",
    "print(color_series)\n",
    "print(\"\\nFiltered words:\")\n",
    "result =color_series.map(lambda c: sum([Counter(c.lower()).get(i, 0) for i in list('aeiou')]) >= 2)\n",
    "print(color_series[result])\n"
   ]
  },
  {
   "cell_type": "markdown",
   "id": "cccb78ee",
   "metadata": {},
   "source": [
    "31. Write a Pandas program to compute the Euclidean distance between two given series.\n",
    "Euclidean distance\n",
    "From Wikipedia,\n",
    "In mathematics, the Euclidean distance or Euclidean metric is the \"ordinary\" straight-line\n",
    "distance between two points in Euclidean space. With this distance, Euclidean space\n",
    "becomes a metric space. The associated norm is called the Euclidean norm.\n",
    "Sample Output:\n",
    "Original series:\n",
    "0 1\n",
    "1 2\n",
    "2 3\n",
    "3 4\n",
    "4 5\n",
    "5 6\n",
    "6 7\n",
    "7 8\n",
    "8 9\n",
    "9 10\n",
    "dtype: int64\n",
    "0 11\n",
    "\n",
    "1 8\n",
    "2 7\n",
    "3 5\n",
    "4 6\n",
    "5 5\n",
    "6 3\n",
    "7 4\n",
    "8 7\n",
    "9 1\n",
    "dtype: int64\n",
    "Euclidean distance between two said series:\n",
    "16.492422502470642"
   ]
  },
  {
   "cell_type": "code",
   "execution_count": 69,
   "id": "8b91b43d",
   "metadata": {},
   "outputs": [
    {
     "name": "stdout",
     "output_type": "stream",
     "text": [
      "Original series:\n",
      "0     1\n",
      "1     2\n",
      "2     3\n",
      "3     4\n",
      "4     5\n",
      "5     6\n",
      "6     7\n",
      "7     8\n",
      "8     9\n",
      "9    10\n",
      "dtype: int64\n",
      "0    11\n",
      "1     8\n",
      "2     7\n",
      "3     5\n",
      "4     6\n",
      "5     5\n",
      "6     3\n",
      "7     4\n",
      "8     7\n",
      "9     1\n",
      "dtype: int64\n",
      "\n",
      "Euclidean distance between two said series:\n",
      "16.492422502470642\n"
     ]
    }
   ],
   "source": [
    "import pandas as pd\n",
    "import numpy as np\n",
    "x = pd.Series([1, 2, 3, 4, 5, 6, 7, 8, 9, 10])\n",
    "y = pd.Series([11, 8, 7, 5, 6, 5, 3, 4, 7, 1])\n",
    "print(\"Original series:\")\n",
    "print(x)\n",
    "print(y)\n",
    "print(\"\\nEuclidean distance between two said series:\")\n",
    "print(np.linalg.norm(x-y))\n"
   ]
  },
  {
   "cell_type": "markdown",
   "id": "a46191d5",
   "metadata": {},
   "source": [
    "32. Write a Pandas program to find the positions of the values neighboured by smaller\n",
    "values on both sides in a given series.\n",
    "Sample Output:\n",
    "Original series:\n",
    "0 1\n",
    "1 8\n",
    "2 7\n",
    "3 5\n",
    "4 6\n",
    "5 5\n",
    "6 3\n",
    "7 4\n",
    "8 7\n",
    "9 1\n",
    "dtype: int64\n",
    "Positions of the values surrounded by smaller values on both sides:\n",
    "[1 4 8]"
   ]
  },
  {
   "cell_type": "code",
   "execution_count": 70,
   "id": "ae3dd7bf",
   "metadata": {},
   "outputs": [
    {
     "name": "stdout",
     "output_type": "stream",
     "text": [
      "Original series:\n",
      "0    1\n",
      "1    8\n",
      "2    7\n",
      "3    5\n",
      "4    6\n",
      "5    5\n",
      "6    3\n",
      "7    4\n",
      "8    7\n",
      "9    1\n",
      "dtype: int64\n",
      "\n",
      "Positions of the values surrounded by smaller values on both sides:\n",
      "[1 4 8]\n"
     ]
    }
   ],
   "source": [
    "import pandas as pd\n",
    "import numpy as np\n",
    "nums = pd.Series([1, 8, 7, 5, 6, 5, 3, 4, 7, 1])\n",
    "print(\"Original series:\")\n",
    "print(nums)\n",
    "print(\"\\nPositions of the values surrounded by smaller values on both sides:\")\n",
    "temp = np.diff(np.sign(np.diff(nums)))\n",
    "result = np.where(temp == -2)[0] + 1\n",
    "print(result)\n"
   ]
  },
  {
   "cell_type": "markdown",
   "id": "07c9910d",
   "metadata": {},
   "source": [
    "33. Write a Pandas program to replace missing white spaces in a given string with the\n",
    "least frequent character.\n",
    "Sample Output:\n",
    "Original series:\n",
    "abc def abcdef icd\n",
    "c 3\n",
    "d 3\n",
    "3\n",
    "b 2\n",
    "e 2\n",
    "a 2\n",
    "f 2\n",
    "i 1\n",
    "dtype: int64\n",
    "abcidefiabcdefiicd"
   ]
  },
  {
   "cell_type": "code",
   "execution_count": null,
   "id": "8ec6fede",
   "metadata": {},
   "outputs": [],
   "source": []
  },
  {
   "cell_type": "code",
   "execution_count": null,
   "id": "915bf550",
   "metadata": {},
   "outputs": [],
   "source": []
  },
  {
   "cell_type": "code",
   "execution_count": null,
   "id": "b5cb6055",
   "metadata": {},
   "outputs": [],
   "source": []
  },
  {
   "cell_type": "code",
   "execution_count": null,
   "id": "993afe23",
   "metadata": {},
   "outputs": [],
   "source": []
  },
  {
   "cell_type": "code",
   "execution_count": null,
   "id": "d310be2f",
   "metadata": {},
   "outputs": [],
   "source": []
  },
  {
   "cell_type": "code",
   "execution_count": null,
   "id": "f82b61d6",
   "metadata": {},
   "outputs": [],
   "source": []
  }
 ],
 "metadata": {
  "kernelspec": {
   "display_name": "base",
   "language": "python",
   "name": "python3"
  },
  "language_info": {
   "codemirror_mode": {
    "name": "ipython",
    "version": 3
   },
   "file_extension": ".py",
   "mimetype": "text/x-python",
   "name": "python",
   "nbconvert_exporter": "python",
   "pygments_lexer": "ipython3",
   "version": "3.12.10"
  }
 },
 "nbformat": 4,
 "nbformat_minor": 5
}
